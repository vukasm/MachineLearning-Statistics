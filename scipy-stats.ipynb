{
 "cells": [
  {
   "cell_type": "markdown",
   "id": "b391fde4",
   "metadata": {},
   "source": [
    "# My favorite Scipy-Stats algorithms\n",
    "This notebook contains a demonstration and visualisation of a hypothesis testing using ANOVA, available through scipy-stats Python library."
   ]
  },
  {
   "cell_type": "markdown",
   "id": "52eb7667",
   "metadata": {},
   "source": [
    "## 1. ANOVA"
   ]
  },
  {
   "cell_type": "markdown",
   "id": "86a0c6ad",
   "metadata": {},
   "source": [
    "## 2. Dataset"
   ]
  },
  {
   "cell_type": "markdown",
   "id": "70c13e7e",
   "metadata": {},
   "source": [
    "## 3. Null - Hypothesis"
   ]
  },
  {
   "cell_type": "markdown",
   "id": "edcc258a",
   "metadata": {},
   "source": [
    "## 4. Testing"
   ]
  },
  {
   "cell_type": "markdown",
   "id": "50f5eae3",
   "metadata": {},
   "source": [
    "## 5. Interpretation"
   ]
  },
  {
   "cell_type": "markdown",
   "id": "8f459f65",
   "metadata": {},
   "source": [
    "## 6. Conclusion"
   ]
  },
  {
   "cell_type": "markdown",
   "id": "87af2650",
   "metadata": {},
   "source": [
    "## References\n",
    "\"Statistical functions (scipy.stats) - scipy v1.7.1 manual\", 2021. [Online]. Available: https://docs.scipy.org/doc/scipy/reference/stats.html"
   ]
  },
  {
   "cell_type": "code",
   "execution_count": null,
   "id": "993b3428",
   "metadata": {},
   "outputs": [],
   "source": []
  },
  {
   "cell_type": "code",
   "execution_count": null,
   "id": "e12a914a",
   "metadata": {},
   "outputs": [],
   "source": []
  },
  {
   "cell_type": "code",
   "execution_count": null,
   "id": "fb13e8cd",
   "metadata": {},
   "outputs": [],
   "source": []
  },
  {
   "cell_type": "code",
   "execution_count": null,
   "id": "0ae130c1",
   "metadata": {},
   "outputs": [],
   "source": []
  },
  {
   "cell_type": "markdown",
   "id": "d2f465c0",
   "metadata": {},
   "source": [
    "### Notes"
   ]
  },
  {
   "cell_type": "markdown",
   "id": "cce3ea9a",
   "metadata": {},
   "source": [
    "#### probability distributions"
   ]
  },
  {
   "cell_type": "markdown",
   "id": "f78f22d1",
   "metadata": {},
   "source": [
    "Uniform - each value is equaly likely to be picked"
   ]
  },
  {
   "cell_type": "code",
   "execution_count": 2,
   "id": "70b01eb1",
   "metadata": {},
   "outputs": [],
   "source": [
    "%matplotlib inline\n",
    "\n",
    "import numpy as np\n",
    "import pandas as pd\n",
    "import matplotlib.pyplot as plt\n",
    "import scipy.stats as stats"
   ]
  },
  {
   "cell_type": "code",
   "execution_count": 5,
   "id": "66caa61b",
   "metadata": {},
   "outputs": [],
   "source": [
    "uniform_data=stats.uniform.rvs(size=100000, #generate random 10k numbers\n",
    "                               loc=0, #from 0\n",
    "                               scale=10) #to 10"
   ]
  },
  {
   "cell_type": "code",
   "execution_count": 6,
   "id": "c2e321ee",
   "metadata": {},
   "outputs": [
    {
     "data": {
      "image/png": "[encoded data removed]",
      "text/plain": [
       "<Figure size 648x648 with 1 Axes>"
      ]
     },
     "metadata": {
      "needs_background": "light"
     },
     "output_type": "display_data"
    }
   ],
   "source": [
    "pd.DataFrame (uniform_data).plot(kind=\"density\", #Plot the distribution\n",
    "                                figsize=(9,9),\n",
    "                                xlim=(-1,11));"
   ]
  },
  {
   "cell_type": "markdown",
   "id": "4b817c3d",
   "metadata": {},
   "source": [
    "we have the flat value where each value is equally likely to happen"
   ]
  },
  {
   "cell_type": "code",
   "execution_count": 7,
   "id": "8f4c2bb8",
   "metadata": {},
   "outputs": [
    {
     "data": {
      "text/plain": [
       "0.25"
      ]
     },
     "execution_count": 7,
     "metadata": {},
     "output_type": "execute_result"
    }
   ],
   "source": [
    "stats.uniform.cdf(x=2.5, #cutoff value (quantile) to check\n",
    "                 loc=0, #distribution start\n",
    "                 scale=10) #distribution end\n",
    "\n",
    "#cdf gives you an area under the distribution's density to the left of a certain value of the x axis"
   ]
  },
  {
   "cell_type": "code",
   "execution_count": 8,
   "id": "89af1798",
   "metadata": {},
   "outputs": [
    {
     "data": {
      "text/plain": [
       "4.0"
      ]
     },
     "execution_count": 8,
     "metadata": {},
     "output_type": "execute_result"
    }
   ],
   "source": [
    "stats.uniform.ppf(q=0.4, #what x value we need to slice 40% of dist to the left of it?\n",
    "                 loc=0,\n",
    "                 scale=10)\n",
    "\n",
    "#invers of cdf"
   ]
  },
  {
   "cell_type": "code",
   "execution_count": 10,
   "id": "9ed29d2b",
   "metadata": {},
   "outputs": [
    {
     "name": "stdout",
     "output_type": "stream",
     "text": [
      "Density at x value-1\n",
      "0.0\n",
      "Density at x value2\n",
      "0.1\n",
      "Density at x value5\n",
      "0.1\n",
      "Density at x value8\n",
      "0.1\n",
      "Density at x value11\n",
      "0.0\n"
     ]
    }
   ],
   "source": [
    "#stats.distribution.pdf()\n",
    "\n",
    "for x in range (-1,12,3):\n",
    "    print(\"Density at x value\"+str(x))\n",
    "    print(stats.uniform.pdf(x,loc=0,scale=10))"
   ]
  },
  {
   "cell_type": "markdown",
   "id": "07b7579b",
   "metadata": {},
   "source": [
    "Values outsode of range have no probability of happening while all values inside of range have equal probability."
   ]
  },
  {
   "cell_type": "code",
   "execution_count": 11,
   "id": "4cc23f8a",
   "metadata": {},
   "outputs": [],
   "source": [
    "import random"
   ]
  },
  {
   "cell_type": "code",
   "execution_count": 12,
   "id": "2d1f4ceb",
   "metadata": {},
   "outputs": [
    {
     "data": {
      "text/plain": [
       "1"
      ]
     },
     "execution_count": 12,
     "metadata": {},
     "output_type": "execute_result"
    }
   ],
   "source": [
    "random.randint(0,10) #get a random integer in a specific range"
   ]
  },
  {
   "cell_type": "code",
   "execution_count": 13,
   "id": "96ba8298",
   "metadata": {},
   "outputs": [
    {
     "data": {
      "text/plain": [
       "9"
      ]
     },
     "execution_count": 13,
     "metadata": {},
     "output_type": "execute_result"
    }
   ],
   "source": [
    "random.choice([2,4,6,9]) #get a random element from a sequence of numbers"
   ]
  },
  {
   "cell_type": "code",
   "execution_count": 14,
   "id": "83549d0c",
   "metadata": {},
   "outputs": [
    {
     "data": {
      "text/plain": [
       "0.4544141499018053"
      ]
     },
     "execution_count": 14,
     "metadata": {},
     "output_type": "execute_result"
    }
   ],
   "source": [
    "random.random() #get a real number between 0 and 1; balically from uniform distribution"
   ]
  },
  {
   "cell_type": "code",
   "execution_count": 18,
   "id": "fdbc1399",
   "metadata": {},
   "outputs": [
    {
     "data": {
      "text/plain": [
       "0.13947427862793504"
      ]
     },
     "execution_count": 18,
     "metadata": {},
     "output_type": "execute_result"
    }
   ],
   "source": [
    "random.uniform(0,1) #output not the same as there is no seed"
   ]
  },
  {
   "cell_type": "code",
   "execution_count": 26,
   "id": "4994d487",
   "metadata": {},
   "outputs": [
    {
     "data": {
      "text/plain": [
       "0.4745706786885481"
      ]
     },
     "execution_count": 26,
     "metadata": {},
     "output_type": "execute_result"
    }
   ],
   "source": [
    "random.seed(12)\n",
    "random.uniform(0,1)"
   ]
  },
  {
   "cell_type": "code",
   "execution_count": 27,
   "id": "86f836c2",
   "metadata": {},
   "outputs": [
    {
     "data": {
      "text/plain": [
       "0.4745706786885481"
      ]
     },
     "execution_count": 27,
     "metadata": {},
     "output_type": "execute_result"
    }
   ],
   "source": [
    "random.seed(12)\n",
    "random.random()"
   ]
  },
  {
   "cell_type": "markdown",
   "id": "f4c8c1f9",
   "metadata": {},
   "source": [
    "Now we have the same output."
   ]
  },
  {
   "cell_type": "markdown",
   "id": "3bc87c39",
   "metadata": {},
   "source": [
    "Numpy and scipy have different built in functions for generating random numbers"
   ]
  },
  {
   "cell_type": "markdown",
   "id": "2ebefa21",
   "metadata": {},
   "source": [
    "#### Normal distribution"
   ]
  },
  {
   "cell_type": "markdown",
   "id": "24674b26",
   "metadata": {},
   "source": [
    "Bell shaped curve, mean and median are equal. 99.7% lies within 3 standard deviations."
   ]
  },
  {
   "cell_type": "code",
   "execution_count": 28,
   "id": "07095901",
   "metadata": {},
   "outputs": [
    {
     "name": "stdout",
     "output_type": "stream",
     "text": [
      "0.15865525393145707 0.6826894921370859\n"
     ]
    }
   ],
   "source": [
    "prob_under_minus1=stats.norm.cdf(x=-1,\n",
    "                                loc=0,\n",
    "                                scale=1)\n",
    "prob_over_1= 1- stats.norm.cdf(x=1,\n",
    "                                loc=0,\n",
    "                                scale=1)\n",
    "between_prob=1-(prob_under_minus1+prob_over_1)\n",
    "print(prob_under_minus1,between_prob)"
   ]
  },
  {
   "cell_type": "markdown",
   "id": "64283602",
   "metadata": {},
   "source": [
    "Roughly 16% of data generated by a normal distr. is within 1 standard deviation from the mean."
   ]
  },
  {
   "cell_type": "code",
   "execution_count": 30,
   "id": "0bdf1042",
   "metadata": {},
   "outputs": [
    {
     "name": "stdout",
     "output_type": "stream",
     "text": [
      "-1.9599639845400545\n"
     ]
    }
   ],
   "source": [
    "print(stats.norm.ppf(q=0.025)) #find the quantile for 2.5% cutoff\n"
   ]
  },
  {
   "cell_type": "code",
   "execution_count": 32,
   "id": "596ab608",
   "metadata": {},
   "outputs": [
    {
     "name": "stdout",
     "output_type": "stream",
     "text": [
      "1.959963984540054\n"
     ]
    }
   ],
   "source": [
    "print(stats.norm.ppf(q=0.975)) #find the quantile for 97.5% cutoff"
   ]
  },
  {
   "cell_type": "code",
   "execution_count": 33,
   "id": "ced8c649",
   "metadata": {},
   "outputs": [
    {
     "name": "stdout",
     "output_type": "stream",
     "text": [
      "0.9986501019683699\n"
     ]
    }
   ],
   "source": [
    "print(stats.norm.cdf(x=3)) #data below -3"
   ]
  },
  {
   "cell_type": "code",
   "execution_count": 34,
   "id": "c099bc2d",
   "metadata": {},
   "outputs": [
    {
     "name": "stdout",
     "output_type": "stream",
     "text": [
      "0.0013498980316300933\n"
     ]
    }
   ],
   "source": [
    "print(stats.norm.cdf(x=-3))"
   ]
  },
  {
   "cell_type": "markdown",
   "id": "6998080a",
   "metadata": {},
   "source": [
    "### Binomial distribution"
   ]
  },
  {
   "cell_type": "markdown",
   "id": "f7034bc3",
   "metadata": {},
   "source": [
    "Discrete probability distribution. Answers: How likely it is to achieve p number of successes in n trials of the experiment?"
   ]
  },
  {
   "cell_type": "code",
   "execution_count": 35,
   "id": "48e5bf12",
   "metadata": {},
   "outputs": [
    {
     "name": "stdout",
     "output_type": "stream",
     "text": [
      "col_0   0    1    2     3     4     5     6     7    8    9   10\n",
      "row_0                                                           \n",
      "counts   7  113  447  1161  2098  2441  2017  1155  449  100  12\n"
     ]
    },
    {
     "data": {
      "text/plain": [
       "array([[<AxesSubplot:title={'center':'0'}>]], dtype=object)"
      ]
     },
     "execution_count": 35,
     "metadata": {},
     "output_type": "execute_result"
    },
    {
     "data": {
      "image/png": "[encoded data removed]",
      "text/plain": [
       "<Figure size 432x288 with 1 Axes>"
      ]
     },
     "metadata": {
      "needs_background": "light"
     },
     "output_type": "display_data"
    }
   ],
   "source": [
    "fair_coin_flips=stats.binom.rvs(n=10, #n of flips per trials\n",
    "                               p=0.5, #success probability\n",
    "                               size=10000) #n of trial\n",
    "print(pd.crosstab(index=\"counts\",columns=fair_coin_flips))\n",
    "pd.DataFrame(fair_coin_flips).hist(range=(-0.5,10.5),bins=11)"
   ]
  },
  {
   "cell_type": "code",
   "execution_count": 37,
   "id": "ed3ed6cc",
   "metadata": {},
   "outputs": [
    {
     "name": "stdout",
     "output_type": "stream",
     "text": [
      "col_0   2   3   4    5    6     7     8     9     10\n",
      "row_0                                               \n",
      "counts   1   6  59  276  858  1980  3071  2665  1084\n"
     ]
    },
    {
     "data": {
      "text/plain": [
       "array([[<AxesSubplot:title={'center':'0'}>]], dtype=object)"
      ]
     },
     "execution_count": 37,
     "metadata": {},
     "output_type": "execute_result"
    },
    {
     "data": {
      "image/png": "[encoded data removed]",
      "text/plain": [
       "<Figure size 432x288 with 1 Axes>"
      ]
     },
     "metadata": {
      "needs_background": "light"
     },
     "output_type": "display_data"
    }
   ],
   "source": [
    "biased_fair_coin_flips=stats.binom.rvs(n=10, #n of flips per trials\n",
    "                               p=0.8, #success probability, \n",
    "                               size=10000) #n of trial\n",
    "print(pd.crosstab(index=\"counts\",columns=biased_fair_coin_flips))\n",
    "pd.DataFrame(biased_fair_coin_flips).hist(range=(-0.5,10.5),bins=11)"
   ]
  },
  {
   "cell_type": "markdown",
   "id": "6392291b",
   "metadata": {},
   "source": [
    "as we set the success probability to 0.8, this is how the function looks like."
   ]
  },
  {
   "cell_type": "code",
   "execution_count": 39,
   "id": "d8434f60",
   "metadata": {},
   "outputs": [
    {
     "data": {
      "text/plain": [
       "0.032793497599999964"
      ]
     },
     "execution_count": 39,
     "metadata": {},
     "output_type": "execute_result"
    }
   ],
   "source": [
    "stats.binom.cdf(k=5,n=10,p=0.8) #prob of getting 5 successes or less with 10 flips and success probability of 80%"
   ]
  },
  {
   "cell_type": "markdown",
   "id": "d20739ab",
   "metadata": {},
   "source": [
    "#### Geometric and exponential"
   ]
  },
  {
   "cell_type": "markdown",
   "id": "bb907151",
   "metadata": {},
   "source": [
    "Geometric is discrete and exponential is a continuous."
   ]
  },
  {
   "cell_type": "code",
   "execution_count": 42,
   "id": "dd44570b",
   "metadata": {},
   "outputs": [
    {
     "name": "stdout",
     "output_type": "stream",
     "text": [
      "col_0     1     2     3    4    5    6   7   8   9   10  11  12  13\n",
      "row_0                                                              \n",
      "counts  5045  2479  1246  598  304  163  76  53  13  12   5   2   4\n"
     ]
    },
    {
     "data": {
      "text/plain": [
       "array([[<AxesSubplot:title={'center':'0'}>]], dtype=object)"
      ]
     },
     "execution_count": 42,
     "metadata": {},
     "output_type": "execute_result"
    },
    {
     "data": {
      "image/png": "[encoded data removed]",
      "text/plain": [
       "<Figure size 432x288 with 1 Axes>"
      ]
     },
     "metadata": {
      "needs_background": "light"
     },
     "output_type": "display_data"
    }
   ],
   "source": [
    "#how many flips we need to get to flipp on the head side of the coin?\n",
    "random.seed(12)\n",
    "\n",
    "flips_till_heads=stats.geom.rvs(size=10000, #generate geometric data\n",
    "                                p=0.5) #with success prob 0.5\n",
    "\n",
    "#print table of counts\n",
    "print(pd.crosstab(index=\"counts\", columns=flips_till_heads))\n",
    "\n",
    "#plot\n",
    "pd.DataFrame(flips_till_heads).hist(range=(-0.5,max(flips_till_heads)+0.5),\n",
    "                                    bins=max(flips_till_heads)+1)"
   ]
  },
  {
   "cell_type": "markdown",
   "id": "89e0c488",
   "metadata": {},
   "source": [
    "it is very likely to take 1 or 2 flips to get to head, but more unlikely to take more than 5 flips."
   ]
  },
  {
   "cell_type": "markdown",
   "id": "19d1d00f",
   "metadata": {},
   "source": [
    "Exponentional "
   ]
  },
  {
   "cell_type": "code",
   "execution_count": 44,
   "id": "ad920164",
   "metadata": {},
   "outputs": [
    {
     "data": {
      "text/plain": [
       "0.36787944117144233"
      ]
     },
     "execution_count": 44,
     "metadata": {},
     "output_type": "execute_result"
    }
   ],
   "source": [
    "#Get the prob of waiting more than 1 time unit before a success\n",
    "prob_1=stats.expon.cdf(x=1,\n",
    "                       scale=1) #arrival rate\n",
    "1-prob_1 #the avf time for expon is 1-arrival rate"
   ]
  },
  {
   "cell_type": "markdown",
   "id": "a29575ab",
   "metadata": {},
   "source": [
    "#### Poisson distribution"
   ]
  },
  {
   "cell_type": "markdown",
   "id": "19062539",
   "metadata": {},
   "source": [
    "Number of successes in certain time interval, e.g. number of arrivals to the hospital in a given time"
   ]
  },
  {
   "cell_type": "code",
   "execution_count": 45,
   "id": "d0a61e45",
   "metadata": {},
   "outputs": [
    {
     "name": "stdout",
     "output_type": "stream",
     "text": [
      "col_0      0     1     2    3    4   5  6  7\n",
      "row_0                                       \n",
      "counts  3685  3661  1834  623  156  33  7  1\n"
     ]
    },
    {
     "data": {
      "text/plain": [
       "array([[<AxesSubplot:title={'center':'0'}>]], dtype=object)"
      ]
     },
     "execution_count": 45,
     "metadata": {},
     "output_type": "execute_result"
    },
    {
     "data": {
      "image/png": "[encoded data removed]",
      "text/plain": [
       "<Figure size 432x288 with 1 Axes>"
      ]
     },
     "metadata": {
      "needs_background": "light"
     },
     "output_type": "display_data"
    }
   ],
   "source": [
    "random.seed(12)\n",
    "arrival_rate_1=stats.poisson.rvs(size=10000, #generate poisson data\n",
    "                                mu=1) #avg arrival time is 1\n",
    "#print table of counts\n",
    "print(pd.crosstab(index=\"counts\",columns=arrival_rate_1))\n",
    "\n",
    "#plot\n",
    "pd.DataFrame(arrival_rate_1).hist(range=(-0.5,max(arrival_rate_1)+0.5),\n",
    "                                 bins=max(arrival_rate_1)+1)"
   ]
  },
  {
   "cell_type": "markdown",
   "id": "43ee8154",
   "metadata": {},
   "source": [
    "It seems that we often see 0 and 1 arrivals within one hour, we see 2 people arriving half as often and so on."
   ]
  },
  {
   "cell_type": "markdown",
   "id": "0978f68a",
   "metadata": {},
   "source": [
    "Please note than Poisson distribution will not always look right skewed, as opposed to geo/expo. It depends on how we set it up."
   ]
  },
  {
   "cell_type": "code",
   "execution_count": 46,
   "id": "92a80fc4",
   "metadata": {},
   "outputs": [
    {
     "name": "stdout",
     "output_type": "stream",
     "text": [
      "col_0   0   1   2   3    4    5    6    7     8     9   ...   14   15   16  \\\n",
      "row_0                                                   ...                  \n",
      "counts   1   4  22  72  152  331  592  872  1189  1342  ...  553  334  218   \n",
      "\n",
      "col_0    17  18  19  20  21  22  24  \n",
      "row_0                                \n",
      "counts  115  59  36  14   7   5   2  \n",
      "\n",
      "[1 rows x 24 columns]\n"
     ]
    },
    {
     "data": {
      "text/plain": [
       "array([[<AxesSubplot:title={'center':'0'}>]], dtype=object)"
      ]
     },
     "execution_count": 46,
     "metadata": {},
     "output_type": "execute_result"
    },
    {
     "data": {
      "image/png": "[encoded data removed]",
      "text/plain": [
       "<Figure size 432x288 with 1 Axes>"
      ]
     },
     "metadata": {
      "needs_background": "light"
     },
     "output_type": "display_data"
    }
   ],
   "source": [
    "random.seed(12)\n",
    "arrival_rate_1=stats.poisson.rvs(size=10000, #generate poisson data\n",
    "                                mu=10) #avg arrival time is 1\n",
    "#print table of counts\n",
    "print(pd.crosstab(index=\"counts\",columns=arrival_rate_1))\n",
    "\n",
    "#plot\n",
    "pd.DataFrame(arrival_rate_1).hist(range=(-0.5,max(arrival_rate_1)+0.5),\n",
    "                                 bins=max(arrival_rate_1)+1)"
   ]
  },
  {
   "cell_type": "markdown",
   "id": "2e9ac835",
   "metadata": {},
   "source": [
    "Like this. If the avg arrival time is 10, distribution will look like this."
   ]
  },
  {
   "cell_type": "code",
   "execution_count": null,
   "id": "15cf8980",
   "metadata": {},
   "outputs": [],
   "source": []
  }
 ],
 "metadata": {
  "kernelspec": {
   "display_name": "Python 3",
   "language": "python",
   "name": "python3"
  },
  "language_info": {
   "codemirror_mode": {
    "name": "ipython",
    "version": 3
   },
   "file_extension": ".py",
   "mimetype": "text/x-python",
   "name": "python",
   "nbconvert_exporter": "python",
   "pygments_lexer": "ipython3",
   "version": "3.8.8"
  }
 },
 "nbformat": 4,
 "nbformat_minor": 5
}
