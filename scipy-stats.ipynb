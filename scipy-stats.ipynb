{
 "cells": [
  {
   "cell_type": "markdown",
   "id": "b391fde4",
   "metadata": {},
   "source": [
    "# My favorite Scipy-Stats algorithms\n",
    "This notebook contains a demonstration and visualisation of a hypothesis testing using ANOVA, available through scipy-stats Python library."
   ]
  },
  {
   "cell_type": "markdown",
   "id": "52eb7667",
   "metadata": {},
   "source": [
    "## 1. ANOVA"
   ]
  },
  {
   "cell_type": "markdown",
   "id": "86a0c6ad",
   "metadata": {},
   "source": [
    "## 2. Dataset"
   ]
  },
  {
   "cell_type": "markdown",
   "id": "70c13e7e",
   "metadata": {},
   "source": [
    "## 3. Null - Hypothesis"
   ]
  },
  {
   "cell_type": "markdown",
   "id": "edcc258a",
   "metadata": {},
   "source": [
    "## 4. Testing"
   ]
  },
  {
   "cell_type": "markdown",
   "id": "50f5eae3",
   "metadata": {},
   "source": [
    "## 5. Interpretation"
   ]
  },
  {
   "cell_type": "markdown",
   "id": "8f459f65",
   "metadata": {},
   "source": [
    "## 6. Conclusion"
   ]
  },
  {
   "cell_type": "markdown",
   "id": "87af2650",
   "metadata": {},
   "source": [
    "## References\n",
    "\"Statistical functions (scipy.stats) - scipy v1.7.1 manual\", 2021. [Online]. Available: https://docs.scipy.org/doc/scipy/reference/stats.html"
   ]
  },
  {
   "cell_type": "code",
   "execution_count": null,
   "id": "993b3428",
   "metadata": {},
   "outputs": [],
   "source": []
  },
  {
   "cell_type": "code",
   "execution_count": null,
   "id": "e12a914a",
   "metadata": {},
   "outputs": [],
   "source": []
  },
  {
   "cell_type": "code",
   "execution_count": null,
   "id": "fb13e8cd",
   "metadata": {},
   "outputs": [],
   "source": []
  },
  {
   "cell_type": "code",
   "execution_count": null,
   "id": "0ae130c1",
   "metadata": {},
   "outputs": [],
   "source": []
  },
  {
   "cell_type": "markdown",
   "id": "d2f465c0",
   "metadata": {},
   "source": [
    "### Notes"
   ]
  },
  {
   "cell_type": "markdown",
   "id": "cce3ea9a",
   "metadata": {},
   "source": [
    "#### probability distributions"
   ]
  },
  {
   "cell_type": "markdown",
   "id": "f78f22d1",
   "metadata": {},
   "source": [
    "Uniform - each value is equaly likely to be picked"
   ]
  },
  {
   "cell_type": "code",
   "execution_count": 1,
   "id": "70b01eb1",
   "metadata": {},
   "outputs": [],
   "source": [
    "%matplotlib inline\n",
    "\n",
    "import numpy as np\n",
    "import pandas as pd\n",
    "import matplotlib.pyplot as plt\n",
    "import scipy.stats as stats\n",
    "import random\n",
    "import math"
   ]
  },
  {
   "cell_type": "code",
   "execution_count": 2,
   "id": "66caa61b",
   "metadata": {},
   "outputs": [],
   "source": [
    "uniform_data=stats.uniform.rvs(size=100000, #generate random 10k numbers\n",
    "                               loc=0, #from 0\n",
    "                               scale=10) #to 10"
   ]
  },
  {
   "cell_type": "code",
   "execution_count": 3,
   "id": "c2e321ee",
   "metadata": {},
   "outputs": [
    {
     "data": {
      "image/png": "[encoded data removed]",
      "text/plain": [
       "<Figure size 648x648 with 1 Axes>"
      ]
     },
     "metadata": {
      "needs_background": "light"
     },
     "output_type": "display_data"
    }
   ],
   "source": [
    "pd.DataFrame (uniform_data).plot(kind=\"density\", #Plot the distribution\n",
    "                                figsize=(9,9),\n",
    "                                xlim=(-1,11));"
   ]
  },
  {
   "cell_type": "markdown",
   "id": "4b817c3d",
   "metadata": {},
   "source": [
    "we have the flat value where each value is equally likely to happen"
   ]
  },
  {
   "cell_type": "code",
   "execution_count": 4,
   "id": "8f4c2bb8",
   "metadata": {},
   "outputs": [
    {
     "data": {
      "text/plain": [
       "0.25"
      ]
     },
     "execution_count": 4,
     "metadata": {},
     "output_type": "execute_result"
    }
   ],
   "source": [
    "stats.uniform.cdf(x=2.5, #cutoff value (quantile) to check\n",
    "                 loc=0, #distribution start\n",
    "                 scale=10) #distribution end\n",
    "\n",
    "#cdf gives you an area under the distribution's density to the left of a certain value of the x axis"
   ]
  },
  {
   "cell_type": "code",
   "execution_count": 5,
   "id": "89af1798",
   "metadata": {},
   "outputs": [
    {
     "data": {
      "text/plain": [
       "4.0"
      ]
     },
     "execution_count": 5,
     "metadata": {},
     "output_type": "execute_result"
    }
   ],
   "source": [
    "stats.uniform.ppf(q=0.4, #what x value we need to slice 40% of dist to the left of it?\n",
    "                 loc=0,\n",
    "                 scale=10)\n",
    "\n",
    "#invers of cdf"
   ]
  },
  {
   "cell_type": "code",
   "execution_count": 6,
   "id": "9ed29d2b",
   "metadata": {},
   "outputs": [
    {
     "name": "stdout",
     "output_type": "stream",
     "text": [
      "Density at x value-1\n",
      "0.0\n",
      "Density at x value2\n",
      "0.1\n",
      "Density at x value5\n",
      "0.1\n",
      "Density at x value8\n",
      "0.1\n",
      "Density at x value11\n",
      "0.0\n"
     ]
    }
   ],
   "source": [
    "#stats.distribution.pdf()\n",
    "\n",
    "for x in range (-1,12,3):\n",
    "    print(\"Density at x value\"+str(x))\n",
    "    print(stats.uniform.pdf(x,loc=0,scale=10))"
   ]
  },
  {
   "cell_type": "markdown",
   "id": "07b7579b",
   "metadata": {},
   "source": [
    "Values outsode of range have no probability of happening while all values inside of range have equal probability."
   ]
  },
  {
   "cell_type": "code",
   "execution_count": 7,
   "id": "4cc23f8a",
   "metadata": {},
   "outputs": [],
   "source": [
    "import random"
   ]
  },
  {
   "cell_type": "code",
   "execution_count": 8,
   "id": "2d1f4ceb",
   "metadata": {},
   "outputs": [
    {
     "data": {
      "text/plain": [
       "8"
      ]
     },
     "execution_count": 8,
     "metadata": {},
     "output_type": "execute_result"
    }
   ],
   "source": [
    "random.randint(0,10) #get a random integer in a specific range"
   ]
  },
  {
   "cell_type": "code",
   "execution_count": 9,
   "id": "96ba8298",
   "metadata": {},
   "outputs": [
    {
     "data": {
      "text/plain": [
       "9"
      ]
     },
     "execution_count": 9,
     "metadata": {},
     "output_type": "execute_result"
    }
   ],
   "source": [
    "random.choice([2,4,6,9]) #get a random element from a sequence of numbers"
   ]
  },
  {
   "cell_type": "code",
   "execution_count": 10,
   "id": "83549d0c",
   "metadata": {},
   "outputs": [
    {
     "data": {
      "text/plain": [
       "0.03478862380111891"
      ]
     },
     "execution_count": 10,
     "metadata": {},
     "output_type": "execute_result"
    }
   ],
   "source": [
    "random.random() #get a real number between 0 and 1; balically from uniform distribution"
   ]
  },
  {
   "cell_type": "code",
   "execution_count": 11,
   "id": "fdbc1399",
   "metadata": {},
   "outputs": [
    {
     "data": {
      "text/plain": [
       "0.5664559116448528"
      ]
     },
     "execution_count": 11,
     "metadata": {},
     "output_type": "execute_result"
    }
   ],
   "source": [
    "random.uniform(0,1) #output not the same as there is no seed"
   ]
  },
  {
   "cell_type": "code",
   "execution_count": 12,
   "id": "4994d487",
   "metadata": {},
   "outputs": [
    {
     "data": {
      "text/plain": [
       "0.4745706786885481"
      ]
     },
     "execution_count": 12,
     "metadata": {},
     "output_type": "execute_result"
    }
   ],
   "source": [
    "random.seed(12)\n",
    "random.uniform(0,1)"
   ]
  },
  {
   "cell_type": "code",
   "execution_count": 13,
   "id": "86f836c2",
   "metadata": {},
   "outputs": [
    {
     "data": {
      "text/plain": [
       "0.4745706786885481"
      ]
     },
     "execution_count": 13,
     "metadata": {},
     "output_type": "execute_result"
    }
   ],
   "source": [
    "random.seed(12)\n",
    "random.random()"
   ]
  },
  {
   "cell_type": "markdown",
   "id": "f4c8c1f9",
   "metadata": {},
   "source": [
    "Now we have the same output."
   ]
  },
  {
   "cell_type": "markdown",
   "id": "3bc87c39",
   "metadata": {},
   "source": [
    "Numpy and scipy have different built in functions for generating random numbers"
   ]
  },
  {
   "cell_type": "markdown",
   "id": "2ebefa21",
   "metadata": {},
   "source": [
    "#### Normal distribution"
   ]
  },
  {
   "cell_type": "markdown",
   "id": "24674b26",
   "metadata": {},
   "source": [
    "Bell shaped curve, mean and median are equal. 99.7% lies within 3 standard deviations."
   ]
  },
  {
   "cell_type": "code",
   "execution_count": 14,
   "id": "07095901",
   "metadata": {},
   "outputs": [
    {
     "name": "stdout",
     "output_type": "stream",
     "text": [
      "0.15865525393145707 0.6826894921370859\n"
     ]
    }
   ],
   "source": [
    "prob_under_minus1=stats.norm.cdf(x=-1,\n",
    "                                loc=0,\n",
    "                                scale=1)\n",
    "prob_over_1= 1- stats.norm.cdf(x=1,\n",
    "                                loc=0,\n",
    "                                scale=1)\n",
    "between_prob=1-(prob_under_minus1+prob_over_1)\n",
    "print(prob_under_minus1,between_prob)"
   ]
  },
  {
   "cell_type": "markdown",
   "id": "64283602",
   "metadata": {},
   "source": [
    "Roughly 16% of data generated by a normal distr. is within 1 standard deviation from the mean."
   ]
  },
  {
   "cell_type": "code",
   "execution_count": 15,
   "id": "0bdf1042",
   "metadata": {},
   "outputs": [
    {
     "name": "stdout",
     "output_type": "stream",
     "text": [
      "-1.9599639845400545\n"
     ]
    }
   ],
   "source": [
    "print(stats.norm.ppf(q=0.025)) #find the quantile for 2.5% cutoff\n"
   ]
  },
  {
   "cell_type": "code",
   "execution_count": 16,
   "id": "596ab608",
   "metadata": {},
   "outputs": [
    {
     "name": "stdout",
     "output_type": "stream",
     "text": [
      "1.959963984540054\n"
     ]
    }
   ],
   "source": [
    "print(stats.norm.ppf(q=0.975)) #find the quantile for 97.5% cutoff"
   ]
  },
  {
   "cell_type": "code",
   "execution_count": 17,
   "id": "ced8c649",
   "metadata": {},
   "outputs": [
    {
     "name": "stdout",
     "output_type": "stream",
     "text": [
      "0.9986501019683699\n"
     ]
    }
   ],
   "source": [
    "print(stats.norm.cdf(x=3)) #data below -3"
   ]
  },
  {
   "cell_type": "code",
   "execution_count": 18,
   "id": "c099bc2d",
   "metadata": {},
   "outputs": [
    {
     "name": "stdout",
     "output_type": "stream",
     "text": [
      "0.0013498980316300933\n"
     ]
    }
   ],
   "source": [
    "print(stats.norm.cdf(x=-3))"
   ]
  },
  {
   "cell_type": "markdown",
   "id": "6998080a",
   "metadata": {},
   "source": [
    "### Binomial distribution"
   ]
  },
  {
   "cell_type": "markdown",
   "id": "f7034bc3",
   "metadata": {},
   "source": [
    "Discrete probability distribution. Answers: How likely it is to achieve p number of successes in n trials of the experiment?"
   ]
  },
  {
   "cell_type": "code",
   "execution_count": 19,
   "id": "48e5bf12",
   "metadata": {},
   "outputs": [
    {
     "name": "stdout",
     "output_type": "stream",
     "text": [
      "col_0   0   1    2     3     4     5     6     7    8    9   10\n",
      "row_0                                                          \n",
      "counts  11  93  422  1161  2103  2432  2040  1196  425  109   8\n"
     ]
    },
    {
     "data": {
      "text/plain": [
       "array([[<AxesSubplot:title={'center':'0'}>]], dtype=object)"
      ]
     },
     "execution_count": 19,
     "metadata": {},
     "output_type": "execute_result"
    },
    {
     "data": {
      "image/png": "[encoded data removed]",
      "text/plain": [
       "<Figure size 432x288 with 1 Axes>"
      ]
     },
     "metadata": {
      "needs_background": "light"
     },
     "output_type": "display_data"
    }
   ],
   "source": [
    "fair_coin_flips=stats.binom.rvs(n=10, #n of flips per trials\n",
    "                               p=0.5, #success probability\n",
    "                               size=10000) #n of trial\n",
    "print(pd.crosstab(index=\"counts\",columns=fair_coin_flips))\n",
    "pd.DataFrame(fair_coin_flips).hist(range=(-0.5,10.5),bins=11)"
   ]
  },
  {
   "cell_type": "code",
   "execution_count": 20,
   "id": "ed3ed6cc",
   "metadata": {},
   "outputs": [
    {
     "name": "stdout",
     "output_type": "stream",
     "text": [
      "col_0   2   3   4    5    6     7     8     9     10\n",
      "row_0                                               \n",
      "counts   1  13  36  270  859  2023  3059  2650  1089\n"
     ]
    },
    {
     "data": {
      "text/plain": [
       "array([[<AxesSubplot:title={'center':'0'}>]], dtype=object)"
      ]
     },
     "execution_count": 20,
     "metadata": {},
     "output_type": "execute_result"
    },
    {
     "data": {
      "image/png": "[encoded data removed]",
      "text/plain": [
       "<Figure size 432x288 with 1 Axes>"
      ]
     },
     "metadata": {
      "needs_background": "light"
     },
     "output_type": "display_data"
    }
   ],
   "source": [
    "biased_fair_coin_flips=stats.binom.rvs(n=10, #n of flips per trials\n",
    "                               p=0.8, #success probability, \n",
    "                               size=10000) #n of trial\n",
    "print(pd.crosstab(index=\"counts\",columns=biased_fair_coin_flips))\n",
    "pd.DataFrame(biased_fair_coin_flips).hist(range=(-0.5,10.5),bins=11)"
   ]
  },
  {
   "cell_type": "markdown",
   "id": "6392291b",
   "metadata": {},
   "source": [
    "as we set the success probability to 0.8, this is how the function looks like."
   ]
  },
  {
   "cell_type": "code",
   "execution_count": 21,
   "id": "d8434f60",
   "metadata": {},
   "outputs": [
    {
     "data": {
      "text/plain": [
       "0.032793497599999964"
      ]
     },
     "execution_count": 21,
     "metadata": {},
     "output_type": "execute_result"
    }
   ],
   "source": [
    "stats.binom.cdf(k=5,n=10,p=0.8) #prob of getting 5 successes or less with 10 flips and success probability of 80%"
   ]
  },
  {
   "cell_type": "markdown",
   "id": "d20739ab",
   "metadata": {},
   "source": [
    "#### Geometric and exponential"
   ]
  },
  {
   "cell_type": "markdown",
   "id": "bb907151",
   "metadata": {},
   "source": [
    "Geometric is discrete and exponential is a continuous."
   ]
  },
  {
   "cell_type": "code",
   "execution_count": 22,
   "id": "dd44570b",
   "metadata": {},
   "outputs": [
    {
     "name": "stdout",
     "output_type": "stream",
     "text": [
      "col_0     1     2     3    4    5    6   7   8   9   10  11  12  13  14  15\n",
      "row_0                                                                      \n",
      "counts  5091  2423  1221  648  289  158  79  51  19   8   5   3   3   1   1\n"
     ]
    },
    {
     "data": {
      "text/plain": [
       "array([[<AxesSubplot:title={'center':'0'}>]], dtype=object)"
      ]
     },
     "execution_count": 22,
     "metadata": {},
     "output_type": "execute_result"
    },
    {
     "data": {
      "image/png": "[encoded data removed]",
      "text/plain": [
       "<Figure size 432x288 with 1 Axes>"
      ]
     },
     "metadata": {
      "needs_background": "light"
     },
     "output_type": "display_data"
    }
   ],
   "source": [
    "#how many flips we need to get to flipp on the head side of the coin?\n",
    "random.seed(12)\n",
    "\n",
    "flips_till_heads=stats.geom.rvs(size=10000, #generate geometric data\n",
    "                                p=0.5) #with success prob 0.5\n",
    "\n",
    "#print table of counts\n",
    "print(pd.crosstab(index=\"counts\", columns=flips_till_heads))\n",
    "\n",
    "#plot\n",
    "pd.DataFrame(flips_till_heads).hist(range=(-0.5,max(flips_till_heads)+0.5),\n",
    "                                    bins=max(flips_till_heads)+1)"
   ]
  },
  {
   "cell_type": "markdown",
   "id": "89e0c488",
   "metadata": {},
   "source": [
    "it is very likely to take 1 or 2 flips to get to head, but more unlikely to take more than 5 flips."
   ]
  },
  {
   "cell_type": "markdown",
   "id": "19d1d00f",
   "metadata": {},
   "source": [
    "Exponentional "
   ]
  },
  {
   "cell_type": "code",
   "execution_count": 23,
   "id": "ad920164",
   "metadata": {},
   "outputs": [
    {
     "data": {
      "text/plain": [
       "0.36787944117144233"
      ]
     },
     "execution_count": 23,
     "metadata": {},
     "output_type": "execute_result"
    }
   ],
   "source": [
    "#Get the prob of waiting more than 1 time unit before a success\n",
    "prob_1=stats.expon.cdf(x=1,\n",
    "                       scale=1) #arrival rate\n",
    "1-prob_1 #the avf time for expon is 1-arrival rate"
   ]
  },
  {
   "cell_type": "markdown",
   "id": "a29575ab",
   "metadata": {},
   "source": [
    "#### Poisson distribution"
   ]
  },
  {
   "cell_type": "markdown",
   "id": "19062539",
   "metadata": {},
   "source": [
    "Number of successes in certain time interval, e.g. number of arrivals to the hospital in a given time"
   ]
  },
  {
   "cell_type": "code",
   "execution_count": 24,
   "id": "d0a61e45",
   "metadata": {},
   "outputs": [
    {
     "name": "stdout",
     "output_type": "stream",
     "text": [
      "col_0      0     1     2    3    4   5  6  8\n",
      "row_0                                       \n",
      "counts  3681  3731  1772  635  149  29  2  1\n"
     ]
    },
    {
     "data": {
      "text/plain": [
       "array([[<AxesSubplot:title={'center':'0'}>]], dtype=object)"
      ]
     },
     "execution_count": 24,
     "metadata": {},
     "output_type": "execute_result"
    },
    {
     "data": {
      "image/png": "[encoded data removed]",
      "text/plain": [
       "<Figure size 432x288 with 1 Axes>"
      ]
     },
     "metadata": {
      "needs_background": "light"
     },
     "output_type": "display_data"
    }
   ],
   "source": [
    "random.seed(12)\n",
    "arrival_rate_1=stats.poisson.rvs(size=10000, #generate poisson data\n",
    "                                mu=1) #avg arrival time is 1\n",
    "#print table of counts\n",
    "print(pd.crosstab(index=\"counts\",columns=arrival_rate_1))\n",
    "\n",
    "#plot\n",
    "pd.DataFrame(arrival_rate_1).hist(range=(-0.5,max(arrival_rate_1)+0.5),\n",
    "                                 bins=max(arrival_rate_1)+1)"
   ]
  },
  {
   "cell_type": "markdown",
   "id": "43ee8154",
   "metadata": {},
   "source": [
    "It seems that we often see 0 and 1 arrivals within one hour, we see 2 people arriving half as often and so on."
   ]
  },
  {
   "cell_type": "markdown",
   "id": "0978f68a",
   "metadata": {},
   "source": [
    "Please note than Poisson distribution will not always look right skewed, as opposed to geo/expo. It depends on how we set it up."
   ]
  },
  {
   "cell_type": "code",
   "execution_count": 25,
   "id": "92a80fc4",
   "metadata": {},
   "outputs": [
    {
     "name": "stdout",
     "output_type": "stream",
     "text": [
      "col_0   1   2   3    4    5    6    7     8     9     10  ...   15   16   17  \\\n",
      "row_0                                                     ...                  \n",
      "counts   2  24  75  176  372  670  876  1093  1306  1264  ...  376  199  127   \n",
      "\n",
      "col_0   18  19  20  21  22  23  25  \n",
      "row_0                               \n",
      "counts  71  27  16   7   1   3   1  \n",
      "\n",
      "[1 rows x 24 columns]\n"
     ]
    },
    {
     "data": {
      "text/plain": [
       "array([[<AxesSubplot:title={'center':'0'}>]], dtype=object)"
      ]
     },
     "execution_count": 25,
     "metadata": {},
     "output_type": "execute_result"
    },
    {
     "data": {
      "image/png": "[encoded data removed]",
      "text/plain": [
       "<Figure size 432x288 with 1 Axes>"
      ]
     },
     "metadata": {
      "needs_background": "light"
     },
     "output_type": "display_data"
    }
   ],
   "source": [
    "random.seed(12)\n",
    "arrival_rate_1=stats.poisson.rvs(size=10000, #generate poisson data\n",
    "                                mu=10) #avg arrival time is 1\n",
    "#print table of counts\n",
    "print(pd.crosstab(index=\"counts\",columns=arrival_rate_1))\n",
    "\n",
    "#plot\n",
    "pd.DataFrame(arrival_rate_1).hist(range=(-0.5,max(arrival_rate_1)+0.5),\n",
    "                                 bins=max(arrival_rate_1)+1)"
   ]
  },
  {
   "cell_type": "markdown",
   "id": "2e9ac835",
   "metadata": {},
   "source": [
    "Like this. If the avg arrival time is 10, distribution will look like this."
   ]
  },
  {
   "cell_type": "markdown",
   "id": "c70ec84e",
   "metadata": {},
   "source": [
    "### Confidence intervals"
   ]
  },
  {
   "cell_type": "markdown",
   "id": "552d0b08",
   "metadata": {},
   "source": [
    "Let's say I want to do some analysis on the people voting on elections. I want to estimate the average age of the population"
   ]
  },
  {
   "cell_type": "code",
   "execution_count": 26,
   "id": "587cfb1c",
   "metadata": {},
   "outputs": [
    {
     "data": {
      "text/plain": [
       "51.4444625"
      ]
     },
     "execution_count": 26,
     "metadata": {},
     "output_type": "execute_result"
    }
   ],
   "source": [
    "#point estimates are estimates of population parameters based on sample data\n",
    "#sample mean is used\n",
    "np.random.seed(10)\n",
    "population_ages1=stats.poisson.rvs(loc=18,mu=35,size=150000) #random values\n",
    "population_ages2=stats.poisson.rvs(loc=18,mu=10,size=10000)\n",
    "population_ages=np.concatenate((population_ages1,population_ages2))\n",
    "\n",
    "population_ages.mean() #population mean"
   ]
  },
  {
   "cell_type": "code",
   "execution_count": 27,
   "id": "6c0e7402",
   "metadata": {},
   "outputs": [
    {
     "name": "stdout",
     "output_type": "stream",
     "text": [
      "51.008\n"
     ]
    },
    {
     "data": {
      "text/plain": [
       "0.43646249999999753"
      ]
     },
     "execution_count": 27,
     "metadata": {},
     "output_type": "execute_result"
    }
   ],
   "source": [
    "#taking a sample\n",
    "np.random.seed(6)\n",
    "sample_ages=np.random.choice(a=population_ages,\n",
    "                            size=500) #sample 500 values from the population\n",
    "print(sample_ages.mean()) #print sample mean\n",
    "\n",
    "population_ages.mean()-sample_ages.mean() #check difference between the population and sample mean"
   ]
  },
  {
   "cell_type": "markdown",
   "id": "5e276b27",
   "metadata": {},
   "source": [
    "This shows we can get a pretty accurate estimate by using sample mean."
   ]
  },
  {
   "cell_type": "markdown",
   "id": "40210d51",
   "metadata": {},
   "source": [
    "I might want to estimate the race ratio of the voters, to get the sense of the demographics of the voter base."
   ]
  },
  {
   "cell_type": "code",
   "execution_count": 28,
   "id": "7e5ef515",
   "metadata": {},
   "outputs": [
    {
     "name": "stdout",
     "output_type": "stream",
     "text": [
      "hispanic propotion estimate:\n",
      "0.192\n",
      "white propotion estimate:\n",
      "0.379\n",
      "asian propotion estimate:\n",
      "0.099\n",
      "other propotion estimate:\n",
      "0.099\n",
      "black propotion estimate:\n",
      "0.231\n"
     ]
    }
   ],
   "source": [
    "random.seed(10)\n",
    "population_races=([\"white\"]*100000)+([\"black\"]*50000)+([\"hispanic\"]*50000)+([\"asian\"]*25000)+([\"other\"]*25000)\n",
    "\n",
    "demo_sample=random.sample(population_races,1000) #sample 1000 values\n",
    "\n",
    "for race in set(demo_sample):\n",
    "    print(race+\" propotion estimate:\")\n",
    "    print(demo_sample.count(race)/1000)"
   ]
  },
  {
   "cell_type": "markdown",
   "id": "de2f1670",
   "metadata": {},
   "source": [
    "Sampling Distributions and The Central Limit Theorem"
   ]
  },
  {
   "cell_type": "markdown",
   "id": "058ffc9c",
   "metadata": {},
   "source": [
    "Many statistical procedures assume normal distribution (for its nice properties), however this is in reality rarely true.\n",
    "I wwant to plot the data I generated and sample ans check the skeweness,"
   ]
  },
  {
   "cell_type": "code",
   "execution_count": 29,
   "id": "ad8751d7",
   "metadata": {},
   "outputs": [
    {
     "name": "stdout",
     "output_type": "stream",
     "text": [
      "-1.1256148418046046\n"
     ]
    },
    {
     "data": {
      "image/png": "[encoded data removed]",
      "text/plain": [
       "<Figure size 648x648 with 1 Axes>"
      ]
     },
     "metadata": {
      "needs_background": "light"
     },
     "output_type": "display_data"
    }
   ],
   "source": [
    "pd.DataFrame(population_ages).hist(bins=58,\n",
    "                                  range=(17.5,75.5),\n",
    "                                  figsize=(9,9))\n",
    "print(stats.skew(population_ages));"
   ]
  },
  {
   "cell_type": "code",
   "execution_count": 30,
   "id": "3a77cd32",
   "metadata": {},
   "outputs": [
    {
     "name": "stdout",
     "output_type": "stream",
     "text": [
      "-1.0992883065975738\n"
     ]
    },
    {
     "data": {
      "image/png": "[encoded data removed]",
      "text/plain": [
       "<Figure size 648x648 with 1 Axes>"
      ]
     },
     "metadata": {
      "needs_background": "light"
     },
     "output_type": "display_data"
    }
   ],
   "source": [
    "pd.DataFrame(sample_ages).hist(bins=58,\n",
    "                                  range=(17.5,75.5),\n",
    "                                  figsize=(9,9))\n",
    "print(stats.skew(sample_ages));"
   ]
  },
  {
   "cell_type": "markdown",
   "id": "ad9c52f4",
   "metadata": {},
   "source": [
    "This looks very similar overall. But it clearly doesn't have normal distribution.\n",
    "Does that mean we cannot apply the techniquest which assume normal distribution to this dataset?\n",
    "NO. \n",
    "Luckily there is a central limit theorem, a theorem part of the probability theory. It states the sample distribution mean is normally distributed even tho the underlying data isn't.\n",
    "Therefore, I can treat sample mean as if it was drawn from the normal distribution.\n",
    "I will demonstrate that by creating a sampling distribution, taking 200 samples from the population and end plotting the means of those."
   ]
  },
  {
   "cell_type": "code",
   "execution_count": 31,
   "id": "16266852",
   "metadata": {},
   "outputs": [
    {
     "data": {
      "text/plain": [
       "<AxesSubplot:ylabel='Density'>"
      ]
     },
     "execution_count": 31,
     "metadata": {},
     "output_type": "execute_result"
    },
    {
     "data": {
      "image/png": "[encoded data removed]",
      "text/plain": [
       "<Figure size 648x648 with 1 Axes>"
      ]
     },
     "metadata": {
      "needs_background": "light"
     },
     "output_type": "display_data"
    }
   ],
   "source": [
    "np.random.seed(10)\n",
    "point_estimates=[] #making the empty list to hold point estimates\n",
    "\n",
    "for x in range(200): #generate 200 samples\n",
    "    sample=np.random.choice(a=population_ages,size=500)\n",
    "    point_estimates.append(sample.mean())\n",
    "    \n",
    "pd.DataFrame(point_estimates).plot(kind=\"density\",\n",
    "                                  figsize=(9,9))"
   ]
  },
  {
   "cell_type": "markdown",
   "id": "31f38c83",
   "metadata": {},
   "source": [
    "It looks normally distributed."
   ]
  },
  {
   "cell_type": "code",
   "execution_count": 32,
   "id": "19af3bba",
   "metadata": {},
   "outputs": [
    {
     "data": {
      "text/plain": [
       "-0.05517749999999921"
      ]
     },
     "execution_count": 32,
     "metadata": {},
     "output_type": "execute_result"
    }
   ],
   "source": [
    "#the mean of the sampling distr approaches the true population mean\n",
    "population_ages.mean()-np.array(point_estimates).mean()"
   ]
  },
  {
   "cell_type": "markdown",
   "id": "1ebd445a",
   "metadata": {},
   "source": [
    "The difference is so small. The more samples we take the better estimate of the population"
   ]
  },
  {
   "cell_type": "markdown",
   "id": "103bfb0a",
   "metadata": {},
   "source": [
    "Confidence interval\n",
    "As estimates are prone to errors, a confidence level is a range of values above and below the point estimate that captures the true population parameter of some predetermined confidence level.\n",
    "e.g. I want to have 95% confidence level.\n",
    "To create a confidence interval we add a marginal error to the point estimate.\n",
    "To calculate marginal error,we need st deviation of a population. The formula is\n",
    "*z x sigma/sq root of n*\n",
    "where sigma is the population standard deviation, n is sample size and z is z critical value (n of st dev you have to go from the mean of the normal distribution to capture the proportion of the data associated with desired cof level).\n",
    "e.g. 95% of data lies in 2 st deviation; check z table for this.\n",
    "\n",
    "I will calculate 95% conf interval for my mean point estimate\n"
   ]
  },
  {
   "cell_type": "code",
   "execution_count": 33,
   "id": "875c19ba",
   "metadata": {},
   "outputs": [
    {
     "name": "stdout",
     "output_type": "stream",
     "text": [
      "z-critical value:\n",
      "1.959963984540054\n",
      "confidence interval:\n",
      "(51.1218997189614, 52.1581002810386)\n"
     ]
    }
   ],
   "source": [
    "np.random.seed(10)\n",
    "\n",
    "sample_size=1000\n",
    "sample=np.random.choice(a=population_ages,size=sample_size)\n",
    "sample_mean=sample.mean()\n",
    "\n",
    "z_critical=stats.norm.ppf(q=0.975) #get the z critical value\n",
    "\n",
    "print(\"z-critical value:\")\n",
    "print(z_critical) #print z critical value\n",
    "\n",
    "pop_stdev=population_ages.std() #get pop st dev\n",
    "\n",
    "margin_of_error=z_critical*(pop_stdev/math.sqrt(sample_size))\n",
    "\n",
    "confidence_interval=(sample_mean-margin_of_error,\n",
    "                    sample_mean+margin_of_error)\n",
    "\n",
    "print(\"confidence interval:\")\n",
    "print(confidence_interval)"
   ]
  },
  {
   "cell_type": "markdown",
   "id": "376b8e19",
   "metadata": {},
   "source": [
    "In case we don't know the st dev of population, we have to use st dev of the mean. Consequently, this will result in more errors. \n",
    "To account for this error I will use t-value instead of z-value. T-value is drawn from t-distribution, which closely resembles the normal distributionbut gets wider and wider as the sample size falls. \n",
    "I can use scipy stats for this by using stats.t.ppf() .\n",
    " \n"
   ]
  },
  {
   "cell_type": "code",
   "execution_count": 34,
   "id": "1c93b593",
   "metadata": {},
   "outputs": [
    {
     "name": "stdout",
     "output_type": "stream",
     "text": [
      "t-critical value:\n",
      "2.0638985616280205\n",
      "confidence interval:\n",
      "(47.90096481477647, 53.93903518522353)\n"
     ]
    }
   ],
   "source": [
    "np.random.seed(10)\n",
    "\n",
    "sample_size=25\n",
    "sample=np.random.choice(a=population_ages,size=sample_size)\n",
    "sample_mean=sample.mean()\n",
    "\n",
    "t_critical=stats.t.ppf(q=0.975,df=24) #get the z critical value\n",
    "\n",
    "print(\"t-critical value:\")\n",
    "print(t_critical) #print z critical value\n",
    "\n",
    "sample_stdev=sample.std(ddof=1) #get pop st dev\n",
    "\n",
    "sigma=sample_stdev/math.sqrt(sample_size) #st dev estimate)\n",
    "\n",
    "margin_of_error=t_critical*sigma\n",
    "                             \n",
    "confidence_interval=(sample_mean-margin_of_error,\n",
    "                    sample_mean+margin_of_error)\n",
    "\n",
    "print(\"confidence interval:\")\n",
    "print(confidence_interval)"
   ]
  },
  {
   "cell_type": "markdown",
   "id": "37d199ee",
   "metadata": {},
   "source": [
    "Scipy stats allows us to calculate these confidence intervals automatically bu using stats.t.interval():\n"
   ]
  },
  {
   "cell_type": "code",
   "execution_count": 35,
   "id": "4e30f0b4",
   "metadata": {},
   "outputs": [
    {
     "data": {
      "text/plain": [
       "(47.90096481477647, 53.93903518522353)"
      ]
     },
     "execution_count": 35,
     "metadata": {},
     "output_type": "execute_result"
    }
   ],
   "source": [
    "stats.t.interval(alpha=0.95, #conf level\n",
    "                df=24, # degrees of freedom\n",
    "                loc=sample_mean, #sample mean\n",
    "                scale=sigma) #st dev estimate"
   ]
  },
  {
   "cell_type": "markdown",
   "id": "90748179",
   "metadata": {},
   "source": [
    "Finally, I can also make a cofidence intervals for a point estimate of a population proportion. So we can do that on the race proportions.\n",
    "I will calculate a 95% confidence interval for Hispanics according to the statistics calculated above (0.192)"
   ]
  },
  {
   "cell_type": "code",
   "execution_count": 36,
   "id": "dbbc5d3d",
   "metadata": {},
   "outputs": [
    {
     "data": {
      "text/plain": [
       "(0.16758794241348748, 0.21641205758651252)"
      ]
     },
     "execution_count": 36,
     "metadata": {},
     "output_type": "execute_result"
    }
   ],
   "source": [
    "z_critical=stats.norm.ppf(0.975)\n",
    "p=0.192 #point estimate of proportion\n",
    "n=1000 #sample size\n",
    "margin_of_error=z_critical*math.sqrt((p*(1-p))/n)\n",
    "confidence_interval=(p-margin_of_error, #calculate the interval\n",
    "                    p+margin_of_error)\n",
    "confidence_interval"
   ]
  },
  {
   "cell_type": "markdown",
   "id": "40967ee7",
   "metadata": {},
   "source": [
    "The conf interval covers the true proportion size which is 0.20."
   ]
  },
  {
   "cell_type": "markdown",
   "id": "813e87b5",
   "metadata": {},
   "source": [
    "Scipy stats also can calculate this for us:"
   ]
  },
  {
   "cell_type": "code",
   "execution_count": 37,
   "id": "984e7bcc",
   "metadata": {},
   "outputs": [
    {
     "data": {
      "text/plain": [
       "(0.16758794241348748, 0.21641205758651252)"
      ]
     },
     "execution_count": 37,
     "metadata": {},
     "output_type": "execute_result"
    }
   ],
   "source": [
    "stats.norm.interval(alpha=0.95, #conf level\n",
    "                   loc=0.192, #point estim of proportion\n",
    "                   scale=math.sqrt((p*(1-p))/n)) #scaling factir"
   ]
  },
  {
   "cell_type": "markdown",
   "id": "dc1caabb",
   "metadata": {},
   "source": []
  }
 ],
 "metadata": {
  "kernelspec": {
   "display_name": "Python 3",
   "language": "python",
   "name": "python3"
  },
  "language_info": {
   "codemirror_mode": {
    "name": "ipython",
    "version": 3
   },
   "file_extension": ".py",
   "mimetype": "text/x-python",
   "name": "python",
   "nbconvert_exporter": "python",
   "pygments_lexer": "ipython3",
   "version": "3.8.8"
  }
 },
 "nbformat": 4,
 "nbformat_minor": 5
}
