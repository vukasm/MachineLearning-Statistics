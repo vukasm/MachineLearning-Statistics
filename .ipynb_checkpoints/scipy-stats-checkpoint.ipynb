{
 "cells": [
  {
   "cell_type": "markdown",
   "id": "b391fde4",
   "metadata": {},
   "source": [
    "# My favorite Scipy-Stats algorithms\n",
    "This notebook contains a demonstration and visualisation of a hypothesis testing using ANOVA, available through scipy-stats Python library [1]."
   ]
  },
  {
   "cell_type": "markdown",
   "id": "1404f8f3",
   "metadata": {},
   "source": [
    "***"
   ]
  },
  {
   "cell_type": "markdown",
   "id": "d2f465c0",
   "metadata": {},
   "source": [
    "## Intro to scipy.stats"
   ]
  },
  {
   "cell_type": "markdown",
   "id": "14336d5c",
   "metadata": {},
   "source": [
    "`scipy.stats` is a Python library which contains a large number of statistical functions, e.g. probability distributions, summary and frequency statistics, correlation functions and statistical tests, maked statistics, kernel density estimation, quasi-Monte Carlo functionality etc. It is very interesting library and useful for learning purposes. <br>\n",
    "In this notebook I want to demonstrate some of the statistical functions, namely several probability distributions, and statistical tests: t-test and ANOVA."
   ]
  },
  {
   "cell_type": "code",
   "execution_count": 1,
   "id": "e897a315",
   "metadata": {},
   "outputs": [],
   "source": [
    "#All the modules we are going to need.\n",
    "\n",
    "%matplotlib inline\n",
    "\n",
    "import numpy as np\n",
    "import pandas as pd\n",
    "import matplotlib.pyplot as plt\n",
    "import scipy.stats as stats\n",
    "import random\n",
    "import math\n",
    "import seaborn as sns\n",
    "\n",
    "plt.style.use('ggplot')"
   ]
  },
  {
   "cell_type": "markdown",
   "id": "83dea612",
   "metadata": {},
   "source": [
    "***"
   ]
  },
  {
   "cell_type": "markdown",
   "id": "cce3ea9a",
   "metadata": {},
   "source": [
    "## 1. Probability distributions"
   ]
  },
  {
   "cell_type": "markdown",
   "id": "1a4007b3",
   "metadata": {},
   "source": [
    "Let's demonstrate different probability distribution types."
   ]
  },
  {
   "cell_type": "markdown",
   "id": "f78f22d1",
   "metadata": {},
   "source": [
    "### Uniform\n",
    "*Each value is equaly likely to be picked*"
   ]
  },
  {
   "cell_type": "markdown",
   "id": "ada4cd7c",
   "metadata": {},
   "source": [
    "A uniform distribution, sometimes also known as a rectangular distribution, is a distribution that has constant probability, meaning each value has equal chance to be picked.[2] Let's demonstrate that with scipy stats."
   ]
  },
  {
   "cell_type": "code",
   "execution_count": 2,
   "id": "66caa61b",
   "metadata": {},
   "outputs": [],
   "source": [
    "uniform_data=stats.uniform.rvs(size=100000, #Let's generate random 10k numbers\n",
    "                               loc=0,       #from 0\n",
    "                               scale=10)    #to 10."
   ]
  },
  {
   "cell_type": "code",
   "execution_count": 3,
   "id": "c2e321ee",
   "metadata": {},
   "outputs": [
    {
     "data": {
      "image/png": "[encoded data removed]",
      "text/plain": [
       "<Figure size 648x648 with 1 Axes>"
      ]
     },
     "metadata": {},
     "output_type": "display_data"
    }
   ],
   "source": [
    "#Plot the distribution.\n",
    "pd.DataFrame (uniform_data).plot(kind=\"density\", \n",
    "                                figsize=(9,9),\n",
    "                                xlim=(-1,11));"
   ]
  },
  {
   "cell_type": "markdown",
   "id": "4b817c3d",
   "metadata": {},
   "source": [
    "Now you can see why some call it rectangle distribution. We have the flat value where each value is equally likely to happen."
   ]
  },
  {
   "cell_type": "markdown",
   "id": "b981afbb",
   "metadata": {},
   "source": [
    "**The cumulative distribution function (CDF)** of a random variable is another method to describe the distribution of random variables. It gives you us area under the distribution's density to the left of a certain value of the x axis (cutoff value). I am interested in the CDF for value 2.5."
   ]
  },
  {
   "cell_type": "code",
   "execution_count": 4,
   "id": "8f4c2bb8",
   "metadata": {},
   "outputs": [
    {
     "data": {
      "text/plain": [
       "0.25"
      ]
     },
     "execution_count": 4,
     "metadata": {},
     "output_type": "execute_result"
    }
   ],
   "source": [
    "stats.uniform.cdf(x=2.5,    #cutoff value (quantile) to check\n",
    "                 loc=0,     #distribution start\n",
    "                 scale=10)  #distribution end"
   ]
  },
  {
   "cell_type": "markdown",
   "id": "fd61cda0",
   "metadata": {},
   "source": [
    "It looks like 25% of the values are to the left of x=2.5. Now, there is another thing called **PPF** or **Percent Point Function**, which is an exact inverse of CDF. Now I can ask what value of x do I need to have, e.g. 40% to te left of it?"
   ]
  },
  {
   "cell_type": "code",
   "execution_count": 5,
   "id": "89af1798",
   "metadata": {},
   "outputs": [
    {
     "data": {
      "text/plain": [
       "4.0"
      ]
     },
     "execution_count": 5,
     "metadata": {},
     "output_type": "execute_result"
    }
   ],
   "source": [
    "stats.uniform.ppf(q=0.4, #I want 40% of the distribution to be to the left of my x.\n",
    "                 loc=0,\n",
    "                 scale=10)\n"
   ]
  },
  {
   "cell_type": "markdown",
   "id": "f6a86d49",
   "metadata": {},
   "source": [
    "PDF of Probability Density Function returns the probability that the variable x takes a specific value (more correctly: lies between a range of values). For Uniform distribution, I know that each value has the same chance of being picked. Let's prove it.\n"
   ]
  },
  {
   "cell_type": "code",
   "execution_count": 6,
   "id": "9ed29d2b",
   "metadata": {},
   "outputs": [
    {
     "name": "stdout",
     "output_type": "stream",
     "text": [
      "Density at x value -1\n",
      "0.0\n",
      "Density at x value 2\n",
      "0.1\n",
      "Density at x value 5\n",
      "0.1\n",
      "Density at x value 8\n",
      "0.1\n",
      "Density at x value 11\n",
      "0.0\n"
     ]
    }
   ],
   "source": [
    "# For every 3rd x in range of -1 to 12, let's check the probability of being picked.\n",
    "# Our distribution range is 0 to 10.\n",
    "for x in range (-1,12,3):\n",
    "    print(\"Density at x value \"+str(x))\n",
    "    print(stats.uniform.pdf(x,loc=0,scale=10))"
   ]
  },
  {
   "cell_type": "markdown",
   "id": "07b7579b",
   "metadata": {},
   "source": [
    "Values outside of range (-1 and 11) have no probability of happening while all values inside of range have equal probability, i.e. 10%. Proven!"
   ]
  },
  {
   "cell_type": "markdown",
   "id": "caf0d1bc",
   "metadata": {},
   "source": [
    "One fun fact, function random.random() gives us a real number between 0 and 1, which is basically uniform distribution!"
   ]
  },
  {
   "cell_type": "code",
   "execution_count": 7,
   "id": "83549d0c",
   "metadata": {},
   "outputs": [
    {
     "name": "stdout",
     "output_type": "stream",
     "text": [
      "0.4745706786885481\n",
      "0.4745706786885481\n"
     ]
    }
   ],
   "source": [
    "# Setting a seed so that we can see if the output is the same.\n",
    "# Check two functions.\n",
    "\n",
    "random.seed(12)\n",
    "print(random.random())\n",
    "\n",
    "random.seed(12)\n",
    "print(random.uniform(0,1))"
   ]
  },
  {
   "cell_type": "markdown",
   "id": "2ebefa21",
   "metadata": {},
   "source": [
    "### Normal distribution\n",
    "*Bell shaped curve, mean and median are equal. 99.7% data lies within 3 standard deviations.*"
   ]
  },
  {
   "cell_type": "markdown",
   "id": "7d97764f",
   "metadata": {},
   "source": [
    "We can use CDF same as above to check what % of data generated by a normal distribution is within 3 standard deviation from the mean! So, let's prove the above statement."
   ]
  },
  {
   "cell_type": "code",
   "execution_count": 8,
   "id": "07095901",
   "metadata": {},
   "outputs": [
    {
     "name": "stdout",
     "output_type": "stream",
     "text": [
      "0.0013498980316300933 0.9973002039367398\n"
     ]
    }
   ],
   "source": [
    "# As normal distribution is two sided, we need to check for both tails.\n",
    "# Probability that data is under -1 standard deviation\n",
    "prob_under_minus1=stats.norm.cdf(x=-3,\n",
    "                                loc=0,\n",
    "                                scale=1)\n",
    "# Probability that data is over 1 standard deviation.\n",
    "prob_over_1= 1- stats.norm.cdf(x=3,\n",
    "                                loc=0,\n",
    "                                scale=1)\n",
    "between_prob=1-(prob_under_minus1+prob_over_1)\n",
    "print(prob_under_minus1,between_prob)"
   ]
  },
  {
   "cell_type": "markdown",
   "id": "64283602",
   "metadata": {},
   "source": [
    "Roughly 99.7% of data generated by a normal distribution lies within 3 standard deviation from the mean. Proven!\n",
    "\n",
    "We can also look for a quantile for certain % cutoff, let's say 2.5% or 97.5%:"
   ]
  },
  {
   "cell_type": "code",
   "execution_count": 9,
   "id": "0bdf1042",
   "metadata": {},
   "outputs": [
    {
     "name": "stdout",
     "output_type": "stream",
     "text": [
      "-1.9599639845400545\n"
     ]
    }
   ],
   "source": [
    "#Find the quantile for 2.5% cutoff.\n",
    "print(stats.norm.ppf(q=0.025))"
   ]
  },
  {
   "cell_type": "code",
   "execution_count": 10,
   "id": "596ab608",
   "metadata": {},
   "outputs": [
    {
     "name": "stdout",
     "output_type": "stream",
     "text": [
      "1.959963984540054\n"
     ]
    }
   ],
   "source": [
    "#Find the quantile for 97.5% cutoff.\n",
    "print(stats.norm.ppf(q=0.975)) "
   ]
  },
  {
   "cell_type": "markdown",
   "id": "6998080a",
   "metadata": {},
   "source": [
    "### Binomial distribution\n",
    "*Discrete probability distribution.<br>\n",
    "Answers the question: How likely it is to achieve p number of successes in n trials of the experiment?*"
   ]
  },
  {
   "cell_type": "markdown",
   "id": "403d807f",
   "metadata": {},
   "source": [
    "Main example of this is the flip of a coin. Let's say we have 10 flips per trial in 10k trials. Probability of success is of course 50-50."
   ]
  },
  {
   "cell_type": "code",
   "execution_count": 11,
   "id": "48e5bf12",
   "metadata": {},
   "outputs": [
    {
     "name": "stdout",
     "output_type": "stream",
     "text": [
      "col_0   0   1    2     3     4     5     6     7    8    9   10\n",
      "row_0                                                          \n",
      "counts   4  99  456  1170  2086  2538  1962  1119  444  108  14\n"
     ]
    },
    {
     "data": {
      "text/plain": [
       "array([[<AxesSubplot:title={'center':'0'}>]], dtype=object)"
      ]
     },
     "execution_count": 11,
     "metadata": {},
     "output_type": "execute_result"
    },
    {
     "data": {
      "image/png": "[encoded data removed]",
      "text/plain": [
       "<Figure size 432x288 with 1 Axes>"
      ]
     },
     "metadata": {},
     "output_type": "display_data"
    }
   ],
   "source": [
    "fair_coin_flips=stats.binom.rvs(n=10,       #n of flips per trials\n",
    "                               p=0.5,       #success probability\n",
    "                               size=10000)  #n of trial\n",
    "\n",
    "#Print table of counts.\n",
    "print(pd.crosstab(index=\"counts\",columns=fair_coin_flips))\n",
    "\n",
    "#Plot.\n",
    "pd.DataFrame(fair_coin_flips).hist(range=(-0.5,10.5),bins=11)"
   ]
  },
  {
   "cell_type": "markdown",
   "id": "fea863e8",
   "metadata": {},
   "source": [
    "It looks like the highest amount of successes was 5/10 and the plot looks much like a bell shaped curve. But this is not like normal distriburtion, as it is only a result of our inputs. I will show you how this can be biased:"
   ]
  },
  {
   "cell_type": "code",
   "execution_count": 12,
   "id": "ed3ed6cc",
   "metadata": {},
   "outputs": [
    {
     "name": "stdout",
     "output_type": "stream",
     "text": [
      "col_0   2   3   4    5    6     7     8     9     10\n",
      "row_0                                               \n",
      "counts   2  10  60  297  888  1943  3051  2681  1068\n"
     ]
    },
    {
     "data": {
      "text/plain": [
       "array([[<AxesSubplot:title={'center':'0'}>]], dtype=object)"
      ]
     },
     "execution_count": 12,
     "metadata": {},
     "output_type": "execute_result"
    },
    {
     "data": {
      "image/png": "[encoded data removed]",
      "text/plain": [
       "<Figure size 432x288 with 1 Axes>"
      ]
     },
     "metadata": {},
     "output_type": "display_data"
    }
   ],
   "source": [
    "biased_fair_coin_flips=stats.binom.rvs(n=10,   #n of flips per trials\n",
    "                               p=0.8,          #success probability is now set at 80% \n",
    "                               size=10000)     #n of trial\n",
    "#Print table of counts.\n",
    "print(pd.crosstab(index=\"counts\",columns=biased_fair_coin_flips))\n",
    "# Plot.\n",
    "pd.DataFrame(biased_fair_coin_flips).hist(range=(-0.5,10.5),\n",
    "                                          bins=11)"
   ]
  },
  {
   "cell_type": "markdown",
   "id": "6392291b",
   "metadata": {},
   "source": [
    "As we set the success probability to 0.8, this is how the probability function looks like. You can see that it is not like bell shaped curve."
   ]
  },
  {
   "cell_type": "markdown",
   "id": "d20739ab",
   "metadata": {},
   "source": [
    "### Geometric \n",
    "Geometric distribution is a type of discrete probability distribution that represents the probability of the number of successive failures before a success is obtained in a Bernoulli trial.[3] <br>\n",
    "A **Bernoulli trial** is an experiment that can have only two possible outcomes, ie., success or failure. In other words, in a geometric distribution, a Bernoulli trial is repeated until a success is obtained and then stopped. <br>\n",
    "We can apply this to our coin-flip test. How many flips do we need to flip on the head side of the coin? (Assuming head is the success side)"
   ]
  },
  {
   "cell_type": "code",
   "execution_count": 13,
   "id": "dd44570b",
   "metadata": {},
   "outputs": [
    {
     "name": "stdout",
     "output_type": "stream",
     "text": [
      "col_0     1     2     3    4    5    6   7   8   9   10  11  14\n",
      "row_0                                                          \n",
      "counts  4961  2562  1174  658  308  166  89  46  19  13   1   3\n"
     ]
    },
    {
     "data": {
      "text/plain": [
       "array([[<AxesSubplot:title={'center':'0'}>]], dtype=object)"
      ]
     },
     "execution_count": 13,
     "metadata": {},
     "output_type": "execute_result"
    },
    {
     "data": {
      "image/png": "[encoded data removed]",
      "text/plain": [
       "<Figure size 432x288 with 1 Axes>"
      ]
     },
     "metadata": {},
     "output_type": "display_data"
    }
   ],
   "source": [
    "random.seed(12)\n",
    "\n",
    "flips_till_heads=stats.geom.rvs(size=10000, #generate geometric data\n",
    "                                p=0.5)      #with success prob. 0.5\n",
    "\n",
    "#Print table of counts.\n",
    "print(pd.crosstab(index=\"counts\", columns=flips_till_heads))\n",
    "\n",
    "#Plot.\n",
    "pd.DataFrame(flips_till_heads).hist(range=(-0.5,max(flips_till_heads)+0.5),\n",
    "                                    bins=max(flips_till_heads)+1)"
   ]
  },
  {
   "cell_type": "markdown",
   "id": "89e0c488",
   "metadata": {},
   "source": [
    "it is very likely to take 1 or 2 flips to get to head, but more unlikely to take more than 5 flips."
   ]
  },
  {
   "cell_type": "markdown",
   "id": "a29575ab",
   "metadata": {},
   "source": [
    "### Poisson distribution\n",
    "*Number of successes in certain time interval, e.g. number of arrivals to the hospital in a given time*"
   ]
  },
  {
   "cell_type": "code",
   "execution_count": 14,
   "id": "d0a61e45",
   "metadata": {},
   "outputs": [
    {
     "name": "stdout",
     "output_type": "stream",
     "text": [
      "col_0      0     1     2    3    4   5  6  7\n",
      "row_0                                       \n",
      "counts  3658  3649  1843  642  170  32  5  1\n"
     ]
    },
    {
     "data": {
      "text/plain": [
       "array([[<AxesSubplot:title={'center':'0'}>]], dtype=object)"
      ]
     },
     "execution_count": 14,
     "metadata": {},
     "output_type": "execute_result"
    },
    {
     "data": {
      "image/png": "[encoded data removed]",
      "text/plain": [
       "<Figure size 432x288 with 1 Axes>"
      ]
     },
     "metadata": {},
     "output_type": "display_data"
    }
   ],
   "source": [
    "# Generate poisson distribution for size of 10k with average arrival in an hour is 1\n",
    "random.seed(12)\n",
    "arrival_rate_1=stats.poisson.rvs(size=10000, #generate poisson data\n",
    "                                mu=1)        #avg arrivals 1\n",
    "#Print table of counts.\n",
    "print(pd.crosstab(index=\"counts\",columns=arrival_rate_1))\n",
    "\n",
    "#Plot\n",
    "pd.DataFrame(arrival_rate_1).hist(range=(-0.5,max(arrival_rate_1)+0.5),\n",
    "                                 bins=max(arrival_rate_1)+1)"
   ]
  },
  {
   "cell_type": "markdown",
   "id": "43ee8154",
   "metadata": {},
   "source": [
    "It seems that we often see 0 and 1 arrivals within one hour, we see 2 people arriving half as often and so on. Please note than Poisson distribution will not always look right skewed, as opposed to geometrical distribution. It depends on how we set it up. <br>\n",
    "For example, if I set the average number of arrivals to be 10 we get a ttally different shape:"
   ]
  },
  {
   "cell_type": "code",
   "execution_count": 15,
   "id": "92a80fc4",
   "metadata": {},
   "outputs": [
    {
     "name": "stdout",
     "output_type": "stream",
     "text": [
      "col_0   0   1   2   3    4    5    6    7     8     9   ...   15   16   17  \\\n",
      "row_0                                                   ...                  \n",
      "counts   1   5  16  81  179  424  628  930  1109  1266  ...  334  217  127   \n",
      "\n",
      "col_0   18  19  20  21  22  23  24  \n",
      "row_0                               \n",
      "counts  73  31  19  10   5   1   1  \n",
      "\n",
      "[1 rows x 25 columns]\n"
     ]
    },
    {
     "data": {
      "text/plain": [
       "array([[<AxesSubplot:title={'center':'0'}>]], dtype=object)"
      ]
     },
     "execution_count": 15,
     "metadata": {},
     "output_type": "execute_result"
    },
    {
     "data": {
      "image/png": "[encoded data removed]",
      "text/plain": [
       "<Figure size 432x288 with 1 Axes>"
      ]
     },
     "metadata": {},
     "output_type": "display_data"
    }
   ],
   "source": [
    "random.seed(12)\n",
    "arrival_rate_1=stats.poisson.rvs(size=10000, #generate poisson data\n",
    "                                mu=10)       #avg arrival time is 1\n",
    "#Print table of counts.\n",
    "print(pd.crosstab(index=\"counts\",columns=arrival_rate_1))\n",
    "\n",
    "#Plot.\n",
    "pd.DataFrame(arrival_rate_1).hist(range=(-0.5,max(arrival_rate_1)+0.5),\n",
    "                                 bins=max(arrival_rate_1)+1)"
   ]
  },
  {
   "cell_type": "markdown",
   "id": "029e4828",
   "metadata": {},
   "source": [
    "***"
   ]
  },
  {
   "cell_type": "markdown",
   "id": "c70ec84e",
   "metadata": {},
   "source": [
    "## 2. Statistical tests"
   ]
  },
  {
   "cell_type": "markdown",
   "id": "55a1328d",
   "metadata": {},
   "source": [
    "### Confidence intervals"
   ]
  },
  {
   "cell_type": "markdown",
   "id": "552d0b08",
   "metadata": {},
   "source": [
    "Let's say I want to do some analysis on the people voting on elections. I want to estimate the average age of the voting population in the Netherlands."
   ]
  },
  {
   "cell_type": "code",
   "execution_count": 16,
   "id": "587cfb1c",
   "metadata": {},
   "outputs": [
    {
     "data": {
      "text/plain": [
       "51.4444625"
      ]
     },
     "execution_count": 16,
     "metadata": {},
     "output_type": "execute_result"
    }
   ],
   "source": [
    "#point estimates are estimates of population parameters based on sample data\n",
    "#sample mean is used\n",
    "np.random.seed(10)\n",
    "population_ages1=stats.poisson.rvs(loc=18,mu=35,size=150000) #random values\n",
    "population_ages2=stats.poisson.rvs(loc=18,mu=10,size=10000)\n",
    "population_ages=np.concatenate((population_ages1,population_ages2))\n",
    "\n",
    "population_ages.mean() #population mean"
   ]
  },
  {
   "cell_type": "markdown",
   "id": "691b363b",
   "metadata": {},
   "source": [
    "Mean age of the population is in this case 51 years. Now, let's take a sample from this population and see if the mean of the sample differs a lot from the mean of the population."
   ]
  },
  {
   "cell_type": "code",
   "execution_count": 17,
   "id": "6c0e7402",
   "metadata": {},
   "outputs": [
    {
     "name": "stdout",
     "output_type": "stream",
     "text": [
      "Sample mean is:\n",
      "51.008\n",
      "Difference between population and sample mean is:0.43646249999999753\n"
     ]
    }
   ],
   "source": [
    "#taking a sample\n",
    "np.random.seed(6)\n",
    "#sample 500 values from the population\n",
    "sample_ages=np.random.choice(a=population_ages,\n",
    "                            size=500)\n",
    "#print sample mean\n",
    "\n",
    "print(\"Sample mean is:\")\n",
    "print(sample_ages.mean())\n",
    "\n",
    "#check difference between the population and sample mean\n",
    "diff = population_ages.mean()-sample_ages.mean()\n",
    "print(\"Difference between population and sample mean is:\"+str(diff))\n"
   ]
  },
  {
   "cell_type": "markdown",
   "id": "5e276b27",
   "metadata": {},
   "source": [
    "This shows we can get a pretty accurate estimate by using sample mean, as they differ only slightly.."
   ]
  },
  {
   "cell_type": "markdown",
   "id": "40210d51",
   "metadata": {},
   "source": [
    "I might want to estimate the race ratio of the voters, to get the sense of the demographics of the voter base."
   ]
  },
  {
   "cell_type": "code",
   "execution_count": 18,
   "id": "7e5ef515",
   "metadata": {},
   "outputs": [
    {
     "name": "stdout",
     "output_type": "stream",
     "text": [
      "asian propotion estimate:\n",
      "0.099\n",
      "white propotion estimate:\n",
      "0.379\n",
      "black propotion estimate:\n",
      "0.231\n",
      "hispanic propotion estimate:\n",
      "0.192\n",
      "other propotion estimate:\n",
      "0.099\n"
     ]
    }
   ],
   "source": [
    "random.seed(10)\n",
    "population_races=([\"white\"]*100000)+([\"black\"]*50000)+([\"hispanic\"]*50000)+([\"asian\"]*25000)+([\"other\"]*25000)\n",
    "\n",
    "demo_sample=random.sample(population_races,1000) #sample 1000 values\n",
    "\n",
    "# Print a proportion estimate for each race.\n",
    "for race in set(demo_sample):\n",
    "    print(race+\" propotion estimate:\")\n",
    "    print(demo_sample.count(race)/1000)"
   ]
  },
  {
   "cell_type": "markdown",
   "id": "de2f1670",
   "metadata": {},
   "source": [
    "Sampling Distributions and The Central Limit Theorem"
   ]
  },
  {
   "cell_type": "markdown",
   "id": "058ffc9c",
   "metadata": {},
   "source": [
    "Many statistical procedures assume normal distribution (for its nice properties), however this is in reality rarely true.\n",
    "I want to plot the data I generated (population and sample) and check the skeweness."
   ]
  },
  {
   "cell_type": "code",
   "execution_count": 19,
   "id": "ad8751d7",
   "metadata": {},
   "outputs": [
    {
     "name": "stdout",
     "output_type": "stream",
     "text": [
      "-1.1256148418046046\n"
     ]
    },
    {
     "data": {
      "image/png": "[encoded data removed]",
      "text/plain": [
       "<Figure size 432x432 with 1 Axes>"
      ]
     },
     "metadata": {},
     "output_type": "display_data"
    }
   ],
   "source": [
    "# Check the skeweness of population\n",
    "pd.DataFrame(population_ages).hist(bins=58,\n",
    "                                  range=(17.5,75.5),\n",
    "                                  figsize=(6,6))\n",
    "\n",
    "# Plot.\n",
    "print(stats.skew(population_ages));"
   ]
  },
  {
   "cell_type": "code",
   "execution_count": 20,
   "id": "3a77cd32",
   "metadata": {},
   "outputs": [
    {
     "name": "stdout",
     "output_type": "stream",
     "text": [
      "-1.0992883065975738\n"
     ]
    },
    {
     "data": {
      "image/png": "[encoded data removed]",
      "text/plain": [
       "<Figure size 432x432 with 1 Axes>"
      ]
     },
     "metadata": {},
     "output_type": "display_data"
    }
   ],
   "source": [
    "# Check the skeweness of sample.\n",
    "pd.DataFrame(sample_ages).hist(bins=58,\n",
    "                                  range=(17.5,75.5),\n",
    "                                  figsize=(6,6))\n",
    "print(stats.skew(sample_ages));"
   ]
  },
  {
   "cell_type": "markdown",
   "id": "ad9c52f4",
   "metadata": {},
   "source": [
    "This looks very similar overall. But it clearly doesn't have normal distribution.<br>\n",
    "Does that mean we cannot apply the techniquest which assume normal distribution to this dataset?<br>\n",
    "**NO.**<br> \n",
    "Luckily there is a **central limit theorem**, a theorem part of the probability theory. It states the sample distribution mean is normally distributed even though the underlying data isn't.<br>\n",
    "Therefore, I can treat sample mean as if it was drawn from the normal distribution.<br>\n",
    "I will demonstrate that by creating a sampling distribution, taking 200 samples from the population and plotting the means of those."
   ]
  },
  {
   "cell_type": "code",
   "execution_count": 21,
   "id": "16266852",
   "metadata": {},
   "outputs": [
    {
     "data": {
      "text/plain": [
       "<AxesSubplot:ylabel='Density'>"
      ]
     },
     "execution_count": 21,
     "metadata": {},
     "output_type": "execute_result"
    },
    {
     "data": {
      "image/png": "[encoded data removed]",
      "text/plain": [
       "<Figure size 432x432 with 1 Axes>"
      ]
     },
     "metadata": {},
     "output_type": "display_data"
    }
   ],
   "source": [
    "np.random.seed(10)\n",
    "#making the empty list to hold point estimates\n",
    "point_estimates=[] \n",
    "\n",
    "#generate 200 samples\n",
    "for x in range(200): \n",
    "    sample=np.random.choice(a=population_ages,size=500)\n",
    "    point_estimates.append(sample.mean())\n",
    "    \n",
    "pd.DataFrame(point_estimates).plot(kind=\"density\",\n",
    "                                  figsize=(6,6))"
   ]
  },
  {
   "cell_type": "markdown",
   "id": "31f38c83",
   "metadata": {},
   "source": [
    "It looks normally distributed!"
   ]
  },
  {
   "cell_type": "code",
   "execution_count": 22,
   "id": "19af3bba",
   "metadata": {},
   "outputs": [
    {
     "data": {
      "text/plain": [
       "-0.05517749999999921"
      ]
     },
     "execution_count": 22,
     "metadata": {},
     "output_type": "execute_result"
    }
   ],
   "source": [
    "#the mean of the sampling distr approaches the true population mean\n",
    "population_ages.mean()-np.array(point_estimates).mean()"
   ]
  },
  {
   "cell_type": "markdown",
   "id": "1ebd445a",
   "metadata": {},
   "source": [
    "The difference is so small. The more samples we take the better estimate of the population"
   ]
  },
  {
   "cell_type": "markdown",
   "id": "103bfb0a",
   "metadata": {},
   "source": [
    "**Confidence interval** <br>\n",
    "As estimates are prone to errors, a confidence level is a range of values above and below the point estimate that captures the true population parameter of some predetermined confidence level. <br>\n",
    "e.g. I want to have 95% confidence level.<br>\n",
    "To create a confidence interval we add a marginal error to the point estimate. <br>\n",
    "To calculate marginal error,we need standard deviation of a population. The formula is<br><br>\n",
    "$\\frac {z * \\sigma} {\\sqrt{n}}$ <br><br>\n",
    "where *sigma* is the population standard deviation, *n* is sample size and *z* is z critical value (n of st dev you have to go from the mean of the normal distribution to capture the proportion of the data associated with desired cof level).\n",
    "e.g. 95% of data lies in 2 standard deviations.<br>\n",
    "\n",
    "I will calculate 95% confidence interval for my mean point estimate.\n"
   ]
  },
  {
   "cell_type": "code",
   "execution_count": 23,
   "id": "875c19ba",
   "metadata": {},
   "outputs": [
    {
     "name": "stdout",
     "output_type": "stream",
     "text": [
      "z-critical value:\n",
      "1.959963984540054\n",
      "confidence interval:\n",
      "(51.1218997189614, 52.1581002810386)\n"
     ]
    }
   ],
   "source": [
    "np.random.seed(10)\n",
    "\n",
    "sample_size=1000\n",
    "sample=np.random.choice(a=population_ages,size=sample_size)\n",
    "sample_mean=sample.mean()\n",
    "\n",
    "#get the z critical value.\n",
    "z_critical=stats.norm.ppf(q=0.975) \n",
    "\n",
    "#pr.int z critical value.\n",
    "print(\"z-critical value:\")\n",
    "print(z_critical) \n",
    "\n",
    "#Get population standard deviation.\n",
    "pop_stdev=population_ages.std() \n",
    "\n",
    "margin_of_error=z_critical*(pop_stdev/math.sqrt(sample_size))\n",
    "\n",
    "confidence_interval=(sample_mean-margin_of_error,\n",
    "                    sample_mean+margin_of_error)\n",
    "\n",
    "#Print confidence interval.\n",
    "print(\"confidence interval:\")\n",
    "print(confidence_interval)"
   ]
  },
  {
   "cell_type": "markdown",
   "id": "376b8e19",
   "metadata": {},
   "source": [
    "In case we don't know the standard deviation of the population, we have to use standard deviation of the sample. Consequently, this will result in more errors. <br>\n",
    "To account for this error I will use **t-value** instead of z-value. **T-value** is drawn from t-distribution, which closely resembles the normal distributionbut gets wider and wider as the sample size falls. <br>\n",
    "I can use scipy stats for this by using `stats.t.ppf`.\n",
    " \n"
   ]
  },
  {
   "cell_type": "code",
   "execution_count": 24,
   "id": "1c93b593",
   "metadata": {},
   "outputs": [
    {
     "name": "stdout",
     "output_type": "stream",
     "text": [
      "t-critical value:\n",
      "2.0638985616280205\n",
      "confidence interval:\n",
      "(47.90096481477647, 53.93903518522353)\n"
     ]
    }
   ],
   "source": [
    "#Seed.\n",
    "np.random.seed(10)\n",
    "\n",
    "sample_size=25\n",
    "sample=np.random.choice(a=population_ages,size=sample_size)\n",
    "sample_mean=sample.mean()\n",
    "\n",
    "#Get the t critical value.\n",
    "t_critical=stats.t.ppf(q=0.975,df=24) \n",
    "\n",
    "#print t critical value\n",
    "print(\"t-critical value:\")\n",
    "print(t_critical) \n",
    "\n",
    "#Get sample standard deviation.\n",
    "sample_stdev=sample.std(ddof=1) \n",
    "\n",
    "#Standard deviation estimate.\n",
    "sigma=sample_stdev/math.sqrt(sample_size) \n",
    "\n",
    "#Margin of error.\n",
    "margin_of_error=t_critical*sigma\n",
    "\n",
    "#Confidence interval.\n",
    "confidence_interval=(sample_mean-margin_of_error,\n",
    "                    sample_mean+margin_of_error)\n",
    "\n",
    "print(\"confidence interval:\")\n",
    "print(confidence_interval)"
   ]
  },
  {
   "cell_type": "markdown",
   "id": "37d199ee",
   "metadata": {},
   "source": [
    "Great thing is that `scipy.stats` allows us to calculate these confidence intervals automatically by using `stats.t.interval`:\n"
   ]
  },
  {
   "cell_type": "code",
   "execution_count": 25,
   "id": "4e30f0b4",
   "metadata": {},
   "outputs": [
    {
     "data": {
      "text/plain": [
       "(47.90096481477647, 53.93903518522353)"
      ]
     },
     "execution_count": 25,
     "metadata": {},
     "output_type": "execute_result"
    }
   ],
   "source": [
    "stats.t.interval(alpha=0.95,      #Confidence level.\n",
    "                df=24,            #Degrees of freedom.\n",
    "                loc=sample_mean,  #Sample mean.\n",
    "                scale=sigma)      #Standard deviation estimate."
   ]
  },
  {
   "cell_type": "markdown",
   "id": "90748179",
   "metadata": {},
   "source": [
    "Finally, I can also make a cofidence intervals for a point estimate of a population proportion. So we can do that on the race proportions.\n",
    "I will calculate a 95% confidence interval for Hispanics according to the statistics calculated above (0.192)"
   ]
  },
  {
   "cell_type": "code",
   "execution_count": 26,
   "id": "dbbc5d3d",
   "metadata": {},
   "outputs": [
    {
     "data": {
      "text/plain": [
       "(0.16758794241348748, 0.21641205758651252)"
      ]
     },
     "execution_count": 26,
     "metadata": {},
     "output_type": "execute_result"
    }
   ],
   "source": [
    "#Z critical value.\n",
    "z_critical=stats.norm.ppf(0.975)\n",
    "\n",
    "#Point estimate of proportion.\n",
    "p=0.192\n",
    "\n",
    "#Sample size.\n",
    "n=1000 \n",
    "\n",
    "#Margin of error.\n",
    "margin_of_error=z_critical*math.sqrt((p*(1-p))/n)\n",
    "\n",
    "#Calculate the interval.\n",
    "confidence_interval=(p-margin_of_error, \n",
    "                    p+margin_of_error)\n",
    "confidence_interval"
   ]
  },
  {
   "cell_type": "markdown",
   "id": "40967ee7",
   "metadata": {},
   "source": [
    "The confidence interval covers the true proportion size of Hispanic population which is 0.20."
   ]
  },
  {
   "cell_type": "markdown",
   "id": "813e87b5",
   "metadata": {},
   "source": [
    "`scipy.stats` also can calculate this for us with `stats.norm.interval` option:"
   ]
  },
  {
   "cell_type": "code",
   "execution_count": 27,
   "id": "984e7bcc",
   "metadata": {},
   "outputs": [
    {
     "data": {
      "text/plain": [
       "(0.16758794241348748, 0.21641205758651252)"
      ]
     },
     "execution_count": 27,
     "metadata": {},
     "output_type": "execute_result"
    }
   ],
   "source": [
    "stats.norm.interval(alpha=0.95,                   #confidence level\n",
    "                   loc=0.192,                     #point estimate of proportion\n",
    "                   scale=math.sqrt((p*(1-p))/n))  #scaling factor"
   ]
  },
  {
   "cell_type": "markdown",
   "id": "d0730ca0",
   "metadata": {},
   "source": [
    "***"
   ]
  },
  {
   "cell_type": "markdown",
   "id": "dc1caabb",
   "metadata": {},
   "source": [
    "### T-test"
   ]
  },
  {
   "cell_type": "markdown",
   "id": "5cd3ebf4",
   "metadata": {},
   "source": [
    "**Hypothesis tests** are based on a statement called the **null hypothesis**. Null hypothesis assumes that nothing interesting is going on between the variables we are testing. E.g. If I test if two groups differ, the null hypothesis says I cannot confirm those group differ, hence they are the same.<br>\n",
    "If there is little evidence against the null hypothesis, we accept the null hypothesis. If there is significant evidence against, we might accept the **alternative hypothesis**. Alternative hypothesis depends on the type of test we carry out. In this case, two groups do significantly differ. <br><br>\n",
    "\n",
    "We need population distribution and sample data which we will compare to the population.<br><br>\n",
    "\n",
    "Then we choose a significance level *alpha*. This is a probability threshold that determines when you reject the null hypothesis. If the probability level genereted by the test is lower than the significance level, we reject the null hypothesis in favor of alternative.<br><br>\n",
    "\n",
    "**T test** is a statistical test used to determine whether a numeric data sample differs significantly from the population or another sample. [4]"
   ]
  },
  {
   "cell_type": "markdown",
   "id": "c16675b0",
   "metadata": {},
   "source": [
    "### One sample T-test"
   ]
  },
  {
   "cell_type": "markdown",
   "id": "361ef51a",
   "metadata": {},
   "source": [
    "Let's say I wannt to test whether the Dutch population and Amsterdam population are on average the same age. I will use some random data to simulate that."
   ]
  },
  {
   "cell_type": "code",
   "execution_count": 28,
   "id": "710d1fdc",
   "metadata": {},
   "outputs": [
    {
     "name": "stdout",
     "output_type": "stream",
     "text": [
      "51.4431\n",
      "40.58\n"
     ]
    }
   ],
   "source": [
    "#Seed.\n",
    "np.random.seed(6)\n",
    "\n",
    "#Random values for Dutch population ages.\n",
    "population_ages1=stats.poisson.rvs(loc=18,mu=35,size=150000) \n",
    "population_ages2=stats.poisson.rvs(loc=18,mu=10,size=10000)\n",
    "population_ages=np.concatenate((population_ages1,population_ages2))\n",
    "\n",
    "#Random values for ages in Amsterdam.\n",
    "amsterdam_ages1=stats.poisson.rvs(loc=18,mu=30,size=30)\n",
    "amsterdam_ages2=stats.poisson.rvs(loc=18,mu=10,size=20)\n",
    "amsterdam_ages=np.concatenate((amsterdam_ages1,amsterdam_ages2))\n",
    "\n",
    "print(population_ages.mean())\n",
    "print(amsterdam_ages.mean())"
   ]
  },
  {
   "cell_type": "markdown",
   "id": "b650405e",
   "metadata": {},
   "source": [
    "We know that two means are different because I used slightly different distribution.<br>\n",
    "Now, i can conduct a 95% confidence t-test and see whether the test will actually reject the null hypothesis.<br><br>\n",
    "\n",
    "**My Null Hypothesis:** Sample comes from the same distribution. <br>\n",
    "For that I can use `stats.ttest_1samp` option."
   ]
  },
  {
   "cell_type": "code",
   "execution_count": 29,
   "id": "45f6051d",
   "metadata": {},
   "outputs": [
    {
     "data": {
      "text/plain": [
       "Ttest_1sampResult(statistic=-6.65081423661494, pvalue=2.3060044179137718e-08)"
      ]
     },
     "execution_count": 29,
     "metadata": {},
     "output_type": "execute_result"
    }
   ],
   "source": [
    "stats.ttest_1samp(a=amsterdam_ages,\n",
    "                 popmean=population_ages.mean())"
   ]
  },
  {
   "cell_type": "markdown",
   "id": "9390976d",
   "metadata": {},
   "source": [
    "**T-statistics** is -6.65 and **p value** is very very small. As it is smaller than 0.05, we cannot accept the null hypothesis!<br>\n",
    "\n",
    "T statistics of -6.65 tells us how much the mean of the sample deviates from the mean of the population. The higher *T value* (or rather the absolute of *T value*) and the smaller the *p*, the more sure we are we cannot accept the null hypothesis."
   ]
  },
  {
   "cell_type": "markdown",
   "id": "a41cc322",
   "metadata": {},
   "source": [
    "Let's ellaborate opn that thought."
   ]
  },
  {
   "cell_type": "code",
   "execution_count": 30,
   "id": "bbd2cd80",
   "metadata": {},
   "outputs": [
    {
     "data": {
      "text/plain": [
       "-2.0095752344892093"
      ]
     },
     "execution_count": 30,
     "metadata": {},
     "output_type": "execute_result"
    }
   ],
   "source": [
    "stats.t.ppf(q=0.025, #check the first 2.5%\n",
    "           df=49)    #degrees of freedom."
   ]
  },
  {
   "cell_type": "code",
   "execution_count": 31,
   "id": "e3dc6322",
   "metadata": {},
   "outputs": [
    {
     "data": {
      "text/plain": [
       "2.009575234489209"
      ]
     },
     "execution_count": 31,
     "metadata": {},
     "output_type": "execute_result"
    }
   ],
   "source": [
    "stats.t.ppf(q=0.975,   #check the last 2.5%\n",
    "            df=49)     #degrees of freedom\n",
    "    "
   ]
  },
  {
   "cell_type": "code",
   "execution_count": 32,
   "id": "42f32e52",
   "metadata": {},
   "outputs": [
    {
     "data": {
      "text/plain": [
       "0.013121066545690117"
      ]
     },
     "execution_count": 32,
     "metadata": {},
     "output_type": "execute_result"
    }
   ],
   "source": [
    "#Take the value lower than the value of 2.5% and multipy by 2 for 2 sided test.\n",
    "stats.t.cdf(x=-2.5742,\n",
    "           df=49)*2 "
   ]
  },
  {
   "cell_type": "markdown",
   "id": "e1756ceb",
   "metadata": {},
   "source": [
    "I expect to see the data as extreme as my sample due to chance about 1.3% of the time if the null hypothesis was true. In this case *p value is* lower than significance level of 0.05 so we should reject the null hypothesis."
   ]
  },
  {
   "cell_type": "markdown",
   "id": "7fc7468f",
   "metadata": {},
   "source": [
    "### Two sample t test\n"
   ]
  },
  {
   "cell_type": "markdown",
   "id": "473e5a32",
   "metadata": {},
   "source": [
    "I perhaps want to see if on average age between inhabitants of Rotterdam and Amsterdam differs.Hence, I have 2 samples and will use two-sample T-test."
   ]
  },
  {
   "cell_type": "code",
   "execution_count": 33,
   "id": "e86f22a5",
   "metadata": {},
   "outputs": [
    {
     "name": "stdout",
     "output_type": "stream",
     "text": [
      "42.8\n"
     ]
    }
   ],
   "source": [
    "#Seed.\n",
    "np.random.seed(12)\n",
    "\n",
    "#Random values for Rotterdam population ages.\n",
    "rotterdam_ages1=stats.poisson.rvs(loc=18,mu=33,size=30) \n",
    "rotterdam_ages2=stats.poisson.rvs(loc=18,mu=13,size=20)\n",
    "rotterdam_ages=np.concatenate((rotterdam_ages1,rotterdam_ages2))\n",
    "print(rotterdam_ages.mean())\n"
   ]
  },
  {
   "cell_type": "code",
   "execution_count": 34,
   "id": "60656a9c",
   "metadata": {},
   "outputs": [
    {
     "data": {
      "text/plain": [
       "Ttest_indResult(statistic=-1.0079788186778762, pvalue=0.3159716969179097)"
      ]
     },
     "execution_count": 34,
     "metadata": {},
     "output_type": "execute_result"
    }
   ],
   "source": [
    "#Two sample t-test.\n",
    "stats.ttest_ind(a=amsterdam_ages,\n",
    "               b=rotterdam_ages,\n",
    "               equal_var=False) #assume samples have equal variance as this is one of the assumptions"
   ]
  },
  {
   "cell_type": "markdown",
   "id": "928c6034",
   "metadata": {},
   "source": [
    "Results show *p value* of 0.31, lower than 0.05, hence we do accept the null hypothesis, meaning the means do not differ."
   ]
  },
  {
   "cell_type": "markdown",
   "id": "7ddf091f",
   "metadata": {},
   "source": [
    "### Paired T test"
   ]
  },
  {
   "cell_type": "markdown",
   "id": "d027043d",
   "metadata": {},
   "source": [
    "I can use the paired t-test to test the same sample in two points in time. For example, I want to check weights of group of people in two points in time to see if the group lost waight."
   ]
  },
  {
   "cell_type": "code",
   "execution_count": 35,
   "id": "c61dbd33",
   "metadata": {},
   "outputs": [
    {
     "data": {
      "text/html": [
       "<div>\n",
       "<style scoped>\n",
       "    .dataframe tbody tr th:only-of-type {\n",
       "        vertical-align: middle;\n",
       "    }\n",
       "\n",
       "    .dataframe tbody tr th {\n",
       "        vertical-align: top;\n",
       "    }\n",
       "\n",
       "    .dataframe thead th {\n",
       "        text-align: right;\n",
       "    }\n",
       "</style>\n",
       "<table border=\"1\" class=\"dataframe\">\n",
       "  <thead>\n",
       "    <tr style=\"text-align: right;\">\n",
       "      <th></th>\n",
       "      <th>weight_before</th>\n",
       "      <th>weight_after</th>\n",
       "      <th>weight_change</th>\n",
       "    </tr>\n",
       "  </thead>\n",
       "  <tbody>\n",
       "    <tr>\n",
       "      <th>count</th>\n",
       "      <td>100.000000</td>\n",
       "      <td>100.000000</td>\n",
       "      <td>100.000000</td>\n",
       "    </tr>\n",
       "    <tr>\n",
       "      <th>mean</th>\n",
       "      <td>250.345546</td>\n",
       "      <td>249.115171</td>\n",
       "      <td>-1.230375</td>\n",
       "    </tr>\n",
       "    <tr>\n",
       "      <th>std</th>\n",
       "      <td>28.132539</td>\n",
       "      <td>28.422183</td>\n",
       "      <td>4.783696</td>\n",
       "    </tr>\n",
       "    <tr>\n",
       "      <th>min</th>\n",
       "      <td>170.400443</td>\n",
       "      <td>165.913930</td>\n",
       "      <td>-11.495286</td>\n",
       "    </tr>\n",
       "    <tr>\n",
       "      <th>25%</th>\n",
       "      <td>230.421042</td>\n",
       "      <td>229.148236</td>\n",
       "      <td>-4.046211</td>\n",
       "    </tr>\n",
       "    <tr>\n",
       "      <th>50%</th>\n",
       "      <td>250.830805</td>\n",
       "      <td>251.134089</td>\n",
       "      <td>-1.413463</td>\n",
       "    </tr>\n",
       "    <tr>\n",
       "      <th>75%</th>\n",
       "      <td>270.637145</td>\n",
       "      <td>268.927258</td>\n",
       "      <td>1.738673</td>\n",
       "    </tr>\n",
       "    <tr>\n",
       "      <th>max</th>\n",
       "      <td>314.700233</td>\n",
       "      <td>316.720357</td>\n",
       "      <td>9.759282</td>\n",
       "    </tr>\n",
       "  </tbody>\n",
       "</table>\n",
       "</div>"
      ],
      "text/plain": [
       "       weight_before  weight_after  weight_change\n",
       "count     100.000000    100.000000     100.000000\n",
       "mean      250.345546    249.115171      -1.230375\n",
       "std        28.132539     28.422183       4.783696\n",
       "min       170.400443    165.913930     -11.495286\n",
       "25%       230.421042    229.148236      -4.046211\n",
       "50%       250.830805    251.134089      -1.413463\n",
       "75%       270.637145    268.927258       1.738673\n",
       "max       314.700233    316.720357       9.759282"
      ]
     },
     "execution_count": 35,
     "metadata": {},
     "output_type": "execute_result"
    }
   ],
   "source": [
    "#Seed.\n",
    "np.random.seed(11)\n",
    "\n",
    "#Weight before the change in diet.\n",
    "before=stats.norm.rvs(scale=30,loc=250,size=100)\n",
    "\n",
    "#Weight after change in diet.\n",
    "after=before+stats.norm.rvs(scale=5,loc=-1.25,size=100)\n",
    "\n",
    "#Difference in weight.\n",
    "weight_df=pd.DataFrame({\"weight_before\":before,\n",
    "                       \"weight_after\":after,\n",
    "                       \"weight_change\":after-before})\n",
    "weight_df.describe()"
   ]
  },
  {
   "cell_type": "code",
   "execution_count": 36,
   "id": "8c73b3e0",
   "metadata": {},
   "outputs": [
    {
     "data": {
      "text/plain": [
       "Ttest_relResult(statistic=2.5720175998568284, pvalue=0.011596444318439857)"
      ]
     },
     "execution_count": 36,
     "metadata": {},
     "output_type": "execute_result"
    }
   ],
   "source": [
    "#Paired t-test.\n",
    "stats.ttest_rel(a=before,\n",
    "               b=after)"
   ]
  },
  {
   "cell_type": "markdown",
   "id": "3b627148",
   "metadata": {},
   "source": [
    "Results show 0.01 *p value*, meaning that under 95% confidence there is a significat difference in weight."
   ]
  },
  {
   "cell_type": "markdown",
   "id": "73791110",
   "metadata": {},
   "source": [
    "***"
   ]
  },
  {
   "cell_type": "markdown",
   "id": "ea9d0b65",
   "metadata": {},
   "source": [
    "### ANOVA"
   ]
  },
  {
   "cell_type": "markdown",
   "id": "7d9c41df",
   "metadata": {},
   "source": [
    "T test does work good when dealing with two groups, however, sometimes it is neccessery to compare three or more groups at the same time. If we do the t test on each pair of vaiables, the chances of false positives increase, so this is not a good solution. Thats when **ANOVA** or analysis of variance comes in."
   ]
  },
  {
   "cell_type": "markdown",
   "id": "216abf15",
   "metadata": {},
   "source": [
    "I was building this story up mainly to get the best understand ANOVA, as it is the main purpose of this part of the assignment. However, to understand ANOVA it is important to understand probability distributions, confidence intervals and hypothesis testing. Let's try to perform one way ANOVA test on three groups.\n",
    "Python scipy library allows us to do this."
   ]
  },
  {
   "cell_type": "markdown",
   "id": "49507709",
   "metadata": {},
   "source": [
    "#### Data"
   ]
  },
  {
   "cell_type": "code",
   "execution_count": 37,
   "id": "b3274886",
   "metadata": {},
   "outputs": [
    {
     "name": "stdout",
     "output_type": "stream",
     "text": [
      "    Person gender  Age  Height  pre.weight  Diet  weight6weeks\n",
      "0       25          41     171          60     2          60.0\n",
      "1       26          32     174         103     2         103.0\n",
      "2        1      0   22     159          58     1          54.2\n",
      "3        2      0   46     192          60     1          54.0\n",
      "4        3      0   55     170          64     1          63.3\n",
      "..     ...    ...  ...     ...         ...   ...           ...\n",
      "73      74      1   35     183          83     3          80.2\n",
      "74      75      1   49     177          84     3          79.9\n",
      "75      76      1   28     164          85     3          79.7\n",
      "76      77      1   40     167          87     3          77.8\n",
      "77      78      1   51     175          88     3          81.9\n",
      "\n",
      "[78 rows x 7 columns]\n"
     ]
    }
   ],
   "source": [
    "#Seed.\n",
    "np.random.seed(12)\n",
    "\n",
    "#Import a dataset from csv.\n",
    "df=pd.read_csv(r'C:\\Users\\mvukas\\repo\\Diet_R.csv')\n",
    "print(df)"
   ]
  },
  {
   "cell_type": "markdown",
   "id": "18a2c274",
   "metadata": {},
   "source": [
    "To continue with the weight example, I found this dataset online which shows three groups of people, each group implementimg different type of diet for six weeks. Weight is measured for all before and after 6 weeks. This is a perfect dataset to explore ANOVA."
   ]
  },
  {
   "cell_type": "code",
   "execution_count": 38,
   "id": "7f937567",
   "metadata": {},
   "outputs": [
    {
     "data": {
      "text/html": [
       "<div>\n",
       "<style scoped>\n",
       "    .dataframe tbody tr th:only-of-type {\n",
       "        vertical-align: middle;\n",
       "    }\n",
       "\n",
       "    .dataframe tbody tr th {\n",
       "        vertical-align: top;\n",
       "    }\n",
       "\n",
       "    .dataframe thead th {\n",
       "        text-align: right;\n",
       "    }\n",
       "</style>\n",
       "<table border=\"1\" class=\"dataframe\">\n",
       "  <thead>\n",
       "    <tr style=\"text-align: right;\">\n",
       "      <th></th>\n",
       "      <th>Person</th>\n",
       "      <th>Age</th>\n",
       "      <th>Height</th>\n",
       "      <th>pre.weight</th>\n",
       "      <th>Diet</th>\n",
       "      <th>weight6weeks</th>\n",
       "    </tr>\n",
       "  </thead>\n",
       "  <tbody>\n",
       "    <tr>\n",
       "      <th>count</th>\n",
       "      <td>78.000000</td>\n",
       "      <td>78.000000</td>\n",
       "      <td>78.000000</td>\n",
       "      <td>78.000000</td>\n",
       "      <td>78.000000</td>\n",
       "      <td>78.000000</td>\n",
       "    </tr>\n",
       "    <tr>\n",
       "      <th>mean</th>\n",
       "      <td>39.500000</td>\n",
       "      <td>39.153846</td>\n",
       "      <td>170.820513</td>\n",
       "      <td>72.525641</td>\n",
       "      <td>2.038462</td>\n",
       "      <td>68.680769</td>\n",
       "    </tr>\n",
       "    <tr>\n",
       "      <th>std</th>\n",
       "      <td>22.660538</td>\n",
       "      <td>9.815277</td>\n",
       "      <td>11.276621</td>\n",
       "      <td>8.723344</td>\n",
       "      <td>0.812920</td>\n",
       "      <td>8.924504</td>\n",
       "    </tr>\n",
       "    <tr>\n",
       "      <th>min</th>\n",
       "      <td>1.000000</td>\n",
       "      <td>16.000000</td>\n",
       "      <td>141.000000</td>\n",
       "      <td>58.000000</td>\n",
       "      <td>1.000000</td>\n",
       "      <td>53.000000</td>\n",
       "    </tr>\n",
       "    <tr>\n",
       "      <th>25%</th>\n",
       "      <td>20.250000</td>\n",
       "      <td>32.250000</td>\n",
       "      <td>164.250000</td>\n",
       "      <td>66.000000</td>\n",
       "      <td>1.000000</td>\n",
       "      <td>61.850000</td>\n",
       "    </tr>\n",
       "    <tr>\n",
       "      <th>50%</th>\n",
       "      <td>39.500000</td>\n",
       "      <td>39.000000</td>\n",
       "      <td>169.500000</td>\n",
       "      <td>72.000000</td>\n",
       "      <td>2.000000</td>\n",
       "      <td>68.950000</td>\n",
       "    </tr>\n",
       "    <tr>\n",
       "      <th>75%</th>\n",
       "      <td>58.750000</td>\n",
       "      <td>46.750000</td>\n",
       "      <td>174.750000</td>\n",
       "      <td>78.000000</td>\n",
       "      <td>3.000000</td>\n",
       "      <td>73.825000</td>\n",
       "    </tr>\n",
       "    <tr>\n",
       "      <th>max</th>\n",
       "      <td>78.000000</td>\n",
       "      <td>60.000000</td>\n",
       "      <td>201.000000</td>\n",
       "      <td>103.000000</td>\n",
       "      <td>3.000000</td>\n",
       "      <td>103.000000</td>\n",
       "    </tr>\n",
       "  </tbody>\n",
       "</table>\n",
       "</div>"
      ],
      "text/plain": [
       "          Person        Age      Height  pre.weight       Diet  weight6weeks\n",
       "count  78.000000  78.000000   78.000000   78.000000  78.000000     78.000000\n",
       "mean   39.500000  39.153846  170.820513   72.525641   2.038462     68.680769\n",
       "std    22.660538   9.815277   11.276621    8.723344   0.812920      8.924504\n",
       "min     1.000000  16.000000  141.000000   58.000000   1.000000     53.000000\n",
       "25%    20.250000  32.250000  164.250000   66.000000   1.000000     61.850000\n",
       "50%    39.500000  39.000000  169.500000   72.000000   2.000000     68.950000\n",
       "75%    58.750000  46.750000  174.750000   78.000000   3.000000     73.825000\n",
       "max    78.000000  60.000000  201.000000  103.000000   3.000000    103.000000"
      ]
     },
     "execution_count": 38,
     "metadata": {},
     "output_type": "execute_result"
    }
   ],
   "source": [
    "#Describe the dataset\n",
    "df.describe() #describe dataset"
   ]
  },
  {
   "cell_type": "code",
   "execution_count": 39,
   "id": "aaf0984d",
   "metadata": {},
   "outputs": [],
   "source": [
    "# Calculate the change in weight and create a variable.\n",
    "change=df['weight6weeks']-df['pre.weight']\n",
    "df['weight_change']=change"
   ]
  },
  {
   "cell_type": "code",
   "execution_count": 40,
   "id": "39b1d431",
   "metadata": {},
   "outputs": [
    {
     "data": {
      "text/plain": [
       "<pandas.core.groupby.generic.DataFrameGroupBy object at 0x000001EA1A64CA90>"
      ]
     },
     "execution_count": 40,
     "metadata": {},
     "output_type": "execute_result"
    }
   ],
   "source": [
    "# Group data by diet type.\n",
    "x=df.groupby('Diet')\n",
    "x"
   ]
  },
  {
   "cell_type": "code",
   "execution_count": 41,
   "id": "5fa00f9d",
   "metadata": {},
   "outputs": [
    {
     "data": {
      "text/html": [
       "<div>\n",
       "<style scoped>\n",
       "    .dataframe tbody tr th:only-of-type {\n",
       "        vertical-align: middle;\n",
       "    }\n",
       "\n",
       "    .dataframe tbody tr th {\n",
       "        vertical-align: top;\n",
       "    }\n",
       "\n",
       "    .dataframe thead th {\n",
       "        text-align: right;\n",
       "    }\n",
       "</style>\n",
       "<table border=\"1\" class=\"dataframe\">\n",
       "  <thead>\n",
       "    <tr style=\"text-align: right;\">\n",
       "      <th></th>\n",
       "      <th>Person</th>\n",
       "      <th>Age</th>\n",
       "      <th>Height</th>\n",
       "      <th>pre.weight</th>\n",
       "      <th>weight6weeks</th>\n",
       "      <th>weight_change</th>\n",
       "    </tr>\n",
       "    <tr>\n",
       "      <th>Diet</th>\n",
       "      <th></th>\n",
       "      <th></th>\n",
       "      <th></th>\n",
       "      <th></th>\n",
       "      <th></th>\n",
       "      <th></th>\n",
       "    </tr>\n",
       "  </thead>\n",
       "  <tbody>\n",
       "    <tr>\n",
       "      <th>1</th>\n",
       "      <td>12.5</td>\n",
       "      <td>40.875000</td>\n",
       "      <td>170.291667</td>\n",
       "      <td>72.875000</td>\n",
       "      <td>69.575000</td>\n",
       "      <td>-3.300000</td>\n",
       "    </tr>\n",
       "    <tr>\n",
       "      <th>2</th>\n",
       "      <td>38.0</td>\n",
       "      <td>39.000000</td>\n",
       "      <td>174.851852</td>\n",
       "      <td>71.111111</td>\n",
       "      <td>68.085185</td>\n",
       "      <td>-3.025926</td>\n",
       "    </tr>\n",
       "    <tr>\n",
       "      <th>3</th>\n",
       "      <td>65.0</td>\n",
       "      <td>37.777778</td>\n",
       "      <td>167.259259</td>\n",
       "      <td>73.629630</td>\n",
       "      <td>68.481481</td>\n",
       "      <td>-5.148148</td>\n",
       "    </tr>\n",
       "  </tbody>\n",
       "</table>\n",
       "</div>"
      ],
      "text/plain": [
       "      Person        Age      Height  pre.weight  weight6weeks  weight_change\n",
       "Diet                                                                        \n",
       "1       12.5  40.875000  170.291667   72.875000     69.575000      -3.300000\n",
       "2       38.0  39.000000  174.851852   71.111111     68.085185      -3.025926\n",
       "3       65.0  37.777778  167.259259   73.629630     68.481481      -5.148148"
      ]
     },
     "execution_count": 41,
     "metadata": {},
     "output_type": "execute_result"
    }
   ],
   "source": [
    "#Pivot tables.\n",
    "x.mean()"
   ]
  },
  {
   "cell_type": "markdown",
   "id": "dbf60451",
   "metadata": {},
   "source": [
    "We can see that overall all three groups lost weight on average. However it seems that group 3 lost a bit more on average than other two groups. I am curious what will statistical results show."
   ]
  },
  {
   "cell_type": "code",
   "execution_count": 42,
   "id": "84bb879c",
   "metadata": {
    "scrolled": true
   },
   "outputs": [
    {
     "name": "stdout",
     "output_type": "stream",
     "text": [
      "\n",
      "Diet type is: '1'\n",
      "Data looks like:\n",
      "   Person gender  Age  Height  pre.weight  Diet  weight6weeks  weight_change\n",
      "2       1      0   22     159          58     1          54.2           -3.8\n",
      "3       2      0   46     192          60     1          54.0           -6.0\n",
      "4       3      0   55     170          64     1          63.3           -0.7\n",
      "\n",
      "\n",
      "Diet type is: '2'\n",
      "Data looks like:\n",
      "    Person gender  Age  Height  pre.weight  Diet  weight6weeks  weight_change\n",
      "0       25          41     171          60     2          60.0            0.0\n",
      "1       26          32     174         103     2         103.0            0.0\n",
      "16      27      0   44     174          58     2          60.1            2.1\n",
      "\n",
      "\n",
      "Diet type is: '3'\n",
      "Data looks like:\n",
      "    Person gender  Age  Height  pre.weight  Diet  weight6weeks  weight_change\n",
      "30      52      0   51     165          60     3          53.0           -7.0\n",
      "31      53      0   35     169          62     3          56.4           -5.6\n",
      "32      54      0   21     159          64     3          60.6           -3.4\n",
      "\n"
     ]
    }
   ],
   "source": [
    "# Looping through groupby(), checking how data looks like for each group.\n",
    "for i, j in x:\n",
    "    print()\n",
    "    print(f\"Diet type is: '{i}'\")\n",
    "    print(f\"Data looks like:\\n{j[:3]}\")\n",
    "    print()"
   ]
  },
  {
   "cell_type": "markdown",
   "id": "0d56e753",
   "metadata": {},
   "source": [
    "We know in order to do ANOVA we have to fulfill some assumptions. Let's go through these assumptions.[5]"
   ]
  },
  {
   "cell_type": "markdown",
   "id": "cb7d5210",
   "metadata": {},
   "source": [
    "#### Assumption 1: Dependent variable\n",
    "The dependent variable should be a continuous variable.Our dependent variable is weight change and it is continuous."
   ]
  },
  {
   "cell_type": "code",
   "execution_count": 43,
   "id": "8d5995d8",
   "metadata": {},
   "outputs": [
    {
     "data": {
      "text/plain": [
       "0     0.0\n",
       "1     0.0\n",
       "2    -3.8\n",
       "3    -6.0\n",
       "4    -0.7\n",
       "     ... \n",
       "73   -2.8\n",
       "74   -4.1\n",
       "75   -5.3\n",
       "76   -9.2\n",
       "77   -6.1\n",
       "Name: weight_change, Length: 78, dtype: float64"
      ]
     },
     "execution_count": 43,
     "metadata": {},
     "output_type": "execute_result"
    }
   ],
   "source": [
    "#The dependent variable.\n",
    "dependent=df['weight_change']\n",
    "dependent"
   ]
  },
  {
   "cell_type": "code",
   "execution_count": 44,
   "id": "72e72bad",
   "metadata": {},
   "outputs": [
    {
     "data": {
      "text/plain": [
       "count    78.000000\n",
       "mean     -3.844872\n",
       "std       2.551478\n",
       "min      -9.200000\n",
       "25%      -5.550000\n",
       "50%      -3.600000\n",
       "75%      -2.000000\n",
       "max       2.100000\n",
       "Name: weight_change, dtype: float64"
      ]
     },
     "execution_count": 44,
     "metadata": {},
     "output_type": "execute_result"
    }
   ],
   "source": [
    "dependent.describe()"
   ]
  },
  {
   "cell_type": "markdown",
   "id": "44cf6a19",
   "metadata": {},
   "source": [
    "#### Assumption 2: Independent variable\n",
    "The independent variable should consist of two or more categorical, independent groups. Typically, a one-way ANOVA is used when you have three or more categorical, independent groups. Our independent variable is diet type, and we have three diet types."
   ]
  },
  {
   "cell_type": "code",
   "execution_count": 45,
   "id": "43897a26",
   "metadata": {},
   "outputs": [
    {
     "data": {
      "text/plain": [
       "0     2\n",
       "1     2\n",
       "2     1\n",
       "3     1\n",
       "4     1\n",
       "     ..\n",
       "73    3\n",
       "74    3\n",
       "75    3\n",
       "76    3\n",
       "77    3\n",
       "Name: Diet, Length: 78, dtype: object"
      ]
     },
     "execution_count": 45,
     "metadata": {},
     "output_type": "execute_result"
    }
   ],
   "source": [
    "#Converting to string.\n",
    "df.Diet=df.Diet.astype(str)\n",
    "df.Diet"
   ]
  },
  {
   "cell_type": "code",
   "execution_count": 46,
   "id": "f39fafc0",
   "metadata": {},
   "outputs": [
    {
     "data": {
      "text/plain": [
       "0     2\n",
       "1     2\n",
       "2     1\n",
       "3     1\n",
       "4     1\n",
       "     ..\n",
       "73    3\n",
       "74    3\n",
       "75    3\n",
       "76    3\n",
       "77    3\n",
       "Name: Diet, Length: 78, dtype: object"
      ]
     },
     "execution_count": 46,
     "metadata": {},
     "output_type": "execute_result"
    }
   ],
   "source": [
    "#Independent variable.\n",
    "independent=df['Diet']\n",
    "independent"
   ]
  },
  {
   "cell_type": "markdown",
   "id": "0f0fdcf3",
   "metadata": {},
   "source": [
    "#### Assumption 3: Independence of observations\n",
    "We should have independence of observations, which means that there is no relationship between the observations in each group or between the groups themselves. For example, there must be different participants in each group with no participant being in more than one group. As it is impossible to follow two different diets at the same time, I think we are covered for this assumption."
   ]
  },
  {
   "cell_type": "markdown",
   "id": "5f90853b",
   "metadata": {},
   "source": [
    "#### Assumption 4: Outliers\n",
    "There should be no significant outliers. Outliers are simply single data points within the data that do not follow the usual pattern.<br>\n",
    "A great way to check this is to visualise our data using box plots."
   ]
  },
  {
   "cell_type": "code",
   "execution_count": 47,
   "id": "dd5f2c6c",
   "metadata": {},
   "outputs": [
    {
     "data": {
      "text/plain": [
       "<AxesSubplot:xlabel='weight_change', ylabel='Diet'>"
      ]
     },
     "execution_count": 47,
     "metadata": {},
     "output_type": "execute_result"
    },
    {
     "data": {
      "image/png": "[encoded data removed]",
      "text/plain": [
       "<Figure size 432x288 with 1 Axes>"
      ]
     },
     "metadata": {},
     "output_type": "display_data"
    }
   ],
   "source": [
    "#Boxplots.\n",
    "sns.boxplot(x=dependent,y=independent)"
   ]
  },
  {
   "cell_type": "markdown",
   "id": "1de8fdb3",
   "metadata": {},
   "source": [
    "It does look like we have two outliers in the group 1. We could `windsorize` these outliers using `stats.mstats` or proceed now for the assignmnet purposes."
   ]
  },
  {
   "cell_type": "markdown",
   "id": "dd83e1cc",
   "metadata": {},
   "source": [
    "#### Assumption 5: Normality\n",
    "The dependent variable should be approximately normally distributed for each category of the independent variable. We can of course check this by plotting the data, as well as by doing a Shapiro test."
   ]
  },
  {
   "cell_type": "code",
   "execution_count": 48,
   "id": "904087df",
   "metadata": {},
   "outputs": [
    {
     "data": {
      "text/plain": [
       "<seaborn.axisgrid.FacetGrid at 0x1ea1aa5ab20>"
      ]
     },
     "execution_count": 48,
     "metadata": {},
     "output_type": "execute_result"
    },
    {
     "data": {
      "image/png": "[encoded data removed]",
      "text/plain": [
       "<Figure size 402.375x360 with 1 Axes>"
      ]
     },
     "metadata": {},
     "output_type": "display_data"
    }
   ],
   "source": [
    "# KDEs of the three categories.\n",
    "sns.displot(x=dependent, hue=independent, kind=\"kde\")"
   ]
  },
  {
   "cell_type": "markdown",
   "id": "d8c42788",
   "metadata": {},
   "source": [
    "They do look quite normal, but let's do some additional tests."
   ]
  },
  {
   "cell_type": "code",
   "execution_count": 49,
   "id": "c63f6759",
   "metadata": {},
   "outputs": [
    {
     "data": {
      "text/plain": [
       "2    -3.8\n",
       "3    -6.0\n",
       "4    -0.7\n",
       "5    -2.9\n",
       "6    -2.8\n",
       "7    -2.0\n",
       "8    -2.0\n",
       "9    -8.5\n",
       "10   -1.9\n",
       "11   -3.1\n",
       "12   -1.5\n",
       "13   -3.0\n",
       "14   -3.6\n",
       "15   -0.9\n",
       "45    0.6\n",
       "46   -1.1\n",
       "47   -4.5\n",
       "48   -4.1\n",
       "49   -9.0\n",
       "50   -2.4\n",
       "51   -3.9\n",
       "52   -3.5\n",
       "53   -5.1\n",
       "54   -3.5\n",
       "Name: weight_change, dtype: float64"
      ]
     },
     "execution_count": 49,
     "metadata": {},
     "output_type": "execute_result"
    }
   ],
   "source": [
    "#Extract Group 1\n",
    "group_1=dependent[independent=='1']\n",
    "group_1"
   ]
  },
  {
   "cell_type": "code",
   "execution_count": 50,
   "id": "e073e097",
   "metadata": {},
   "outputs": [
    {
     "data": {
      "text/plain": [
       "ShapiroResult(statistic=0.9255314469337463, pvalue=0.07748671621084213)"
      ]
     },
     "execution_count": 50,
     "metadata": {},
     "output_type": "execute_result"
    }
   ],
   "source": [
    "#Run the Shapiro-Wilk test.\n",
    "stats.shapiro(group_1)"
   ]
  },
  {
   "cell_type": "code",
   "execution_count": 51,
   "id": "3277f6a7",
   "metadata": {},
   "outputs": [
    {
     "data": {
      "text/plain": [
       "ShapiroResult(statistic=0.9855911731719971, pvalue=0.9611741304397583)"
      ]
     },
     "execution_count": 51,
     "metadata": {},
     "output_type": "execute_result"
    }
   ],
   "source": [
    "#Run the test for the Group 2.\n",
    "stats.shapiro(dependent[independent=='2'])"
   ]
  },
  {
   "cell_type": "code",
   "execution_count": 52,
   "id": "4596d889",
   "metadata": {},
   "outputs": [
    {
     "data": {
      "text/plain": [
       "ShapiroResult(statistic=0.9601254463195801, pvalue=0.3720393776893616)"
      ]
     },
     "execution_count": 52,
     "metadata": {},
     "output_type": "execute_result"
    }
   ],
   "source": [
    "#Group 3.\n",
    "stats.shapiro(dependent[independent=='3'])"
   ]
  },
  {
   "cell_type": "markdown",
   "id": "5c5fafd8",
   "metadata": {},
   "source": [
    "As all statistics are greater than 0.05 we can deem the data normal."
   ]
  },
  {
   "cell_type": "markdown",
   "id": "ff39442b",
   "metadata": {},
   "source": [
    "#### Assumption 6: Homogeneity of Variances\n",
    "There needs to be homogeneity of variances. We can test this assumption with Levene's test for homogeneity of variances."
   ]
  },
  {
   "cell_type": "code",
   "execution_count": 53,
   "id": "10b6e665",
   "metadata": {},
   "outputs": [
    {
     "data": {
      "text/plain": [
       "LeveneResult(statistic=0.6256665777896312, pvalue=0.5376731304274011)"
      ]
     },
     "execution_count": 53,
     "metadata": {},
     "output_type": "execute_result"
    }
   ],
   "source": [
    "#Test for equal variances.\n",
    "stats.levene(\n",
    "    dependent[independent == '1'],\n",
    "    dependent[independent == '2'],\n",
    "    dependent[independent == '3']\n",
    ")"
   ]
  },
  {
   "cell_type": "markdown",
   "id": "0fd34d63",
   "metadata": {},
   "source": [
    "This is an F test, and statistic is greater than 0.05, hence we can assume the variances of our three groups are **equal**."
   ]
  },
  {
   "cell_type": "markdown",
   "id": "1455e93e",
   "metadata": {},
   "source": [
    "Now, we can proceed with ANOVA! finally..."
   ]
  },
  {
   "cell_type": "markdown",
   "id": "0b5d75f5",
   "metadata": {},
   "source": [
    "#### One-way ANOVA"
   ]
  },
  {
   "cell_type": "code",
   "execution_count": 54,
   "id": "1c8e2df4",
   "metadata": {},
   "outputs": [
    {
     "data": {
      "text/plain": [
       "F_onewayResult(statistic=6.197447453165349, pvalue=0.0032290142385893524)"
      ]
     },
     "execution_count": 54,
     "metadata": {},
     "output_type": "execute_result"
    }
   ],
   "source": [
    "#ANOVA\n",
    "stats.f_oneway(\n",
    "    dependent[independent == '1'],\n",
    "    dependent[independent == '2'],\n",
    "    dependent[independent == '3']\n",
    ")"
   ]
  },
  {
   "cell_type": "markdown",
   "id": "f7e40484",
   "metadata": {},
   "source": [
    "#### Interpretation and Conclusion"
   ]
  },
  {
   "cell_type": "markdown",
   "id": "8c4f0c8a",
   "metadata": {},
   "source": [
    "Conclusion: In these results, the null hypothesis states that the mean weight loss of three groups are equal. Because the p-value is 0.0032, which is less than the significance level of 0.05, we can reject the null hypothesis and conclude that at least group has different mean.<br>\n",
    "ANOVA does not tell us which group this is. However, I think from the plots and descriptive statistics we can conclude this is group 3."
   ]
  },
  {
   "cell_type": "markdown",
   "id": "2c192a6e",
   "metadata": {},
   "source": [
    "***"
   ]
  },
  {
   "cell_type": "markdown",
   "id": "b063eb1f",
   "metadata": {},
   "source": [
    "## References\n",
    "[1] \"Statistical functions (scipy.stats) - scipy v1.7.1 manual\", 2021. [Online]. Available: https://docs.scipy.org/doc/scipy/reference/stats.html <br>\n",
    "[2] Statistics How To. Uniform Distribution. Available: https://www.statisticshowto.com/probability-and-statistics/statistics-definitions/uniform-distribution/<br>\n",
    "[3] Cuemath. Geometric Distribution. Available: https://www.cuemath.com/geometric-distribution-formula/<br>\n",
    "[4] Investopedia. T-Test Definition. Available: https://www.investopedia.com/terms/t/t-test.asp <br>\n",
    "[5] Laerd Statistics. One-way ANOVA in SPSS Statistics. Available: https://statistics.laerd.com/spss-tutorials/one-way-anova-using-spss-statistics.php<br>\n",
    "[6] Matplotlib. Style sheet reference. Available: https://matplotlib.org/stable/gallery/style_sheets/style_sheets_reference.html<br>\n",
    "[7] Analytics Vidhya. The Jupyter Notebook Formatting Guide. Available: https://medium.com/analytics-vidhya/the-jupyter-notebook-formatting-guide-873ab39f765e\n",
    "\n"
   ]
  },
  {
   "cell_type": "markdown",
   "id": "2a5b2dde",
   "metadata": {},
   "source": [
    "# THE END"
   ]
  }
 ],
 "metadata": {
  "kernelspec": {
   "display_name": "Python 3",
   "language": "python",
   "name": "python3"
  },
  "language_info": {
   "codemirror_mode": {
    "name": "ipython",
    "version": 3
   },
   "file_extension": ".py",
   "mimetype": "text/x-python",
   "name": "python",
   "nbconvert_exporter": "python",
   "pygments_lexer": "ipython3",
   "version": "3.8.8"
  }
 },
 "nbformat": 4,
 "nbformat_minor": 5
}
