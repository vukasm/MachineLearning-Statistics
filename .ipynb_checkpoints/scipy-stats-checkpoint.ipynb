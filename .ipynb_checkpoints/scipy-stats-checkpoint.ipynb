{
 "cells": [
  {
   "cell_type": "markdown",
   "id": "b391fde4",
   "metadata": {},
   "source": [
    "# My favorite Scipy-Stats algorithms\n",
    "This notebook contains a demonstration and visualisation of a hypothesis testing using ANOVA, available through scipy-stats Python library [1]."
   ]
  },
  {
   "cell_type": "markdown",
   "id": "52eb7667",
   "metadata": {},
   "source": [
    "## 1. ANOVA"
   ]
  },
  {
   "cell_type": "markdown",
   "id": "86a0c6ad",
   "metadata": {},
   "source": [
    "## 2. Dataset"
   ]
  },
  {
   "cell_type": "markdown",
   "id": "70c13e7e",
   "metadata": {},
   "source": [
    "## 3. Null - Hypothesis"
   ]
  },
  {
   "cell_type": "markdown",
   "id": "edcc258a",
   "metadata": {},
   "source": [
    "## 4. Testing"
   ]
  },
  {
   "cell_type": "markdown",
   "id": "50f5eae3",
   "metadata": {},
   "source": [
    "## 5. Interpretation"
   ]
  },
  {
   "cell_type": "markdown",
   "id": "8f459f65",
   "metadata": {},
   "source": [
    "## 6. Conclusion"
   ]
  },
  {
   "cell_type": "markdown",
   "id": "87af2650",
   "metadata": {},
   "source": [
    "## References\n",
    "[1] \"Statistical functions (scipy.stats) - scipy v1.7.1 manual\", 2021. [Online]. Available: https://docs.scipy.org/doc/scipy/reference/stats.html"
   ]
  },
  {
   "cell_type": "code",
   "execution_count": null,
   "id": "993b3428",
   "metadata": {},
   "outputs": [],
   "source": []
  },
  {
   "cell_type": "code",
   "execution_count": null,
   "id": "e12a914a",
   "metadata": {},
   "outputs": [],
   "source": []
  },
  {
   "cell_type": "code",
   "execution_count": null,
   "id": "fb13e8cd",
   "metadata": {},
   "outputs": [],
   "source": []
  },
  {
   "cell_type": "code",
   "execution_count": null,
   "id": "0ae130c1",
   "metadata": {},
   "outputs": [],
   "source": []
  },
  {
   "cell_type": "markdown",
   "id": "d2f465c0",
   "metadata": {},
   "source": [
    "## Intro to scipy.stats"
   ]
  },
  {
   "cell_type": "markdown",
   "id": "14336d5c",
   "metadata": {},
   "source": [
    "`scipy.stats` is a Python library which contains a large number of statistical functions, e.g. probability distributions, summary and frequency statistics, correlation functions and statistical tests, maked statistics, kernel density estimation, quasi-Monte Carlo functionality etc. It is very interesting library and useful for learning purposes. <br>\n",
    "In this notebook I want to demonstrate some of the statistical functions, namely several probability distributions, and statistical tests: t-test and ANOVA."
   ]
  },
  {
   "cell_type": "code",
   "execution_count": 67,
   "id": "e897a315",
   "metadata": {},
   "outputs": [],
   "source": [
    "#All the modules we are going to need.\n",
    "\n",
    "%matplotlib inline\n",
    "\n",
    "import numpy as np\n",
    "import pandas as pd\n",
    "import matplotlib.pyplot as plt\n",
    "import scipy.stats as stats\n",
    "import random\n",
    "import math"
   ]
  },
  {
   "cell_type": "markdown",
   "id": "cce3ea9a",
   "metadata": {},
   "source": [
    "## 1. Probability distributions"
   ]
  },
  {
   "cell_type": "markdown",
   "id": "f78f22d1",
   "metadata": {},
   "source": [
    "### Uniform\n",
    "*Each value is equaly likely to be picked*"
   ]
  },
  {
   "cell_type": "code",
   "execution_count": 2,
   "id": "66caa61b",
   "metadata": {},
   "outputs": [],
   "source": [
    "uniform_data=stats.uniform.rvs(size=100000, #generate random 10k numbers\n",
    "                               loc=0, #from 0\n",
    "                               scale=10) #to 10"
   ]
  },
  {
   "cell_type": "code",
   "execution_count": 3,
   "id": "c2e321ee",
   "metadata": {},
   "outputs": [
    {
     "data": {
      "image/png": "[encoded data removed]",
      "text/plain": [
       "<Figure size 648x648 with 1 Axes>"
      ]
     },
     "metadata": {
      "needs_background": "light"
     },
     "output_type": "display_data"
    }
   ],
   "source": [
    "pd.DataFrame (uniform_data).plot(kind=\"density\", #Plot the distribution\n",
    "                                figsize=(9,9),\n",
    "                                xlim=(-1,11));"
   ]
  },
  {
   "cell_type": "markdown",
   "id": "4b817c3d",
   "metadata": {},
   "source": [
    "We have the flat value where each value is equally likely to happen."
   ]
  },
  {
   "cell_type": "code",
   "execution_count": 4,
   "id": "8f4c2bb8",
   "metadata": {},
   "outputs": [
    {
     "data": {
      "text/plain": [
       "0.25"
      ]
     },
     "execution_count": 4,
     "metadata": {},
     "output_type": "execute_result"
    }
   ],
   "source": [
    "stats.uniform.cdf(x=2.5, #cutoff value (quantile) to check\n",
    "                 loc=0, #distribution start\n",
    "                 scale=10) #distribution end\n",
    "\n",
    "#cdf gives you an area under the distribution's density to the left of a certain value of the x axis"
   ]
  },
  {
   "cell_type": "code",
   "execution_count": 5,
   "id": "89af1798",
   "metadata": {},
   "outputs": [
    {
     "data": {
      "text/plain": [
       "4.0"
      ]
     },
     "execution_count": 5,
     "metadata": {},
     "output_type": "execute_result"
    }
   ],
   "source": [
    "stats.uniform.ppf(q=0.4, #what x value we need to slice 40% of dist to the left of it?\n",
    "                 loc=0,\n",
    "                 scale=10)\n",
    "\n",
    "#invers of cdf"
   ]
  },
  {
   "cell_type": "code",
   "execution_count": 6,
   "id": "9ed29d2b",
   "metadata": {},
   "outputs": [
    {
     "name": "stdout",
     "output_type": "stream",
     "text": [
      "Density at x value-1\n",
      "0.0\n",
      "Density at x value2\n",
      "0.1\n",
      "Density at x value5\n",
      "0.1\n",
      "Density at x value8\n",
      "0.1\n",
      "Density at x value11\n",
      "0.0\n"
     ]
    }
   ],
   "source": [
    "#stats.distribution.pdf()\n",
    "\n",
    "for x in range (-1,12,3):\n",
    "    print(\"Density at x value\"+str(x))\n",
    "    print(stats.uniform.pdf(x,loc=0,scale=10))"
   ]
  },
  {
   "cell_type": "markdown",
   "id": "07b7579b",
   "metadata": {},
   "source": [
    "Values outsode of range have no probability of happening while all values inside of range have equal probability."
   ]
  },
  {
   "cell_type": "code",
   "execution_count": 7,
   "id": "4cc23f8a",
   "metadata": {},
   "outputs": [],
   "source": [
    "import random"
   ]
  },
  {
   "cell_type": "code",
   "execution_count": 8,
   "id": "2d1f4ceb",
   "metadata": {},
   "outputs": [
    {
     "data": {
      "text/plain": [
       "0"
      ]
     },
     "execution_count": 8,
     "metadata": {},
     "output_type": "execute_result"
    }
   ],
   "source": [
    "random.randint(0,10) #get a random integer in a specific range"
   ]
  },
  {
   "cell_type": "code",
   "execution_count": 9,
   "id": "96ba8298",
   "metadata": {},
   "outputs": [
    {
     "data": {
      "text/plain": [
       "2"
      ]
     },
     "execution_count": 9,
     "metadata": {},
     "output_type": "execute_result"
    }
   ],
   "source": [
    "random.choice([2,4,6,9]) #get a random element from a sequence of numbers"
   ]
  },
  {
   "cell_type": "code",
   "execution_count": 10,
   "id": "83549d0c",
   "metadata": {},
   "outputs": [
    {
     "data": {
      "text/plain": [
       "0.5186510706614716"
      ]
     },
     "execution_count": 10,
     "metadata": {},
     "output_type": "execute_result"
    }
   ],
   "source": [
    "random.random() #get a real number between 0 and 1; balically from uniform distribution"
   ]
  },
  {
   "cell_type": "code",
   "execution_count": 11,
   "id": "fdbc1399",
   "metadata": {},
   "outputs": [
    {
     "data": {
      "text/plain": [
       "0.9016298901040626"
      ]
     },
     "execution_count": 11,
     "metadata": {},
     "output_type": "execute_result"
    }
   ],
   "source": [
    "random.uniform(0,1) #output not the same as there is no seed"
   ]
  },
  {
   "cell_type": "code",
   "execution_count": 12,
   "id": "4994d487",
   "metadata": {},
   "outputs": [
    {
     "data": {
      "text/plain": [
       "0.4745706786885481"
      ]
     },
     "execution_count": 12,
     "metadata": {},
     "output_type": "execute_result"
    }
   ],
   "source": [
    "random.seed(12)\n",
    "random.uniform(0,1)"
   ]
  },
  {
   "cell_type": "code",
   "execution_count": 13,
   "id": "86f836c2",
   "metadata": {},
   "outputs": [
    {
     "data": {
      "text/plain": [
       "0.4745706786885481"
      ]
     },
     "execution_count": 13,
     "metadata": {},
     "output_type": "execute_result"
    }
   ],
   "source": [
    "random.seed(12)\n",
    "random.random()"
   ]
  },
  {
   "cell_type": "markdown",
   "id": "f4c8c1f9",
   "metadata": {},
   "source": [
    "Now we have the same output."
   ]
  },
  {
   "cell_type": "markdown",
   "id": "3bc87c39",
   "metadata": {},
   "source": [
    "Numpy and scipy have different built in functions for generating random numbers"
   ]
  },
  {
   "cell_type": "markdown",
   "id": "2ebefa21",
   "metadata": {},
   "source": [
    "### Normal distribution\n",
    "*Bell shaped curve, mean and median are equal. 99.7% data lies within 3 standard deviations.*"
   ]
  },
  {
   "cell_type": "code",
   "execution_count": 14,
   "id": "07095901",
   "metadata": {},
   "outputs": [
    {
     "name": "stdout",
     "output_type": "stream",
     "text": [
      "0.15865525393145707 0.6826894921370859\n"
     ]
    }
   ],
   "source": [
    "prob_under_minus1=stats.norm.cdf(x=-1,\n",
    "                                loc=0,\n",
    "                                scale=1)\n",
    "prob_over_1= 1- stats.norm.cdf(x=1,\n",
    "                                loc=0,\n",
    "                                scale=1)\n",
    "between_prob=1-(prob_under_minus1+prob_over_1)\n",
    "print(prob_under_minus1,between_prob)"
   ]
  },
  {
   "cell_type": "markdown",
   "id": "64283602",
   "metadata": {},
   "source": [
    "Roughly 16% of data generated by a normal distr. is within 1 standard deviation from the mean."
   ]
  },
  {
   "cell_type": "code",
   "execution_count": 15,
   "id": "0bdf1042",
   "metadata": {},
   "outputs": [
    {
     "name": "stdout",
     "output_type": "stream",
     "text": [
      "-1.9599639845400545\n"
     ]
    }
   ],
   "source": [
    "print(stats.norm.ppf(q=0.025)) #find the quantile for 2.5% cutoff\n"
   ]
  },
  {
   "cell_type": "code",
   "execution_count": 16,
   "id": "596ab608",
   "metadata": {},
   "outputs": [
    {
     "name": "stdout",
     "output_type": "stream",
     "text": [
      "1.959963984540054\n"
     ]
    }
   ],
   "source": [
    "print(stats.norm.ppf(q=0.975)) #find the quantile for 97.5% cutoff"
   ]
  },
  {
   "cell_type": "code",
   "execution_count": 17,
   "id": "ced8c649",
   "metadata": {},
   "outputs": [
    {
     "name": "stdout",
     "output_type": "stream",
     "text": [
      "0.9986501019683699\n"
     ]
    }
   ],
   "source": [
    "print(stats.norm.cdf(x=3)) #data below -3"
   ]
  },
  {
   "cell_type": "code",
   "execution_count": 18,
   "id": "c099bc2d",
   "metadata": {},
   "outputs": [
    {
     "name": "stdout",
     "output_type": "stream",
     "text": [
      "0.0013498980316300933\n"
     ]
    }
   ],
   "source": [
    "print(stats.norm.cdf(x=-3))"
   ]
  },
  {
   "cell_type": "markdown",
   "id": "6998080a",
   "metadata": {},
   "source": [
    "### Binomial distribution\n",
    "*Discrete probability distribution.<br>\n",
    "Answers the question: How likely it is to achieve p number of successes in n trials of the experiment?*"
   ]
  },
  {
   "cell_type": "code",
   "execution_count": 19,
   "id": "48e5bf12",
   "metadata": {},
   "outputs": [
    {
     "name": "stdout",
     "output_type": "stream",
     "text": [
      "col_0   0    1    2     3     4     5     6     7    8   9   10\n",
      "row_0                                                          \n",
      "counts  10  103  457  1120  2083  2491  2018  1178  445  85  10\n"
     ]
    },
    {
     "data": {
      "text/plain": [
       "array([[<AxesSubplot:title={'center':'0'}>]], dtype=object)"
      ]
     },
     "execution_count": 19,
     "metadata": {},
     "output_type": "execute_result"
    },
    {
     "data": {
      "image/png": "[encoded data removed]",
      "text/plain": [
       "<Figure size 432x288 with 1 Axes>"
      ]
     },
     "metadata": {
      "needs_background": "light"
     },
     "output_type": "display_data"
    }
   ],
   "source": [
    "fair_coin_flips=stats.binom.rvs(n=10, #n of flips per trials\n",
    "                               p=0.5, #success probability\n",
    "                               size=10000) #n of trial\n",
    "print(pd.crosstab(index=\"counts\",columns=fair_coin_flips))\n",
    "pd.DataFrame(fair_coin_flips).hist(range=(-0.5,10.5),bins=11)"
   ]
  },
  {
   "cell_type": "code",
   "execution_count": 20,
   "id": "ed3ed6cc",
   "metadata": {},
   "outputs": [
    {
     "name": "stdout",
     "output_type": "stream",
     "text": [
      "col_0   2   3   4    5    6     7     8     9     10\n",
      "row_0                                               \n",
      "counts   1   9  53  272  914  2014  3027  2656  1054\n"
     ]
    },
    {
     "data": {
      "text/plain": [
       "array([[<AxesSubplot:title={'center':'0'}>]], dtype=object)"
      ]
     },
     "execution_count": 20,
     "metadata": {},
     "output_type": "execute_result"
    },
    {
     "data": {
      "image/png": "[encoded data removed]",
      "text/plain": [
       "<Figure size 432x288 with 1 Axes>"
      ]
     },
     "metadata": {
      "needs_background": "light"
     },
     "output_type": "display_data"
    }
   ],
   "source": [
    "biased_fair_coin_flips=stats.binom.rvs(n=10, #n of flips per trials\n",
    "                               p=0.8, #success probability, \n",
    "                               size=10000) #n of trial\n",
    "print(pd.crosstab(index=\"counts\",columns=biased_fair_coin_flips))\n",
    "pd.DataFrame(biased_fair_coin_flips).hist(range=(-0.5,10.5),bins=11)"
   ]
  },
  {
   "cell_type": "markdown",
   "id": "6392291b",
   "metadata": {},
   "source": [
    "As we set the success probability to 0.8, this is how the function looks like."
   ]
  },
  {
   "cell_type": "code",
   "execution_count": 21,
   "id": "d8434f60",
   "metadata": {},
   "outputs": [
    {
     "data": {
      "text/plain": [
       "0.032793497599999964"
      ]
     },
     "execution_count": 21,
     "metadata": {},
     "output_type": "execute_result"
    }
   ],
   "source": [
    "stats.binom.cdf(k=5,n=10,p=0.8) #prob of getting 5 successes or less with 10 flips and success probability of 80%"
   ]
  },
  {
   "cell_type": "markdown",
   "id": "d20739ab",
   "metadata": {},
   "source": [
    "### Geometric and exponential\n",
    "*Geometric is discrete and exponential is continuous distribution.*"
   ]
  },
  {
   "cell_type": "code",
   "execution_count": 22,
   "id": "dd44570b",
   "metadata": {},
   "outputs": [
    {
     "name": "stdout",
     "output_type": "stream",
     "text": [
      "col_0     1     2     3    4    5    6   7   8   9   10  11  12  13  14  19\n",
      "row_0                                                                      \n",
      "counts  5040  2441  1282  612  292  167  75  45  20  11   6   4   3   1   1\n"
     ]
    },
    {
     "data": {
      "text/plain": [
       "array([[<AxesSubplot:title={'center':'0'}>]], dtype=object)"
      ]
     },
     "execution_count": 22,
     "metadata": {},
     "output_type": "execute_result"
    },
    {
     "data": {
      "image/png": "[encoded data removed]",
      "text/plain": [
       "<Figure size 432x288 with 1 Axes>"
      ]
     },
     "metadata": {
      "needs_background": "light"
     },
     "output_type": "display_data"
    }
   ],
   "source": [
    "#how many flips we need to get to flipp on the head side of the coin?\n",
    "random.seed(12)\n",
    "\n",
    "flips_till_heads=stats.geom.rvs(size=10000, #generate geometric data\n",
    "                                p=0.5) #with success prob 0.5\n",
    "\n",
    "#print table of counts\n",
    "print(pd.crosstab(index=\"counts\", columns=flips_till_heads))\n",
    "\n",
    "#plot\n",
    "pd.DataFrame(flips_till_heads).hist(range=(-0.5,max(flips_till_heads)+0.5),\n",
    "                                    bins=max(flips_till_heads)+1)"
   ]
  },
  {
   "cell_type": "markdown",
   "id": "89e0c488",
   "metadata": {},
   "source": [
    "it is very likely to take 1 or 2 flips to get to head, but more unlikely to take more than 5 flips."
   ]
  },
  {
   "cell_type": "markdown",
   "id": "19d1d00f",
   "metadata": {},
   "source": [
    "Now, exponentional:"
   ]
  },
  {
   "cell_type": "code",
   "execution_count": 23,
   "id": "ad920164",
   "metadata": {},
   "outputs": [
    {
     "data": {
      "text/plain": [
       "0.36787944117144233"
      ]
     },
     "execution_count": 23,
     "metadata": {},
     "output_type": "execute_result"
    }
   ],
   "source": [
    "#Get the prob of waiting more than 1 time unit before a success\n",
    "prob_1=stats.expon.cdf(x=1,\n",
    "                       scale=1) #arrival rate\n",
    "1-prob_1 #the avf time for expon is 1-arrival rate"
   ]
  },
  {
   "cell_type": "markdown",
   "id": "a29575ab",
   "metadata": {},
   "source": [
    "### Poisson distribution\n",
    "*Number of successes in certain time interval, e.g. number of arrivals to the hospital in a given time*"
   ]
  },
  {
   "cell_type": "code",
   "execution_count": 24,
   "id": "d0a61e45",
   "metadata": {},
   "outputs": [
    {
     "name": "stdout",
     "output_type": "stream",
     "text": [
      "col_0      0     1     2    3    4   5  6\n",
      "row_0                                    \n",
      "counts  3641  3644  1889  641  151  26  8\n"
     ]
    },
    {
     "data": {
      "text/plain": [
       "array([[<AxesSubplot:title={'center':'0'}>]], dtype=object)"
      ]
     },
     "execution_count": 24,
     "metadata": {},
     "output_type": "execute_result"
    },
    {
     "data": {
      "image/png": "[encoded data removed]",
      "text/plain": [
       "<Figure size 432x288 with 1 Axes>"
      ]
     },
     "metadata": {
      "needs_background": "light"
     },
     "output_type": "display_data"
    }
   ],
   "source": [
    "random.seed(12)\n",
    "arrival_rate_1=stats.poisson.rvs(size=10000, #generate poisson data\n",
    "                                mu=1) #avg arrival time is 1\n",
    "#print table of counts\n",
    "print(pd.crosstab(index=\"counts\",columns=arrival_rate_1))\n",
    "\n",
    "#plot\n",
    "pd.DataFrame(arrival_rate_1).hist(range=(-0.5,max(arrival_rate_1)+0.5),\n",
    "                                 bins=max(arrival_rate_1)+1)"
   ]
  },
  {
   "cell_type": "markdown",
   "id": "43ee8154",
   "metadata": {},
   "source": [
    "It seems that we often see 0 and 1 arrivals within one hour, we see 2 people arriving half as often and so on."
   ]
  },
  {
   "cell_type": "markdown",
   "id": "0978f68a",
   "metadata": {},
   "source": [
    "Please note than Poisson distribution will not always look right skewed, as opposed to geo/expo. It depends on how we set it up."
   ]
  },
  {
   "cell_type": "code",
   "execution_count": 25,
   "id": "92a80fc4",
   "metadata": {},
   "outputs": [
    {
     "name": "stdout",
     "output_type": "stream",
     "text": [
      "col_0   1   2   3    4    5    6    7     8     9     10  ...   16   17  18  \\\n",
      "row_0                                                     ...                 \n",
      "counts   7  23  69  193  380  599  971  1171  1263  1219  ...  215  105  79   \n",
      "\n",
      "col_0   19  20  21  22  23  24  27  \n",
      "row_0                               \n",
      "counts  28  20   7   3   2   2   1  \n",
      "\n",
      "[1 rows x 25 columns]\n"
     ]
    },
    {
     "data": {
      "text/plain": [
       "array([[<AxesSubplot:title={'center':'0'}>]], dtype=object)"
      ]
     },
     "execution_count": 25,
     "metadata": {},
     "output_type": "execute_result"
    },
    {
     "data": {
      "image/png": "[encoded data removed]",
      "text/plain": [
       "<Figure size 432x288 with 1 Axes>"
      ]
     },
     "metadata": {
      "needs_background": "light"
     },
     "output_type": "display_data"
    }
   ],
   "source": [
    "random.seed(12)\n",
    "arrival_rate_1=stats.poisson.rvs(size=10000, #generate poisson data\n",
    "                                mu=10) #avg arrival time is 1\n",
    "#print table of counts\n",
    "print(pd.crosstab(index=\"counts\",columns=arrival_rate_1))\n",
    "\n",
    "#plot\n",
    "pd.DataFrame(arrival_rate_1).hist(range=(-0.5,max(arrival_rate_1)+0.5),\n",
    "                                 bins=max(arrival_rate_1)+1)"
   ]
  },
  {
   "cell_type": "markdown",
   "id": "2e9ac835",
   "metadata": {},
   "source": [
    "Like this. If the avg arrival time is 10, distribution will look like this."
   ]
  },
  {
   "cell_type": "markdown",
   "id": "c70ec84e",
   "metadata": {},
   "source": [
    "## 2. Statistical tests"
   ]
  },
  {
   "cell_type": "markdown",
   "id": "55a1328d",
   "metadata": {},
   "source": [
    "### Confidence intervals"
   ]
  },
  {
   "cell_type": "markdown",
   "id": "552d0b08",
   "metadata": {},
   "source": [
    "Let's say I want to do some analysis on the people voting on elections. I want to estimate the average age of the population"
   ]
  },
  {
   "cell_type": "code",
   "execution_count": 26,
   "id": "587cfb1c",
   "metadata": {},
   "outputs": [
    {
     "data": {
      "text/plain": [
       "51.4444625"
      ]
     },
     "execution_count": 26,
     "metadata": {},
     "output_type": "execute_result"
    }
   ],
   "source": [
    "#point estimates are estimates of population parameters based on sample data\n",
    "#sample mean is used\n",
    "np.random.seed(10)\n",
    "population_ages1=stats.poisson.rvs(loc=18,mu=35,size=150000) #random values\n",
    "population_ages2=stats.poisson.rvs(loc=18,mu=10,size=10000)\n",
    "population_ages=np.concatenate((population_ages1,population_ages2))\n",
    "\n",
    "population_ages.mean() #population mean"
   ]
  },
  {
   "cell_type": "code",
   "execution_count": 27,
   "id": "6c0e7402",
   "metadata": {},
   "outputs": [
    {
     "name": "stdout",
     "output_type": "stream",
     "text": [
      "51.008\n"
     ]
    },
    {
     "data": {
      "text/plain": [
       "0.43646249999999753"
      ]
     },
     "execution_count": 27,
     "metadata": {},
     "output_type": "execute_result"
    }
   ],
   "source": [
    "#taking a sample\n",
    "np.random.seed(6)\n",
    "sample_ages=np.random.choice(a=population_ages,\n",
    "                            size=500) #sample 500 values from the population\n",
    "print(sample_ages.mean()) #print sample mean\n",
    "\n",
    "population_ages.mean()-sample_ages.mean() #check difference between the population and sample mean"
   ]
  },
  {
   "cell_type": "markdown",
   "id": "5e276b27",
   "metadata": {},
   "source": [
    "This shows we can get a pretty accurate estimate by using sample mean."
   ]
  },
  {
   "cell_type": "markdown",
   "id": "40210d51",
   "metadata": {},
   "source": [
    "I might want to estimate the race ratio of the voters, to get the sense of the demographics of the voter base."
   ]
  },
  {
   "cell_type": "code",
   "execution_count": 28,
   "id": "7e5ef515",
   "metadata": {},
   "outputs": [
    {
     "name": "stdout",
     "output_type": "stream",
     "text": [
      "white propotion estimate:\n",
      "0.379\n",
      "black propotion estimate:\n",
      "0.231\n",
      "other propotion estimate:\n",
      "0.099\n",
      "asian propotion estimate:\n",
      "0.099\n",
      "hispanic propotion estimate:\n",
      "0.192\n"
     ]
    }
   ],
   "source": [
    "random.seed(10)\n",
    "population_races=([\"white\"]*100000)+([\"black\"]*50000)+([\"hispanic\"]*50000)+([\"asian\"]*25000)+([\"other\"]*25000)\n",
    "\n",
    "demo_sample=random.sample(population_races,1000) #sample 1000 values\n",
    "\n",
    "for race in set(demo_sample):\n",
    "    print(race+\" propotion estimate:\")\n",
    "    print(demo_sample.count(race)/1000)"
   ]
  },
  {
   "cell_type": "markdown",
   "id": "de2f1670",
   "metadata": {},
   "source": [
    "Sampling Distributions and The Central Limit Theorem"
   ]
  },
  {
   "cell_type": "markdown",
   "id": "058ffc9c",
   "metadata": {},
   "source": [
    "Many statistical procedures assume normal distribution (for its nice properties), however this is in reality rarely true.\n",
    "I wwant to plot the data I generated and sample ans check the skeweness,"
   ]
  },
  {
   "cell_type": "code",
   "execution_count": 29,
   "id": "ad8751d7",
   "metadata": {},
   "outputs": [
    {
     "name": "stdout",
     "output_type": "stream",
     "text": [
      "-1.1256148418046046\n"
     ]
    },
    {
     "data": {
      "image/png": "[encoded data removed]",
      "text/plain": [
       "<Figure size 648x648 with 1 Axes>"
      ]
     },
     "metadata": {
      "needs_background": "light"
     },
     "output_type": "display_data"
    }
   ],
   "source": [
    "pd.DataFrame(population_ages).hist(bins=58,\n",
    "                                  range=(17.5,75.5),\n",
    "                                  figsize=(9,9))\n",
    "print(stats.skew(population_ages));"
   ]
  },
  {
   "cell_type": "code",
   "execution_count": 30,
   "id": "3a77cd32",
   "metadata": {},
   "outputs": [
    {
     "name": "stdout",
     "output_type": "stream",
     "text": [
      "-1.0992883065975738\n"
     ]
    },
    {
     "data": {
      "image/png": "[encoded data removed]",
      "text/plain": [
       "<Figure size 648x648 with 1 Axes>"
      ]
     },
     "metadata": {
      "needs_background": "light"
     },
     "output_type": "display_data"
    }
   ],
   "source": [
    "pd.DataFrame(sample_ages).hist(bins=58,\n",
    "                                  range=(17.5,75.5),\n",
    "                                  figsize=(9,9))\n",
    "print(stats.skew(sample_ages));"
   ]
  },
  {
   "cell_type": "markdown",
   "id": "ad9c52f4",
   "metadata": {},
   "source": [
    "This looks very similar overall. But it clearly doesn't have normal distribution.\n",
    "Does that mean we cannot apply the techniquest which assume normal distribution to this dataset?\n",
    "NO. \n",
    "Luckily there is a central limit theorem, a theorem part of the probability theory. It states the sample distribution mean is normally distributed even tho the underlying data isn't.\n",
    "Therefore, I can treat sample mean as if it was drawn from the normal distribution.\n",
    "I will demonstrate that by creating a sampling distribution, taking 200 samples from the population and end plotting the means of those."
   ]
  },
  {
   "cell_type": "code",
   "execution_count": 31,
   "id": "16266852",
   "metadata": {},
   "outputs": [
    {
     "data": {
      "text/plain": [
       "<AxesSubplot:ylabel='Density'>"
      ]
     },
     "execution_count": 31,
     "metadata": {},
     "output_type": "execute_result"
    },
    {
     "data": {
      "image/png": "[encoded data removed]",
      "text/plain": [
       "<Figure size 648x648 with 1 Axes>"
      ]
     },
     "metadata": {
      "needs_background": "light"
     },
     "output_type": "display_data"
    }
   ],
   "source": [
    "np.random.seed(10)\n",
    "point_estimates=[] #making the empty list to hold point estimates\n",
    "\n",
    "for x in range(200): #generate 200 samples\n",
    "    sample=np.random.choice(a=population_ages,size=500)\n",
    "    point_estimates.append(sample.mean())\n",
    "    \n",
    "pd.DataFrame(point_estimates).plot(kind=\"density\",\n",
    "                                  figsize=(9,9))"
   ]
  },
  {
   "cell_type": "markdown",
   "id": "31f38c83",
   "metadata": {},
   "source": [
    "It looks normally distributed."
   ]
  },
  {
   "cell_type": "code",
   "execution_count": 32,
   "id": "19af3bba",
   "metadata": {},
   "outputs": [
    {
     "data": {
      "text/plain": [
       "-0.05517749999999921"
      ]
     },
     "execution_count": 32,
     "metadata": {},
     "output_type": "execute_result"
    }
   ],
   "source": [
    "#the mean of the sampling distr approaches the true population mean\n",
    "population_ages.mean()-np.array(point_estimates).mean()"
   ]
  },
  {
   "cell_type": "markdown",
   "id": "1ebd445a",
   "metadata": {},
   "source": [
    "The difference is so small. The more samples we take the better estimate of the population"
   ]
  },
  {
   "cell_type": "markdown",
   "id": "103bfb0a",
   "metadata": {},
   "source": [
    "Confidence interval\n",
    "As estimates are prone to errors, a confidence level is a range of values above and below the point estimate that captures the true population parameter of some predetermined confidence level.\n",
    "e.g. I want to have 95% confidence level.\n",
    "To create a confidence interval we add a marginal error to the point estimate.\n",
    "To calculate marginal error,we need st deviation of a population. The formula is\n",
    "*z x sigma/sq root of n*\n",
    "where sigma is the population standard deviation, n is sample size and z is z critical value (n of st dev you have to go from the mean of the normal distribution to capture the proportion of the data associated with desired cof level).\n",
    "e.g. 95% of data lies in 2 st deviation; check z table for this.\n",
    "\n",
    "I will calculate 95% conf interval for my mean point estimate\n"
   ]
  },
  {
   "cell_type": "code",
   "execution_count": 33,
   "id": "875c19ba",
   "metadata": {},
   "outputs": [
    {
     "name": "stdout",
     "output_type": "stream",
     "text": [
      "z-critical value:\n",
      "1.959963984540054\n",
      "confidence interval:\n",
      "(51.1218997189614, 52.1581002810386)\n"
     ]
    }
   ],
   "source": [
    "np.random.seed(10)\n",
    "\n",
    "sample_size=1000\n",
    "sample=np.random.choice(a=population_ages,size=sample_size)\n",
    "sample_mean=sample.mean()\n",
    "\n",
    "z_critical=stats.norm.ppf(q=0.975) #get the z critical value\n",
    "\n",
    "print(\"z-critical value:\")\n",
    "print(z_critical) #print z critical value\n",
    "\n",
    "pop_stdev=population_ages.std() #get pop st dev\n",
    "\n",
    "margin_of_error=z_critical*(pop_stdev/math.sqrt(sample_size))\n",
    "\n",
    "confidence_interval=(sample_mean-margin_of_error,\n",
    "                    sample_mean+margin_of_error)\n",
    "\n",
    "print(\"confidence interval:\")\n",
    "print(confidence_interval)"
   ]
  },
  {
   "cell_type": "markdown",
   "id": "376b8e19",
   "metadata": {},
   "source": [
    "In case we don't know the st dev of population, we have to use st dev of the mean. Consequently, this will result in more errors. \n",
    "To account for this error I will use t-value instead of z-value. T-value is drawn from t-distribution, which closely resembles the normal distributionbut gets wider and wider as the sample size falls. \n",
    "I can use scipy stats for this by using stats.t.ppf() .\n",
    " \n"
   ]
  },
  {
   "cell_type": "code",
   "execution_count": 34,
   "id": "1c93b593",
   "metadata": {},
   "outputs": [
    {
     "name": "stdout",
     "output_type": "stream",
     "text": [
      "t-critical value:\n",
      "2.0638985616280205\n",
      "confidence interval:\n",
      "(47.90096481477647, 53.93903518522353)\n"
     ]
    }
   ],
   "source": [
    "np.random.seed(10)\n",
    "\n",
    "sample_size=25\n",
    "sample=np.random.choice(a=population_ages,size=sample_size)\n",
    "sample_mean=sample.mean()\n",
    "\n",
    "t_critical=stats.t.ppf(q=0.975,df=24) #get the z critical value\n",
    "\n",
    "print(\"t-critical value:\")\n",
    "print(t_critical) #print z critical value\n",
    "\n",
    "sample_stdev=sample.std(ddof=1) #get pop st dev\n",
    "\n",
    "sigma=sample_stdev/math.sqrt(sample_size) #st dev estimate)\n",
    "\n",
    "margin_of_error=t_critical*sigma\n",
    "                             \n",
    "confidence_interval=(sample_mean-margin_of_error,\n",
    "                    sample_mean+margin_of_error)\n",
    "\n",
    "print(\"confidence interval:\")\n",
    "print(confidence_interval)"
   ]
  },
  {
   "cell_type": "markdown",
   "id": "37d199ee",
   "metadata": {},
   "source": [
    "Scipy stats allows us to calculate these confidence intervals automatically bu using stats.t.interval():\n"
   ]
  },
  {
   "cell_type": "code",
   "execution_count": 35,
   "id": "4e30f0b4",
   "metadata": {},
   "outputs": [
    {
     "data": {
      "text/plain": [
       "(47.90096481477647, 53.93903518522353)"
      ]
     },
     "execution_count": 35,
     "metadata": {},
     "output_type": "execute_result"
    }
   ],
   "source": [
    "stats.t.interval(alpha=0.95, #conf level\n",
    "                df=24, # degrees of freedom\n",
    "                loc=sample_mean, #sample mean\n",
    "                scale=sigma) #st dev estimate"
   ]
  },
  {
   "cell_type": "markdown",
   "id": "90748179",
   "metadata": {},
   "source": [
    "Finally, I can also make a cofidence intervals for a point estimate of a population proportion. So we can do that on the race proportions.\n",
    "I will calculate a 95% confidence interval for Hispanics according to the statistics calculated above (0.192)"
   ]
  },
  {
   "cell_type": "code",
   "execution_count": 36,
   "id": "dbbc5d3d",
   "metadata": {},
   "outputs": [
    {
     "data": {
      "text/plain": [
       "(0.16758794241348748, 0.21641205758651252)"
      ]
     },
     "execution_count": 36,
     "metadata": {},
     "output_type": "execute_result"
    }
   ],
   "source": [
    "z_critical=stats.norm.ppf(0.975)\n",
    "p=0.192 #point estimate of proportion\n",
    "n=1000 #sample size\n",
    "margin_of_error=z_critical*math.sqrt((p*(1-p))/n)\n",
    "confidence_interval=(p-margin_of_error, #calculate the interval\n",
    "                    p+margin_of_error)\n",
    "confidence_interval"
   ]
  },
  {
   "cell_type": "markdown",
   "id": "40967ee7",
   "metadata": {},
   "source": [
    "The conf interval covers the true proportion size which is 0.20."
   ]
  },
  {
   "cell_type": "markdown",
   "id": "813e87b5",
   "metadata": {},
   "source": [
    "Scipy stats also can calculate this for us:"
   ]
  },
  {
   "cell_type": "code",
   "execution_count": 37,
   "id": "984e7bcc",
   "metadata": {},
   "outputs": [
    {
     "data": {
      "text/plain": [
       "(0.16758794241348748, 0.21641205758651252)"
      ]
     },
     "execution_count": 37,
     "metadata": {},
     "output_type": "execute_result"
    }
   ],
   "source": [
    "stats.norm.interval(alpha=0.95, #conf level\n",
    "                   loc=0.192, #point estim of proportion\n",
    "                   scale=math.sqrt((p*(1-p))/n)) #scaling factir"
   ]
  },
  {
   "cell_type": "markdown",
   "id": "dc1caabb",
   "metadata": {},
   "source": [
    "### T test"
   ]
  },
  {
   "cell_type": "markdown",
   "id": "0b990791",
   "metadata": {},
   "source": [
    "Describe what it is."
   ]
  },
  {
   "cell_type": "markdown",
   "id": "5cd3ebf4",
   "metadata": {},
   "source": [
    "In short, hypothesis tests are based on a statement called the null hypothesis. Null hypothesis assumes that nothing interesting is going on between the variables we are testing. Eg. I test if two groups differ, the null hypothesis says I cannot confirm those group differ, they are the same.\n",
    "If there is little evidence against the null hypothesis, we accept the null hypothesis. If there is significant evidence against, we might accept the alternative hypothesis. Alternative hypothesis depends on the type of test we carry out. In this case, two groups significantly differ. \n",
    "\n",
    "We need population distribution and sample data which we will compare to the population.\n",
    "\n",
    "Then we choose a significance level (alpha). This is a probability threshold that determines when you reject the null hypothesis. If the probability level genereted by the test is lowe than the significance level, we reject the null hypothesis in favor of alternative.\n",
    "\n",
    "T test is a statistical test used to determine whether a numeric data sample differs significantly from the population or another sample."
   ]
  },
  {
   "cell_type": "markdown",
   "id": "c16675b0",
   "metadata": {},
   "source": [
    "### One sample t test"
   ]
  },
  {
   "cell_type": "code",
   "execution_count": 38,
   "id": "710d1fdc",
   "metadata": {},
   "outputs": [
    {
     "name": "stdout",
     "output_type": "stream",
     "text": [
      "51.4431\n",
      "40.58\n"
     ]
    }
   ],
   "source": [
    "np.random.seed(6)\n",
    "population_ages1=stats.poisson.rvs(loc=18,mu=35,size=150000) #random values\n",
    "population_ages2=stats.poisson.rvs(loc=18,mu=10,size=10000)\n",
    "population_ages=np.concatenate((population_ages1,population_ages2))\n",
    "\n",
    "amsterdam_ages1=stats.poisson.rvs(loc=18,mu=30,size=30) #random values\n",
    "amsterdam_ages2=stats.poisson.rvs(loc=18,mu=10,size=20)\n",
    "amsterdam_ages=np.concatenate((amsterdam_ages1,amsterdam_ages2))\n",
    "\n",
    "print(population_ages.mean())\n",
    "print(amsterdam_ages.mean())"
   ]
  },
  {
   "cell_type": "markdown",
   "id": "b650405e",
   "metadata": {},
   "source": [
    "We know 2 means are different because I used slightly different distribution.\n",
    "Now, i can conduct a 95% confidence t test and see whether the test will actually reject the null hypothesis (h0= sample comes from the same distribution). For that I can use stats.ttest_1samp():"
   ]
  },
  {
   "cell_type": "code",
   "execution_count": 39,
   "id": "45f6051d",
   "metadata": {},
   "outputs": [
    {
     "data": {
      "text/plain": [
       "Ttest_1sampResult(statistic=-6.65081423661494, pvalue=2.3060044179137718e-08)"
      ]
     },
     "execution_count": 39,
     "metadata": {},
     "output_type": "execute_result"
    }
   ],
   "source": [
    "stats.ttest_1samp(a=amsterdam_ages,\n",
    "                 popmean=population_ages.mean())"
   ]
  },
  {
   "cell_type": "markdown",
   "id": "9390976d",
   "metadata": {},
   "source": [
    "t statistics is -6.65 and p value is very very small. It is smaller than 0.05, we can't accept the null hypothesis.\n",
    "\n",
    "-6.65 tells us how much the mean of the sample deviates from the mean of the population. The higher T value (or absolute of t value) and the smaller the p, the more sure we are we cannot accept the null hypothesis."
   ]
  },
  {
   "cell_type": "code",
   "execution_count": 40,
   "id": "bbd2cd80",
   "metadata": {},
   "outputs": [
    {
     "data": {
      "text/plain": [
       "-2.0095752344892093"
      ]
     },
     "execution_count": 40,
     "metadata": {},
     "output_type": "execute_result"
    }
   ],
   "source": [
    "stats.t.ppf(q=0.025, #check quantiles\n",
    "           df=49) #degrees of freedom"
   ]
  },
  {
   "cell_type": "markdown",
   "id": "0248c98f",
   "metadata": {},
   "source": [
    "stats.t.ppf(q=0.975, #check quantiles\n",
    "           df=49) #degrees of freedom"
   ]
  },
  {
   "cell_type": "code",
   "execution_count": 41,
   "id": "e3dc6322",
   "metadata": {},
   "outputs": [
    {
     "data": {
      "text/plain": [
       "2.009575234489209"
      ]
     },
     "execution_count": 41,
     "metadata": {},
     "output_type": "execute_result"
    }
   ],
   "source": [
    "stats.t.ppf(q=0.975,\n",
    "            df=49)#check quantiles df=49) #degrees of freedom"
   ]
  },
  {
   "cell_type": "code",
   "execution_count": 42,
   "id": "42f32e52",
   "metadata": {},
   "outputs": [
    {
     "data": {
      "text/plain": [
       "0.013121066545690117"
      ]
     },
     "execution_count": 42,
     "metadata": {},
     "output_type": "execute_result"
    }
   ],
   "source": [
    "stats.t.cdf(x=-2.5742,\n",
    "           df=49)*2 #multipy by 2 for 2 sided test"
   ]
  },
  {
   "cell_type": "markdown",
   "id": "e1756ceb",
   "metadata": {},
   "source": [
    "We expect to see the data as extreme as our sample due to chance about 1.3% of the time if the null hypothesis was true. In this case p value is lower than significance level of 0.05 so we should reject the null hypothesis."
   ]
  },
  {
   "cell_type": "markdown",
   "id": "7fc7468f",
   "metadata": {},
   "source": [
    "### Two sample t test\n"
   ]
  },
  {
   "cell_type": "code",
   "execution_count": 43,
   "id": "e86f22a5",
   "metadata": {},
   "outputs": [
    {
     "name": "stdout",
     "output_type": "stream",
     "text": [
      "42.8\n"
     ]
    }
   ],
   "source": [
    "np.random.seed(12)\n",
    "rotterdam_ages1=stats.poisson.rvs(loc=18,mu=33,size=30) #random values\n",
    "rotterdam_ages2=stats.poisson.rvs(loc=18,mu=13,size=20)\n",
    "rotterdam_ages=np.concatenate((rotterdam_ages1,rotterdam_ages2))\n",
    "print(rotterdam_ages.mean())\n"
   ]
  },
  {
   "cell_type": "code",
   "execution_count": 44,
   "id": "60656a9c",
   "metadata": {},
   "outputs": [
    {
     "data": {
      "text/plain": [
       "Ttest_indResult(statistic=-1.0079788186778762, pvalue=0.3159716969179097)"
      ]
     },
     "execution_count": 44,
     "metadata": {},
     "output_type": "execute_result"
    }
   ],
   "source": [
    "stats.ttest_ind(a=amsterdam_ages,\n",
    "               b=rotterdam_ages,\n",
    "               equal_var=False) #assume samples have equal variance?"
   ]
  },
  {
   "cell_type": "markdown",
   "id": "928c6034",
   "metadata": {},
   "source": [
    "p value of 0.31 we do accept the null hypothesis,"
   ]
  },
  {
   "cell_type": "markdown",
   "id": "7ddf091f",
   "metadata": {},
   "source": [
    "### Paired T test"
   ]
  },
  {
   "cell_type": "markdown",
   "id": "d027043d",
   "metadata": {},
   "source": [
    "To test the same sample in two points in time."
   ]
  },
  {
   "cell_type": "markdown",
   "id": "3da3c792",
   "metadata": {},
   "source": [
    "Eg check weights at two points in time to see if the group lost weight."
   ]
  },
  {
   "cell_type": "code",
   "execution_count": 45,
   "id": "c61dbd33",
   "metadata": {},
   "outputs": [
    {
     "data": {
      "text/html": [
       "<div>\n",
       "<style scoped>\n",
       "    .dataframe tbody tr th:only-of-type {\n",
       "        vertical-align: middle;\n",
       "    }\n",
       "\n",
       "    .dataframe tbody tr th {\n",
       "        vertical-align: top;\n",
       "    }\n",
       "\n",
       "    .dataframe thead th {\n",
       "        text-align: right;\n",
       "    }\n",
       "</style>\n",
       "<table border=\"1\" class=\"dataframe\">\n",
       "  <thead>\n",
       "    <tr style=\"text-align: right;\">\n",
       "      <th></th>\n",
       "      <th>weight_before</th>\n",
       "      <th>weight_after</th>\n",
       "      <th>weight_change</th>\n",
       "    </tr>\n",
       "  </thead>\n",
       "  <tbody>\n",
       "    <tr>\n",
       "      <th>count</th>\n",
       "      <td>100.000000</td>\n",
       "      <td>100.000000</td>\n",
       "      <td>100.000000</td>\n",
       "    </tr>\n",
       "    <tr>\n",
       "      <th>mean</th>\n",
       "      <td>250.345546</td>\n",
       "      <td>249.115171</td>\n",
       "      <td>-1.230375</td>\n",
       "    </tr>\n",
       "    <tr>\n",
       "      <th>std</th>\n",
       "      <td>28.132539</td>\n",
       "      <td>28.422183</td>\n",
       "      <td>4.783696</td>\n",
       "    </tr>\n",
       "    <tr>\n",
       "      <th>min</th>\n",
       "      <td>170.400443</td>\n",
       "      <td>165.913930</td>\n",
       "      <td>-11.495286</td>\n",
       "    </tr>\n",
       "    <tr>\n",
       "      <th>25%</th>\n",
       "      <td>230.421042</td>\n",
       "      <td>229.148236</td>\n",
       "      <td>-4.046211</td>\n",
       "    </tr>\n",
       "    <tr>\n",
       "      <th>50%</th>\n",
       "      <td>250.830805</td>\n",
       "      <td>251.134089</td>\n",
       "      <td>-1.413463</td>\n",
       "    </tr>\n",
       "    <tr>\n",
       "      <th>75%</th>\n",
       "      <td>270.637145</td>\n",
       "      <td>268.927258</td>\n",
       "      <td>1.738673</td>\n",
       "    </tr>\n",
       "    <tr>\n",
       "      <th>max</th>\n",
       "      <td>314.700233</td>\n",
       "      <td>316.720357</td>\n",
       "      <td>9.759282</td>\n",
       "    </tr>\n",
       "  </tbody>\n",
       "</table>\n",
       "</div>"
      ],
      "text/plain": [
       "       weight_before  weight_after  weight_change\n",
       "count     100.000000    100.000000     100.000000\n",
       "mean      250.345546    249.115171      -1.230375\n",
       "std        28.132539     28.422183       4.783696\n",
       "min       170.400443    165.913930     -11.495286\n",
       "25%       230.421042    229.148236      -4.046211\n",
       "50%       250.830805    251.134089      -1.413463\n",
       "75%       270.637145    268.927258       1.738673\n",
       "max       314.700233    316.720357       9.759282"
      ]
     },
     "execution_count": 45,
     "metadata": {},
     "output_type": "execute_result"
    }
   ],
   "source": [
    "np.random.seed(11)\n",
    "before=stats.norm.rvs(scale=30,loc=250,size=100)\n",
    "after=before+stats.norm.rvs(scale=5,loc=-1.25,size=100)\n",
    "weight_df=pd.DataFrame({\"weight_before\":before,\n",
    "                       \"weight_after\":after,\n",
    "                       \"weight_change\":after-before})\n",
    "weight_df.describe()"
   ]
  },
  {
   "cell_type": "code",
   "execution_count": 46,
   "id": "8c73b3e0",
   "metadata": {},
   "outputs": [
    {
     "data": {
      "text/plain": [
       "Ttest_relResult(statistic=2.5720175998568284, pvalue=0.011596444318439857)"
      ]
     },
     "execution_count": 46,
     "metadata": {},
     "output_type": "execute_result"
    }
   ],
   "source": [
    "stats.ttest_rel(a=before,\n",
    "               b=after)"
   ]
  },
  {
   "cell_type": "markdown",
   "id": "3b627148",
   "metadata": {},
   "source": [
    "0.01 p value, meaning there is a significat difference in weight under 95% confidence."
   ]
  },
  {
   "cell_type": "markdown",
   "id": "ea9d0b65",
   "metadata": {},
   "source": [
    "### ANOVA"
   ]
  },
  {
   "cell_type": "markdown",
   "id": "7d9c41df",
   "metadata": {},
   "source": [
    "T test does work good when dealing with two groups, however, sometimes it is neccessery to compare three or more groups at the same time. If we do the t test on each pair of vaiables, the chances of false positives increase, so this is not a good solution. Thats when ANOVA or analysis of variance comes in."
   ]
  },
  {
   "cell_type": "markdown",
   "id": "216abf15",
   "metadata": {},
   "source": [
    "Let's try to perform one way ANOVA test on three group.\n",
    "Python scipy library allows us to do this."
   ]
  },
  {
   "cell_type": "code",
   "execution_count": 47,
   "id": "b3274886",
   "metadata": {},
   "outputs": [
    {
     "name": "stdout",
     "output_type": "stream",
     "text": [
      "    Person gender  Age  Height  pre.weight  Diet  weight6weeks\n",
      "0       25          41     171          60     2          60.0\n",
      "1       26          32     174         103     2         103.0\n",
      "2        1      0   22     159          58     1          54.2\n",
      "3        2      0   46     192          60     1          54.0\n",
      "4        3      0   55     170          64     1          63.3\n",
      "..     ...    ...  ...     ...         ...   ...           ...\n",
      "73      74      1   35     183          83     3          80.2\n",
      "74      75      1   49     177          84     3          79.9\n",
      "75      76      1   28     164          85     3          79.7\n",
      "76      77      1   40     167          87     3          77.8\n",
      "77      78      1   51     175          88     3          81.9\n",
      "\n",
      "[78 rows x 7 columns]\n"
     ]
    }
   ],
   "source": [
    "np.random.seed(12)\n",
    "#import some dataset from csv\n",
    "df=pd.read_csv(r'C:\\Users\\mvukas\\repo\\Diet_R.csv')\n",
    "print(df)"
   ]
  },
  {
   "cell_type": "code",
   "execution_count": 48,
   "id": "7f937567",
   "metadata": {},
   "outputs": [
    {
     "data": {
      "text/html": [
       "<div>\n",
       "<style scoped>\n",
       "    .dataframe tbody tr th:only-of-type {\n",
       "        vertical-align: middle;\n",
       "    }\n",
       "\n",
       "    .dataframe tbody tr th {\n",
       "        vertical-align: top;\n",
       "    }\n",
       "\n",
       "    .dataframe thead th {\n",
       "        text-align: right;\n",
       "    }\n",
       "</style>\n",
       "<table border=\"1\" class=\"dataframe\">\n",
       "  <thead>\n",
       "    <tr style=\"text-align: right;\">\n",
       "      <th></th>\n",
       "      <th>Person</th>\n",
       "      <th>Age</th>\n",
       "      <th>Height</th>\n",
       "      <th>pre.weight</th>\n",
       "      <th>Diet</th>\n",
       "      <th>weight6weeks</th>\n",
       "    </tr>\n",
       "  </thead>\n",
       "  <tbody>\n",
       "    <tr>\n",
       "      <th>count</th>\n",
       "      <td>78.000000</td>\n",
       "      <td>78.000000</td>\n",
       "      <td>78.000000</td>\n",
       "      <td>78.000000</td>\n",
       "      <td>78.000000</td>\n",
       "      <td>78.000000</td>\n",
       "    </tr>\n",
       "    <tr>\n",
       "      <th>mean</th>\n",
       "      <td>39.500000</td>\n",
       "      <td>39.153846</td>\n",
       "      <td>170.820513</td>\n",
       "      <td>72.525641</td>\n",
       "      <td>2.038462</td>\n",
       "      <td>68.680769</td>\n",
       "    </tr>\n",
       "    <tr>\n",
       "      <th>std</th>\n",
       "      <td>22.660538</td>\n",
       "      <td>9.815277</td>\n",
       "      <td>11.276621</td>\n",
       "      <td>8.723344</td>\n",
       "      <td>0.812920</td>\n",
       "      <td>8.924504</td>\n",
       "    </tr>\n",
       "    <tr>\n",
       "      <th>min</th>\n",
       "      <td>1.000000</td>\n",
       "      <td>16.000000</td>\n",
       "      <td>141.000000</td>\n",
       "      <td>58.000000</td>\n",
       "      <td>1.000000</td>\n",
       "      <td>53.000000</td>\n",
       "    </tr>\n",
       "    <tr>\n",
       "      <th>25%</th>\n",
       "      <td>20.250000</td>\n",
       "      <td>32.250000</td>\n",
       "      <td>164.250000</td>\n",
       "      <td>66.000000</td>\n",
       "      <td>1.000000</td>\n",
       "      <td>61.850000</td>\n",
       "    </tr>\n",
       "    <tr>\n",
       "      <th>50%</th>\n",
       "      <td>39.500000</td>\n",
       "      <td>39.000000</td>\n",
       "      <td>169.500000</td>\n",
       "      <td>72.000000</td>\n",
       "      <td>2.000000</td>\n",
       "      <td>68.950000</td>\n",
       "    </tr>\n",
       "    <tr>\n",
       "      <th>75%</th>\n",
       "      <td>58.750000</td>\n",
       "      <td>46.750000</td>\n",
       "      <td>174.750000</td>\n",
       "      <td>78.000000</td>\n",
       "      <td>3.000000</td>\n",
       "      <td>73.825000</td>\n",
       "    </tr>\n",
       "    <tr>\n",
       "      <th>max</th>\n",
       "      <td>78.000000</td>\n",
       "      <td>60.000000</td>\n",
       "      <td>201.000000</td>\n",
       "      <td>103.000000</td>\n",
       "      <td>3.000000</td>\n",
       "      <td>103.000000</td>\n",
       "    </tr>\n",
       "  </tbody>\n",
       "</table>\n",
       "</div>"
      ],
      "text/plain": [
       "          Person        Age      Height  pre.weight       Diet  weight6weeks\n",
       "count  78.000000  78.000000   78.000000   78.000000  78.000000     78.000000\n",
       "mean   39.500000  39.153846  170.820513   72.525641   2.038462     68.680769\n",
       "std    22.660538   9.815277   11.276621    8.723344   0.812920      8.924504\n",
       "min     1.000000  16.000000  141.000000   58.000000   1.000000     53.000000\n",
       "25%    20.250000  32.250000  164.250000   66.000000   1.000000     61.850000\n",
       "50%    39.500000  39.000000  169.500000   72.000000   2.000000     68.950000\n",
       "75%    58.750000  46.750000  174.750000   78.000000   3.000000     73.825000\n",
       "max    78.000000  60.000000  201.000000  103.000000   3.000000    103.000000"
      ]
     },
     "execution_count": 48,
     "metadata": {},
     "output_type": "execute_result"
    }
   ],
   "source": [
    "df.describe() #describe dataset"
   ]
  },
  {
   "cell_type": "markdown",
   "id": "dd2d408d",
   "metadata": {},
   "source": [
    "The dataset shows three groups of people applying three different types of diet and their weight before and 6 weeks after diet change."
   ]
  },
  {
   "cell_type": "code",
   "execution_count": 49,
   "id": "aaf0984d",
   "metadata": {},
   "outputs": [],
   "source": [
    "change=df['weight6weeks']-df['pre.weight']\n",
    "df['weight_change']=change"
   ]
  },
  {
   "cell_type": "code",
   "execution_count": 50,
   "id": "f3d4c313",
   "metadata": {},
   "outputs": [
    {
     "data": {
      "image/png": "[encoded data removed]",
      "text/plain": [
       "<Figure size 432x288 with 1 Axes>"
      ]
     },
     "metadata": {
      "needs_background": "light"
     },
     "output_type": "display_data"
    }
   ],
   "source": [
    "# Fancier, statistical plots.\n",
    "import seaborn as sns\n",
    "\n",
    "#Visualize data.\n",
    "fig, ax=plt.subplots()\n",
    "\n",
    "ax.plot(df['Age'],df['pre.weight'],'.')\n",
    "\n",
    "ax.set_xlabel('Age');\n",
    "ax.set_ylabel('Start weight');"
   ]
  },
  {
   "cell_type": "code",
   "execution_count": 51,
   "id": "ebc543b6",
   "metadata": {},
   "outputs": [
    {
     "data": {
      "image/png": "[encoded data removed]",
      "text/plain": [
       "<Figure size 432x288 with 1 Axes>"
      ]
     },
     "metadata": {
      "needs_background": "light"
     },
     "output_type": "display_data"
    }
   ],
   "source": [
    "#Visualize data.\n",
    "fig, ax=plt.subplots()\n",
    "\n",
    "ax.plot(df['Age'],df['weight_change'],'.')\n",
    "\n",
    "ax.set_xlabel('Age');\n",
    "ax.set_ylabel('Weight change');"
   ]
  },
  {
   "cell_type": "markdown",
   "id": "42cc0ee6",
   "metadata": {},
   "source": [
    "For now I see no pattern. Let's group people by the diet they applied in the 6 weeks."
   ]
  },
  {
   "cell_type": "code",
   "execution_count": 52,
   "id": "39b1d431",
   "metadata": {},
   "outputs": [
    {
     "data": {
      "text/plain": [
       "<pandas.core.groupby.generic.DataFrameGroupBy object at 0x000001B84EE0E760>"
      ]
     },
     "execution_count": 52,
     "metadata": {},
     "output_type": "execute_result"
    }
   ],
   "source": [
    "x=df.groupby('Diet')\n",
    "x"
   ]
  },
  {
   "cell_type": "code",
   "execution_count": 53,
   "id": "5fa00f9d",
   "metadata": {},
   "outputs": [
    {
     "data": {
      "text/html": [
       "<div>\n",
       "<style scoped>\n",
       "    .dataframe tbody tr th:only-of-type {\n",
       "        vertical-align: middle;\n",
       "    }\n",
       "\n",
       "    .dataframe tbody tr th {\n",
       "        vertical-align: top;\n",
       "    }\n",
       "\n",
       "    .dataframe thead th {\n",
       "        text-align: right;\n",
       "    }\n",
       "</style>\n",
       "<table border=\"1\" class=\"dataframe\">\n",
       "  <thead>\n",
       "    <tr style=\"text-align: right;\">\n",
       "      <th></th>\n",
       "      <th>Person</th>\n",
       "      <th>Age</th>\n",
       "      <th>Height</th>\n",
       "      <th>pre.weight</th>\n",
       "      <th>weight6weeks</th>\n",
       "      <th>weight_change</th>\n",
       "    </tr>\n",
       "    <tr>\n",
       "      <th>Diet</th>\n",
       "      <th></th>\n",
       "      <th></th>\n",
       "      <th></th>\n",
       "      <th></th>\n",
       "      <th></th>\n",
       "      <th></th>\n",
       "    </tr>\n",
       "  </thead>\n",
       "  <tbody>\n",
       "    <tr>\n",
       "      <th>1</th>\n",
       "      <td>12.5</td>\n",
       "      <td>40.875000</td>\n",
       "      <td>170.291667</td>\n",
       "      <td>72.875000</td>\n",
       "      <td>69.575000</td>\n",
       "      <td>-3.300000</td>\n",
       "    </tr>\n",
       "    <tr>\n",
       "      <th>2</th>\n",
       "      <td>38.0</td>\n",
       "      <td>39.000000</td>\n",
       "      <td>174.851852</td>\n",
       "      <td>71.111111</td>\n",
       "      <td>68.085185</td>\n",
       "      <td>-3.025926</td>\n",
       "    </tr>\n",
       "    <tr>\n",
       "      <th>3</th>\n",
       "      <td>65.0</td>\n",
       "      <td>37.777778</td>\n",
       "      <td>167.259259</td>\n",
       "      <td>73.629630</td>\n",
       "      <td>68.481481</td>\n",
       "      <td>-5.148148</td>\n",
       "    </tr>\n",
       "  </tbody>\n",
       "</table>\n",
       "</div>"
      ],
      "text/plain": [
       "      Person        Age      Height  pre.weight  weight6weeks  weight_change\n",
       "Diet                                                                        \n",
       "1       12.5  40.875000  170.291667   72.875000     69.575000      -3.300000\n",
       "2       38.0  39.000000  174.851852   71.111111     68.085185      -3.025926\n",
       "3       65.0  37.777778  167.259259   73.629630     68.481481      -5.148148"
      ]
     },
     "execution_count": 53,
     "metadata": {},
     "output_type": "execute_result"
    }
   ],
   "source": [
    "#Pivot tables\n",
    "x.mean()"
   ]
  },
  {
   "cell_type": "code",
   "execution_count": 54,
   "id": "84bb879c",
   "metadata": {},
   "outputs": [
    {
     "name": "stdout",
     "output_type": "stream",
     "text": [
      "\n",
      "i is: '1'\n",
      "j looks like:\n",
      "   Person gender  Age  Height  pre.weight  Diet  weight6weeks  weight_change\n",
      "2       1      0   22     159          58     1          54.2           -3.8\n",
      "3       2      0   46     192          60     1          54.0           -6.0\n",
      "4       3      0   55     170          64     1          63.3           -0.7\n",
      "\n",
      "\n",
      "i is: '2'\n",
      "j looks like:\n",
      "    Person gender  Age  Height  pre.weight  Diet  weight6weeks  weight_change\n",
      "0       25          41     171          60     2          60.0            0.0\n",
      "1       26          32     174         103     2         103.0            0.0\n",
      "16      27      0   44     174          58     2          60.1            2.1\n",
      "\n",
      "\n",
      "i is: '3'\n",
      "j looks like:\n",
      "    Person gender  Age  Height  pre.weight  Diet  weight6weeks  weight_change\n",
      "30      52      0   51     165          60     3          53.0           -7.0\n",
      "31      53      0   35     169          62     3          56.4           -5.6\n",
      "32      54      0   21     159          64     3          60.6           -3.4\n",
      "\n"
     ]
    }
   ],
   "source": [
    "# Looping through groupby().\n",
    "for i, j in x:\n",
    "    print()\n",
    "    print(f\"i is: '{i}'\")\n",
    "    print(f\"j looks like:\\n{j[:3]}\")\n",
    "    print()"
   ]
  },
  {
   "cell_type": "markdown",
   "id": "0d56e753",
   "metadata": {},
   "source": [
    "We know in order to do ANOVA we have to fulfill some assumptions. Let's go through these assumptions."
   ]
  },
  {
   "cell_type": "markdown",
   "id": "cb7d5210",
   "metadata": {},
   "source": [
    "#### Assumption 1: Dependent variable"
   ]
  },
  {
   "cell_type": "code",
   "execution_count": 55,
   "id": "8d5995d8",
   "metadata": {},
   "outputs": [
    {
     "data": {
      "text/plain": [
       "0     0.0\n",
       "1     0.0\n",
       "2    -3.8\n",
       "3    -6.0\n",
       "4    -0.7\n",
       "     ... \n",
       "73   -2.8\n",
       "74   -4.1\n",
       "75   -5.3\n",
       "76   -9.2\n",
       "77   -6.1\n",
       "Name: weight_change, Length: 78, dtype: float64"
      ]
     },
     "execution_count": 55,
     "metadata": {},
     "output_type": "execute_result"
    }
   ],
   "source": [
    "#The dependent variable.\n",
    "dependent=df['weight_change']\n",
    "dependent"
   ]
  },
  {
   "cell_type": "code",
   "execution_count": 56,
   "id": "72e72bad",
   "metadata": {},
   "outputs": [
    {
     "data": {
      "text/plain": [
       "count    78.000000\n",
       "mean     -3.844872\n",
       "std       2.551478\n",
       "min      -9.200000\n",
       "25%      -5.550000\n",
       "50%      -3.600000\n",
       "75%      -2.000000\n",
       "max       2.100000\n",
       "Name: weight_change, dtype: float64"
      ]
     },
     "execution_count": 56,
     "metadata": {},
     "output_type": "execute_result"
    }
   ],
   "source": [
    "dependent.describe()"
   ]
  },
  {
   "cell_type": "markdown",
   "id": "44cf6a19",
   "metadata": {},
   "source": [
    "#### Assumption 2: Independent variable"
   ]
  },
  {
   "cell_type": "code",
   "execution_count": 57,
   "id": "43897a26",
   "metadata": {},
   "outputs": [
    {
     "data": {
      "text/plain": [
       "0     2\n",
       "1     2\n",
       "2     1\n",
       "3     1\n",
       "4     1\n",
       "     ..\n",
       "73    3\n",
       "74    3\n",
       "75    3\n",
       "76    3\n",
       "77    3\n",
       "Name: Diet, Length: 78, dtype: object"
      ]
     },
     "execution_count": 57,
     "metadata": {},
     "output_type": "execute_result"
    }
   ],
   "source": [
    "df.Diet=df.Diet.astype(str)\n",
    "df.Diet"
   ]
  },
  {
   "cell_type": "code",
   "execution_count": 58,
   "id": "f39fafc0",
   "metadata": {},
   "outputs": [
    {
     "data": {
      "text/plain": [
       "0     2\n",
       "1     2\n",
       "2     1\n",
       "3     1\n",
       "4     1\n",
       "     ..\n",
       "73    3\n",
       "74    3\n",
       "75    3\n",
       "76    3\n",
       "77    3\n",
       "Name: Diet, Length: 78, dtype: object"
      ]
     },
     "execution_count": 58,
     "metadata": {},
     "output_type": "execute_result"
    }
   ],
   "source": [
    "#Independent variable.\n",
    "independent=df['Diet']\n",
    "independent"
   ]
  },
  {
   "cell_type": "markdown",
   "id": "5f90853b",
   "metadata": {},
   "source": [
    "### Assumption 4: Outliers"
   ]
  },
  {
   "cell_type": "code",
   "execution_count": 59,
   "id": "dd5f2c6c",
   "metadata": {},
   "outputs": [
    {
     "data": {
      "text/plain": [
       "<AxesSubplot:xlabel='weight_change', ylabel='Diet'>"
      ]
     },
     "execution_count": 59,
     "metadata": {},
     "output_type": "execute_result"
    },
    {
     "data": {
      "image/png": "[encoded data removed]",
      "text/plain": [
       "<Figure size 432x288 with 1 Axes>"
      ]
     },
     "metadata": {
      "needs_background": "light"
     },
     "output_type": "display_data"
    }
   ],
   "source": [
    "sns.boxplot(x=dependent,y=independent)"
   ]
  },
  {
   "cell_type": "markdown",
   "id": "1de8fdb3",
   "metadata": {},
   "source": [
    "It does look like we have two outliers in the group 1. We can windsorize these outliers or proceed now for the training purposes."
   ]
  },
  {
   "cell_type": "markdown",
   "id": "dd83e1cc",
   "metadata": {},
   "source": [
    "#### Assumption 5: Normality"
   ]
  },
  {
   "cell_type": "code",
   "execution_count": 60,
   "id": "904087df",
   "metadata": {},
   "outputs": [
    {
     "data": {
      "text/plain": [
       "<seaborn.axisgrid.FacetGrid at 0x1b84f11feb0>"
      ]
     },
     "execution_count": 60,
     "metadata": {},
     "output_type": "execute_result"
    },
    {
     "data": {
      "image/png": "[encoded data removed]",
      "text/plain": [
       "<Figure size 402.375x360 with 1 Axes>"
      ]
     },
     "metadata": {
      "needs_background": "light"
     },
     "output_type": "display_data"
    }
   ],
   "source": [
    "# KDEs of the three categories.\n",
    "sns.displot(x=dependent, hue=independent, kind=\"kde\")"
   ]
  },
  {
   "cell_type": "markdown",
   "id": "d8c42788",
   "metadata": {},
   "source": [
    "They do look quite normal, but let's do some additional tests."
   ]
  },
  {
   "cell_type": "code",
   "execution_count": 61,
   "id": "c63f6759",
   "metadata": {},
   "outputs": [
    {
     "data": {
      "text/plain": [
       "2    -3.8\n",
       "3    -6.0\n",
       "4    -0.7\n",
       "5    -2.9\n",
       "6    -2.8\n",
       "7    -2.0\n",
       "8    -2.0\n",
       "9    -8.5\n",
       "10   -1.9\n",
       "11   -3.1\n",
       "12   -1.5\n",
       "13   -3.0\n",
       "14   -3.6\n",
       "15   -0.9\n",
       "45    0.6\n",
       "46   -1.1\n",
       "47   -4.5\n",
       "48   -4.1\n",
       "49   -9.0\n",
       "50   -2.4\n",
       "51   -3.9\n",
       "52   -3.5\n",
       "53   -5.1\n",
       "54   -3.5\n",
       "Name: weight_change, dtype: float64"
      ]
     },
     "execution_count": 61,
     "metadata": {},
     "output_type": "execute_result"
    }
   ],
   "source": [
    "#Extract Group 1\n",
    "group_1=dependent[independent=='1']\n",
    "group_1"
   ]
  },
  {
   "cell_type": "code",
   "execution_count": 62,
   "id": "e073e097",
   "metadata": {},
   "outputs": [
    {
     "data": {
      "text/plain": [
       "ShapiroResult(statistic=0.9255314469337463, pvalue=0.07748671621084213)"
      ]
     },
     "execution_count": 62,
     "metadata": {},
     "output_type": "execute_result"
    }
   ],
   "source": [
    "#Run the Shapiro-Wilk test.\n",
    "stats.shapiro(group_1)"
   ]
  },
  {
   "cell_type": "code",
   "execution_count": 63,
   "id": "3277f6a7",
   "metadata": {},
   "outputs": [
    {
     "data": {
      "text/plain": [
       "ShapiroResult(statistic=0.9855911731719971, pvalue=0.9611741304397583)"
      ]
     },
     "execution_count": 63,
     "metadata": {},
     "output_type": "execute_result"
    }
   ],
   "source": [
    "#Run the test for the Group 2.\n",
    "stats.shapiro(dependent[independent=='2'])"
   ]
  },
  {
   "cell_type": "code",
   "execution_count": 64,
   "id": "4596d889",
   "metadata": {},
   "outputs": [
    {
     "data": {
      "text/plain": [
       "ShapiroResult(statistic=0.9601254463195801, pvalue=0.3720393776893616)"
      ]
     },
     "execution_count": 64,
     "metadata": {},
     "output_type": "execute_result"
    }
   ],
   "source": [
    "#Group 3.\n",
    "stats.shapiro(dependent[independent=='3'])"
   ]
  },
  {
   "cell_type": "markdown",
   "id": "5c5fafd8",
   "metadata": {},
   "source": [
    "As all statistics are greater than 0.05 we can deem the data normal."
   ]
  },
  {
   "cell_type": "markdown",
   "id": "ff39442b",
   "metadata": {},
   "source": [
    "#### Assumption 6: Homogeneity of Variances"
   ]
  },
  {
   "cell_type": "code",
   "execution_count": 65,
   "id": "10b6e665",
   "metadata": {},
   "outputs": [
    {
     "data": {
      "text/plain": [
       "LeveneResult(statistic=0.6256665777896312, pvalue=0.5376731304274011)"
      ]
     },
     "execution_count": 65,
     "metadata": {},
     "output_type": "execute_result"
    }
   ],
   "source": [
    "#Test for equal variances.\n",
    "stats.levene(\n",
    "    dependent[independent == '1'],\n",
    "    dependent[independent == '2'],\n",
    "    dependent[independent == '3']\n",
    ")"
   ]
  },
  {
   "cell_type": "markdown",
   "id": "0fd34d63",
   "metadata": {},
   "source": [
    "This is an F test, and statistic is greater than 0.05, hence we can assume the variances of our three groups are equal."
   ]
  },
  {
   "cell_type": "markdown",
   "id": "1455e93e",
   "metadata": {},
   "source": [
    "Now, we can proceed with ANOVA! finally..."
   ]
  },
  {
   "cell_type": "markdown",
   "id": "0b5d75f5",
   "metadata": {},
   "source": [
    "#### One-way ANOVA"
   ]
  },
  {
   "cell_type": "code",
   "execution_count": 66,
   "id": "1c8e2df4",
   "metadata": {},
   "outputs": [
    {
     "data": {
      "text/plain": [
       "F_onewayResult(statistic=6.197447453165349, pvalue=0.0032290142385893524)"
      ]
     },
     "execution_count": 66,
     "metadata": {},
     "output_type": "execute_result"
    }
   ],
   "source": [
    "#ANOVA\n",
    "stats.f_oneway(\n",
    "    dependent[independent == '1'],\n",
    "    dependent[independent == '2'],\n",
    "    dependent[independent == '3']\n",
    ")"
   ]
  },
  {
   "cell_type": "markdown",
   "id": "f7e40484",
   "metadata": {},
   "source": [
    "#### Interpretation and Conclusion"
   ]
  },
  {
   "cell_type": "markdown",
   "id": "8c4f0c8a",
   "metadata": {},
   "source": [
    "Conclusion: the mean weight change og three groups are the same, on average there is no significant difference between three diets."
   ]
  },
  {
   "cell_type": "markdown",
   "id": "2a5b2dde",
   "metadata": {},
   "source": [
    "# THE END"
   ]
  }
 ],
 "metadata": {
  "kernelspec": {
   "display_name": "Python 3",
   "language": "python",
   "name": "python3"
  },
  "language_info": {
   "codemirror_mode": {
    "name": "ipython",
    "version": 3
   },
   "file_extension": ".py",
   "mimetype": "text/x-python",
   "name": "python",
   "nbconvert_exporter": "python",
   "pygments_lexer": "ipython3",
   "version": "3.8.8"
  }
 },
 "nbformat": 4,
 "nbformat_minor": 5
}
