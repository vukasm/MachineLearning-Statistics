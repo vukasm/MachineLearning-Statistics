{
 "cells": [
  {
   "cell_type": "markdown",
   "id": "0a3f574a",
   "metadata": {},
   "source": [
    "# My favorite Scikit-Learn algorithms\n",
    "\n",
    "This notebook contains a demonstrations and visualisations of my three favorite algorithms available through scikit-learn Python library. "
   ]
  },
  {
   "cell_type": "markdown",
   "id": "71d17a24",
   "metadata": {},
   "source": [
    "## 1. Choosing Scikit-Learn: The Benefits"
   ]
  },
  {
   "cell_type": "markdown",
   "id": "ea559d8d",
   "metadata": {},
   "source": [
    "## 2. Installing Scikit-Learn"
   ]
  },
  {
   "cell_type": "markdown",
   "id": "4e6d852d",
   "metadata": {},
   "source": [
    "## 3. Algorithm 1"
   ]
  },
  {
   "cell_type": "markdown",
   "id": "3577b6a9",
   "metadata": {},
   "source": [
    "## 4. Algorithm 2"
   ]
  },
  {
   "cell_type": "markdown",
   "id": "4432e072",
   "metadata": {},
   "source": [
    "## 5. Algorithm 3"
   ]
  },
  {
   "cell_type": "markdown",
   "id": "4f691686",
   "metadata": {},
   "source": [
    "## 6. Conclusion"
   ]
  },
  {
   "cell_type": "markdown",
   "id": "7364698e",
   "metadata": {},
   "source": [
    "## References\n",
    "\n",
    "\"scikit-learn: machine learning in python - scikit-learn 0.24.2 documentation\", 2021. [Online]. Available: https://scikit-learn.org/stable/index.html"
   ]
  },
  {
   "cell_type": "markdown",
   "id": "64f0424c",
   "metadata": {},
   "source": [
    "# Practice"
   ]
  },
  {
   "cell_type": "markdown",
   "id": "6719957a",
   "metadata": {},
   "source": [
    "### Learning & Predicting: Predicting images with digits dataset"
   ]
  },
  {
   "cell_type": "code",
   "execution_count": 1,
   "id": "61b23ea1",
   "metadata": {},
   "outputs": [],
   "source": [
    "import matplotlib as plt\n",
    "import numpy as np\n",
    "import pandas as pd"
   ]
  },
  {
   "cell_type": "code",
   "execution_count": 2,
   "id": "e3d59992",
   "metadata": {},
   "outputs": [],
   "source": [
    "#load iris and digits dataset\n",
    "from sklearn import datasets\n",
    "iris = datasets.load_iris()\n",
    "digits = datasets.load_digits()"
   ]
  },
  {
   "cell_type": "code",
   "execution_count": 3,
   "id": "5d6c6bb8",
   "metadata": {
    "scrolled": true
   },
   "outputs": [
    {
     "data": {
      "text/plain": [
       "array([[ 0.,  0.,  5., ...,  0.,  0.,  0.],\n",
       "       [ 0.,  0.,  0., ..., 10.,  0.,  0.],\n",
       "       [ 0.,  0.,  0., ..., 16.,  9.,  0.],\n",
       "       ...,\n",
       "       [ 0.,  0.,  1., ...,  6.,  0.,  0.],\n",
       "       [ 0.,  0.,  2., ..., 12.,  0.,  0.],\n",
       "       [ 0.,  0., 10., ..., 12.,  1.,  0.]])"
      ]
     },
     "execution_count": 3,
     "metadata": {},
     "output_type": "execute_result"
    }
   ],
   "source": [
    "#print out data from digits dataset\n",
    "digits.data"
   ]
  },
  {
   "cell_type": "code",
   "execution_count": 4,
   "id": "977da3f7",
   "metadata": {},
   "outputs": [
    {
     "data": {
      "text/plain": [
       "array([0, 1, 2, ..., 8, 9, 8])"
      ]
     },
     "execution_count": 4,
     "metadata": {},
     "output_type": "execute_result"
    }
   ],
   "source": [
    "digits.target"
   ]
  },
  {
   "cell_type": "code",
   "execution_count": 5,
   "id": "58715b07",
   "metadata": {},
   "outputs": [],
   "source": [
    "#digits dataset's task is to predict the digit on the basis of an image\n",
    "#there are 10 possible cases; 0-9\n",
    "#we fit an estimator on certain image to predict the classes of sample it belongs\n",
    "#we use  fit(x,y) and predict(T)\n",
    "from sklearn import svm #svm.svc is an estimator\n",
    "clf=svm.SVC(gamma=0.001,C=100.) #manually setting the value of gamma"
   ]
  },
  {
   "cell_type": "code",
   "execution_count": 6,
   "id": "85421e02",
   "metadata": {},
   "outputs": [
    {
     "data": {
      "text/plain": [
       "SVC(C=100.0, gamma=0.001)"
      ]
     },
     "execution_count": 6,
     "metadata": {},
     "output_type": "execute_result"
    }
   ],
   "source": [
    "#clf (classifier) must first be fit to the model so it can learn from it\n",
    "clf.fit(digits.data[:-1],digits.target[:-1])"
   ]
  },
  {
   "cell_type": "code",
   "execution_count": 7,
   "id": "a131d9ad",
   "metadata": {},
   "outputs": [
    {
     "data": {
      "text/plain": [
       "array([8])"
      ]
     },
     "execution_count": 7,
     "metadata": {},
     "output_type": "execute_result"
    }
   ],
   "source": [
    "#now i can predict data by using the last image from digits.data\n",
    "#by predicting, I will determine the image from the training set that best matches the last image\n",
    "clf.predict(digits.data[-1:]) #image predicted digit 8"
   ]
  },
  {
   "cell_type": "markdown",
   "id": "e95f523a",
   "metadata": {},
   "source": [
    "### Casting"
   ]
  },
  {
   "cell_type": "code",
   "execution_count": 8,
   "id": "51203fca",
   "metadata": {},
   "outputs": [
    {
     "data": {
      "text/plain": [
       "array([[0.5488135 , 0.71518934, 0.60276335, ..., 0.4801078 , 0.64386404,\n",
       "        0.5017731 ],\n",
       "       [0.8115185 , 0.476084  , 0.523156  , ..., 0.83000296, 0.9328062 ,\n",
       "        0.30833843],\n",
       "       [0.29264206, 0.56651825, 0.13741443, ..., 0.6965229 , 0.4836966 ,\n",
       "        0.33955073],\n",
       "       ...,\n",
       "       [0.32059506, 0.24986687, 0.03107279, ..., 0.3893891 , 0.93272   ,\n",
       "        0.33276632],\n",
       "       [0.39553738, 0.8440175 , 0.15044175, ..., 0.53561085, 0.35458204,\n",
       "        0.935781  ],\n",
       "       [0.81402713, 0.85133713, 0.43113658, ..., 0.44645575, 0.3601266 ,\n",
       "        0.6258866 ]], dtype=float32)"
      ]
     },
     "execution_count": 8,
     "metadata": {},
     "output_type": "execute_result"
    }
   ],
   "source": [
    "from sklearn import random_projection\n",
    "\n",
    "rng = np.random.RandomState(0) #exposes a number of methods for generating random numbers drawn from a variety of probability distributions\n",
    "X = rng.rand(10, 2000) #rand method outputs a Random values in a given shape.\n",
    "X = np.array(X, dtype='float32') #setting X in an array with data type in array float32\n",
    "X"
   ]
  },
  {
   "cell_type": "code",
   "execution_count": 9,
   "id": "d9ade79f",
   "metadata": {},
   "outputs": [
    {
     "data": {
      "text/plain": [
       "dtype('float32')"
      ]
     },
     "execution_count": 9,
     "metadata": {},
     "output_type": "execute_result"
    }
   ],
   "source": [
    "X.dtype"
   ]
  },
  {
   "cell_type": "code",
   "execution_count": 10,
   "id": "93f436fb",
   "metadata": {},
   "outputs": [
    {
     "data": {
      "text/plain": [
       "dtype('float64')"
      ]
     },
     "execution_count": 10,
     "metadata": {},
     "output_type": "execute_result"
    }
   ],
   "source": [
    "transformer = random_projection.GaussianRandomProjection()\n",
    "X_new = transformer.fit_transform(X)\n",
    "X_new.dtype"
   ]
  },
  {
   "cell_type": "code",
   "execution_count": 11,
   "id": "4f283a38",
   "metadata": {},
   "outputs": [
    {
     "data": {
      "text/plain": [
       "[0, 0, 0]"
      ]
     },
     "execution_count": 11,
     "metadata": {},
     "output_type": "execute_result"
    }
   ],
   "source": [
    "from sklearn.svm import SVC\n",
    "clf = SVC()\n",
    "clf.fit(iris.data, iris.target)\n",
    "list(clf.predict(iris.data[:3])) #returns an integer array\n",
    "\n"
   ]
  },
  {
   "cell_type": "code",
   "execution_count": 12,
   "id": "e6f11014",
   "metadata": {},
   "outputs": [
    {
     "data": {
      "text/plain": [
       "['setosa', 'setosa', 'setosa']"
      ]
     },
     "execution_count": 12,
     "metadata": {},
     "output_type": "execute_result"
    }
   ],
   "source": [
    "clf.fit(iris.data, iris.target_names[iris.target])\n",
    "list(clf.predict(iris.data[:3])) #returns a string array as iris.target_name is used for fitting"
   ]
  },
  {
   "cell_type": "markdown",
   "id": "baec792f",
   "metadata": {},
   "source": [
    "### Refitting and updating parameters"
   ]
  },
  {
   "cell_type": "code",
   "execution_count": 13,
   "id": "de242366",
   "metadata": {},
   "outputs": [
    {
     "data": {
      "text/plain": [
       "array([0, 0, 0, 0, 0])"
      ]
     },
     "execution_count": 13,
     "metadata": {},
     "output_type": "execute_result"
    }
   ],
   "source": [
    "from sklearn.datasets import load_iris\n",
    "X, y = load_iris(return_X_y=True)\n",
    "\n",
    "clf = SVC()\n",
    "clf.set_params(kernel='linear').fit(X, y) #default kernel is set to linear\n",
    "clf.predict(X[:5])"
   ]
  },
  {
   "cell_type": "code",
   "execution_count": 14,
   "id": "6b2e424e",
   "metadata": {},
   "outputs": [
    {
     "data": {
      "text/plain": [
       "array([0, 0, 0, 0, 0])"
      ]
     },
     "execution_count": 14,
     "metadata": {},
     "output_type": "execute_result"
    }
   ],
   "source": [
    "clf.set_params(kernel='rbf').fit(X, y) #kernel changed back to rbf to make second prediction\n",
    "\n",
    "clf.predict(X[:5])"
   ]
  },
  {
   "cell_type": "code",
   "execution_count": null,
   "id": "f56a165f",
   "metadata": {},
   "outputs": [],
   "source": []
  },
  {
   "cell_type": "code",
   "execution_count": null,
   "id": "baf6f768",
   "metadata": {},
   "outputs": [],
   "source": []
  },
  {
   "cell_type": "code",
   "execution_count": null,
   "id": "432c4047",
   "metadata": {},
   "outputs": [],
   "source": []
  },
  {
   "cell_type": "code",
   "execution_count": null,
   "id": "5c2ec49c",
   "metadata": {},
   "outputs": [],
   "source": []
  },
  {
   "cell_type": "markdown",
   "id": "f6dc466c",
   "metadata": {},
   "source": [
    "### Notes"
   ]
  },
  {
   "attachments": {},
   "cell_type": "markdown",
   "id": "08df7132",
   "metadata": {},
   "source": [
    "Data->model->prediction\n",
    "\n",
    "Data\n",
    "-x e.g. info about the house\n",
    "-y e.g. house prices\n",
    "\n",
    "\n",
    "Now we pass this to model such that we can predict y using x."
   ]
  },
  {
   "cell_type": "code",
   "execution_count": 15,
   "id": "525a729f",
   "metadata": {},
   "outputs": [],
   "source": [
    "from sklearn.datasets import load_boston #house prices in the 70s in Boston"
   ]
  },
  {
   "cell_type": "code",
   "execution_count": 16,
   "id": "bc991efc",
   "metadata": {},
   "outputs": [],
   "source": [
    "X,y=load_boston(return_X_y=True) #set the variables from the dataset"
   ]
  },
  {
   "cell_type": "markdown",
   "id": "cfa5273e",
   "metadata": {},
   "source": [
    "Now model learns from data.\n",
    "Phase 1. create the model -> python object\n",
    "Phase 2. model learns from the data -> .fit(x,y) "
   ]
  },
  {
   "cell_type": "code",
   "execution_count": 17,
   "id": "fb83ef0c",
   "metadata": {},
   "outputs": [],
   "source": [
    "from sklearn.neighbors import KNeighborsRegressor\n",
    "from sklearn.linear_model import LinearRegression"
   ]
  },
  {
   "cell_type": "code",
   "execution_count": 18,
   "id": "6db6aca6",
   "metadata": {},
   "outputs": [],
   "source": [
    "mod=KNeighborsRegressor()"
   ]
  },
  {
   "cell_type": "code",
   "execution_count": 19,
   "id": "d89c863c",
   "metadata": {},
   "outputs": [],
   "source": [
    "mod.fit(X,y) #before fitting we cannot predict"
   ]
  },
  {
   "cell_type": "code",
   "execution_count": 20,
   "id": "19577fae",
   "metadata": {
    "scrolled": true
   },
   "outputs": [],
   "source": [
    "pred=mod.predict(X)"
   ]
  },
  {
   "cell_type": "code",
   "execution_count": 21,
   "id": "4233b870",
   "metadata": {},
   "outputs": [],
   "source": [
    "mod2=LinearRegression() #different model,same process"
   ]
  },
  {
   "cell_type": "code",
   "execution_count": 22,
   "id": "f8bfa262",
   "metadata": {},
   "outputs": [
    {
     "data": {
      "text/plain": [
       "LinearRegression()"
      ]
     },
     "execution_count": 22,
     "metadata": {},
     "output_type": "execute_result"
    }
   ],
   "source": [
    "mod2.fit(X,y)"
   ]
  },
  {
   "cell_type": "code",
   "execution_count": 23,
   "id": "5c6ebb50",
   "metadata": {
    "scrolled": true
   },
   "outputs": [
    {
     "data": {
      "text/plain": [
       "array([30.00384338, 25.02556238, 30.56759672, 28.60703649, 27.94352423,\n",
       "       25.25628446, 23.00180827, 19.53598843, 11.52363685, 18.92026211,\n",
       "       18.99949651, 21.58679568, 20.90652153, 19.55290281, 19.28348205,\n",
       "       19.29748321, 20.52750979, 16.91140135, 16.17801106, 18.40613603,\n",
       "       12.52385753, 17.67103669, 15.83288129, 13.80628535, 15.67833832,\n",
       "       13.38668561, 15.46397655, 14.70847428, 19.54737285, 20.8764282 ,\n",
       "       11.45511759, 18.05923295,  8.81105736, 14.28275814, 13.70675891,\n",
       "       23.81463526, 22.34193708, 23.10891142, 22.91502612, 31.35762569,\n",
       "       34.21510225, 28.02056414, 25.20386628, 24.60979273, 22.94149176,\n",
       "       22.09669817, 20.42320032, 18.03655088,  9.10655377, 17.20607751,\n",
       "       21.28152535, 23.97222285, 27.6558508 , 24.04901809, 15.3618477 ,\n",
       "       31.15264947, 24.85686978, 33.10919806, 21.77537987, 21.08493555,\n",
       "       17.8725804 , 18.51110208, 23.98742856, 22.55408869, 23.37308644,\n",
       "       30.36148358, 25.53056512, 21.11338564, 17.42153786, 20.78483633,\n",
       "       25.20148859, 21.7426577 , 24.55744957, 24.04295712, 25.50499716,\n",
       "       23.9669302 , 22.94545403, 23.35699818, 21.26198266, 22.42817373,\n",
       "       28.40576968, 26.99486086, 26.03576297, 25.05873482, 24.78456674,\n",
       "       27.79049195, 22.16853423, 25.89276415, 30.67461827, 30.83110623,\n",
       "       27.1190194 , 27.41266734, 28.94122762, 29.08105546, 27.03977365,\n",
       "       28.62459949, 24.72744978, 35.78159518, 35.11454587, 32.25102801,\n",
       "       24.58022019, 25.59413475, 19.79013684, 20.31167129, 21.43482591,\n",
       "       18.53994008, 17.18755992, 20.75049026, 22.64829115, 19.7720367 ,\n",
       "       20.64965864, 26.52586744, 20.77323638, 20.71548315, 25.17208881,\n",
       "       20.43025591, 23.37724626, 23.69043261, 20.33578364, 20.79180873,\n",
       "       21.91632071, 22.47107777, 20.55738556, 16.36661977, 20.56099819,\n",
       "       22.48178446, 14.61706633, 15.17876684, 18.93868592, 14.05573285,\n",
       "       20.03527399, 19.41013402, 20.06191566, 15.75807673, 13.25645238,\n",
       "       17.26277735, 15.87841883, 19.36163954, 13.81483897, 16.44881475,\n",
       "       13.57141932,  3.98885508, 14.59495478, 12.1488148 ,  8.72822362,\n",
       "       12.03585343, 15.82082058,  8.5149902 ,  9.71844139, 14.80451374,\n",
       "       20.83858153, 18.30101169, 20.12282558, 17.28601894, 22.36600228,\n",
       "       20.10375923, 13.62125891, 33.25982697, 29.03017268, 25.56752769,\n",
       "       32.70827666, 36.77467015, 40.55765844, 41.84728168, 24.78867379,\n",
       "       25.37889238, 37.20347455, 23.08748747, 26.40273955, 26.65382114,\n",
       "       22.5551466 , 24.29082812, 22.97657219, 29.07194308, 26.5219434 ,\n",
       "       30.72209056, 25.61669307, 29.13740979, 31.43571968, 32.92231568,\n",
       "       34.72440464, 27.76552111, 33.88787321, 30.99238036, 22.71820008,\n",
       "       24.7664781 , 35.88497226, 33.42476722, 32.41199147, 34.51509949,\n",
       "       30.76109485, 30.28934141, 32.91918714, 32.11260771, 31.55871004,\n",
       "       40.84555721, 36.12770079, 32.6692081 , 34.70469116, 30.09345162,\n",
       "       30.64393906, 29.28719501, 37.07148392, 42.03193124, 43.18949844,\n",
       "       22.69034796, 23.68284712, 17.85447214, 23.49428992, 17.00587718,\n",
       "       22.39251096, 17.06042754, 22.73892921, 25.21942554, 11.11916737,\n",
       "       24.51049148, 26.60334775, 28.35518713, 24.91525464, 29.68652768,\n",
       "       33.18419746, 23.77456656, 32.14051958, 29.7458199 , 38.37102453,\n",
       "       39.81461867, 37.58605755, 32.3995325 , 35.45665242, 31.23411512,\n",
       "       24.48449227, 33.28837292, 38.0481048 , 37.16328631, 31.71383523,\n",
       "       25.26705571, 30.10010745, 32.71987156, 28.42717057, 28.42940678,\n",
       "       27.29375938, 23.74262478, 24.12007891, 27.40208414, 16.3285756 ,\n",
       "       13.39891261, 20.01638775, 19.86184428, 21.2883131 , 24.0798915 ,\n",
       "       24.20633547, 25.04215821, 24.91964007, 29.94563374, 23.97228316,\n",
       "       21.69580887, 37.51109239, 43.30239043, 36.48361421, 34.98988594,\n",
       "       34.81211508, 37.16631331, 40.98928501, 34.44634089, 35.83397547,\n",
       "       28.245743  , 31.22673593, 40.8395575 , 39.31792393, 25.70817905,\n",
       "       22.30295533, 27.20340972, 28.51169472, 35.47676598, 36.10639164,\n",
       "       33.79668274, 35.61085858, 34.83993382, 30.35192656, 35.30980701,\n",
       "       38.79756966, 34.33123186, 40.33963075, 44.67308339, 31.59689086,\n",
       "       27.3565923 , 20.10174154, 27.04206674, 27.2136458 , 26.91395839,\n",
       "       33.43563311, 34.40349633, 31.8333982 , 25.81783237, 24.42982348,\n",
       "       28.45764337, 27.36266999, 19.53928758, 29.11309844, 31.91054611,\n",
       "       30.77159449, 28.94275871, 28.88191022, 32.79887232, 33.20905456,\n",
       "       30.76831792, 35.56226857, 32.70905124, 28.64244237, 23.58965827,\n",
       "       18.54266897, 26.87889843, 23.28133979, 25.54580246, 25.48120057,\n",
       "       20.53909901, 17.61572573, 18.37581686, 24.29070277, 21.32529039,\n",
       "       24.88682244, 24.86937282, 22.86952447, 19.45123791, 25.11783401,\n",
       "       24.66786913, 23.68076177, 19.34089616, 21.17418105, 24.25249073,\n",
       "       21.59260894, 19.98446605, 23.33888   , 22.14060692, 21.55509929,\n",
       "       20.61872907, 20.16097176, 19.28490387, 22.1667232 , 21.24965774,\n",
       "       21.42939305, 30.32788796, 22.04734975, 27.70647912, 28.54794117,\n",
       "       16.54501121, 14.78359641, 25.27380082, 27.54205117, 22.14837562,\n",
       "       20.45944095, 20.54605423, 16.88063827, 25.40253506, 14.32486632,\n",
       "       16.59488462, 19.63704691, 22.71806607, 22.20218887, 19.20548057,\n",
       "       22.66616105, 18.93192618, 18.22846804, 20.23150811, 37.4944739 ,\n",
       "       14.28190734, 15.54286248, 10.83162324, 23.80072902, 32.6440736 ,\n",
       "       34.60684042, 24.94331333, 25.9998091 ,  6.126325  ,  0.77779806,\n",
       "       25.30713064, 17.74061065, 20.23274414, 15.83331301, 16.83512587,\n",
       "       14.36994825, 18.47682833, 13.4276828 , 13.06177512,  3.27918116,\n",
       "        8.06022171,  6.12842196,  5.6186481 ,  6.4519857 , 14.20764735,\n",
       "       17.21225183, 17.29887265,  9.89116643, 20.22124193, 17.94181175,\n",
       "       20.30445783, 19.29559075, 16.33632779,  6.55162319, 10.89016778,\n",
       "       11.88145871, 17.81174507, 18.26126587, 12.97948781,  7.37816361,\n",
       "        8.21115861,  8.06626193, 19.98294786, 13.70756369, 19.85268454,\n",
       "       15.22308298, 16.96071981,  1.71851807, 11.80578387, -4.28131071,\n",
       "        9.58376737, 13.36660811,  6.89562363,  6.14779852, 14.60661794,\n",
       "       19.6000267 , 18.12427476, 18.52177132, 13.1752861 , 14.62617624,\n",
       "        9.92374976, 16.34590647, 14.07519426, 14.25756243, 13.04234787,\n",
       "       18.15955693, 18.69554354, 21.527283  , 17.03141861, 15.96090435,\n",
       "       13.36141611, 14.52079384,  8.81976005,  4.86751102, 13.06591313,\n",
       "       12.70609699, 17.29558059, 18.740485  , 18.05901029, 11.51474683,\n",
       "       11.97400359, 17.68344618, 18.12695239, 17.5183465 , 17.22742507,\n",
       "       16.52271631, 19.41291095, 18.58215236, 22.48944791, 15.28000133,\n",
       "       15.82089335, 12.68725581, 12.8763379 , 17.18668531, 18.51247609,\n",
       "       19.04860533, 20.17208927, 19.7740732 , 22.42940768, 20.31911854,\n",
       "       17.88616253, 14.37478523, 16.94776851, 16.98405762, 18.58838397,\n",
       "       20.16719441, 22.97718032, 22.45580726, 25.57824627, 16.39147632,\n",
       "       16.1114628 , 20.534816  , 11.54272738, 19.20496304, 21.86276391,\n",
       "       23.46878866, 27.09887315, 28.56994302, 21.08398783, 19.45516196,\n",
       "       22.22225914, 19.65591961, 21.32536104, 11.85583717,  8.22386687,\n",
       "        3.66399672, 13.75908538, 15.93118545, 20.62662054, 20.61249414,\n",
       "       16.88541964, 14.01320787, 19.10854144, 21.29805174, 18.45498841,\n",
       "       20.46870847, 23.53334055, 22.37571892, 27.6274261 , 26.12796681,\n",
       "       22.34421229])"
      ]
     },
     "execution_count": 23,
     "metadata": {},
     "output_type": "execute_result"
    }
   ],
   "source": [
    "mod2.predict(X) #output is different as the model is different"
   ]
  },
  {
   "cell_type": "code",
   "execution_count": 24,
   "id": "14540019",
   "metadata": {},
   "outputs": [],
   "source": [
    "#visualize the data from kneighbors\n",
    "import matplotlib.pyplot as plt"
   ]
  },
  {
   "cell_type": "code",
   "execution_count": 26,
   "id": "3847387f",
   "metadata": {},
   "outputs": [],
   "source": [
    "plt.scatter(pred,y)"
   ]
  },
  {
   "cell_type": "markdown",
   "id": "86669093",
   "metadata": {},
   "source": [
    "K nearest neighbors looks for the nearest neighbor i.e. nearest datapoint in order to predict the varaible.\n",
    "We have to think well if the model is the one we want to use, or we need to to some pre-processing."
   ]
  },
  {
   "cell_type": "markdown",
   "id": "658ee657",
   "metadata": {},
   "source": [
    "We have to pre process the x in order for the model to make sense and the model to predict in the correct way.\n",
    "\n",
    "Data -x -scale -knn-predict <br>\n",
    "     -y <br>\n",
    "\n",
    "We can include scaling as a part of the model, and use .fit to it."
   ]
  },
  {
   "cell_type": "code",
   "execution_count": 27,
   "id": "a42e6b46",
   "metadata": {},
   "outputs": [],
   "source": [
    "from sklearn.preprocessing import StandardScaler\n",
    "from sklearn.pipeline import Pipeline"
   ]
  },
  {
   "cell_type": "code",
   "execution_count": 33,
   "id": "f3065c82",
   "metadata": {},
   "outputs": [],
   "source": [
    "mod3=KNeighborsRegressor().fit(X,y)\n",
    "pipe3=Pipeline([\n",
    "    (\"scale\",StandardScaler()),\n",
    "    (\"model\",KNeighborsRegressor())\n",
    "])"
   ]
  },
  {
   "cell_type": "code",
   "execution_count": 34,
   "id": "a5cb846d",
   "metadata": {},
   "outputs": [
    {
     "data": {
      "text/plain": [
       "Pipeline(steps=[('scale', StandardScaler()), ('model', KNeighborsRegressor())])"
      ]
     },
     "execution_count": 34,
     "metadata": {},
     "output_type": "execute_result"
    }
   ],
   "source": [
    "pipe3.fit(X,y)"
   ]
  },
  {
   "cell_type": "code",
   "execution_count": 37,
   "id": "eb914efe",
   "metadata": {},
   "outputs": [],
   "source": [
    "pred3=pipe3.predict(X) #predict using dataset X, we predict using the same data as we fit"
   ]
  },
  {
   "cell_type": "code",
   "execution_count": 38,
   "id": "8f581b67",
   "metadata": {},
   "outputs": [
    {
     "data": {
      "text/plain": [
       "<matplotlib.collections.PathCollection at 0x25b4db3d9a0>"
      ]
     },
     "execution_count": 38,
     "metadata": {},
     "output_type": "execute_result"
    },
    {
     "data": {
      "image/png": "[encoded data removed]",
      "text/plain": [
       "<Figure size 432x288 with 1 Axes>"
      ]
     },
     "metadata": {
      "needs_background": "light"
     },
     "output_type": "display_data"
    }
   ],
   "source": [
    "plt.scatter(pred3,y)"
   ]
  },
  {
   "cell_type": "markdown",
   "id": "15c9d69e",
   "metadata": {},
   "source": [
    "We are taking the original data to evaluate our prediction. Lets take only 1 nearest neighbor."
   ]
  },
  {
   "cell_type": "code",
   "execution_count": 39,
   "id": "95395606",
   "metadata": {},
   "outputs": [],
   "source": [
    "mod4=KNeighborsRegressor().fit(X,y)\n",
    "pipe4=Pipeline([\n",
    "    (\"scale\",StandardScaler()),\n",
    "    (\"model\",KNeighborsRegressor(n_neighbors=1))\n",
    "]) #changed number of neighbors "
   ]
  },
  {
   "cell_type": "code",
   "execution_count": 42,
   "id": "18921cee",
   "metadata": {},
   "outputs": [
    {
     "data": {
      "text/plain": [
       "Pipeline(steps=[('scale', StandardScaler()),\n",
       "                ('model', KNeighborsRegressor(n_neighbors=1))])"
      ]
     },
     "execution_count": 42,
     "metadata": {},
     "output_type": "execute_result"
    }
   ],
   "source": [
    "pipe4.fit(X,y)"
   ]
  },
  {
   "cell_type": "code",
   "execution_count": 43,
   "id": "67a34aaf",
   "metadata": {},
   "outputs": [],
   "source": [
    "pred4=pipe4.predict(X)"
   ]
  },
  {
   "cell_type": "code",
   "execution_count": 44,
   "id": "030e693d",
   "metadata": {},
   "outputs": [
    {
     "data": {
      "text/plain": [
       "<matplotlib.collections.PathCollection at 0x25b4dbae130>"
      ]
     },
     "execution_count": 44,
     "metadata": {},
     "output_type": "execute_result"
    },
    {
     "data": {
      "image/png": "[encoded data removed]",
      "text/plain": [
       "<Figure size 432x288 with 1 Axes>"
      ]
     },
     "metadata": {
      "needs_background": "light"
     },
     "output_type": "display_data"
    }
   ],
   "source": [
    "plt.scatter(pred4,y)"
   ]
  },
  {
   "cell_type": "markdown",
   "id": "7e5361ce",
   "metadata": {},
   "source": [
    "It seems like we are maing a perfect prediction. But that is only because we are predicting on the same dataset we used to fit the data. This raises a question - how many neighbors should we choose in order for our forecast to be the best?"
   ]
  },
  {
   "cell_type": "markdown",
   "id": "54f6ec5c",
   "metadata": {},
   "source": [
    "Lets split the dataset into 3 and train on two, wile test on the third part. We can do this three times."
   ]
  },
  {
   "cell_type": "markdown",
   "id": "4a311144",
   "metadata": {},
   "source": [
    "I will introduce the GridSearchCV. "
   ]
  },
  {
   "cell_type": "code",
   "execution_count": 47,
   "id": "376ac6b4",
   "metadata": {},
   "outputs": [],
   "source": [
    "from sklearn.model_selection import GridSearchCV"
   ]
  },
  {
   "cell_type": "code",
   "execution_count": 49,
   "id": "98aafbc0",
   "metadata": {},
   "outputs": [
    {
     "data": {
      "text/plain": [
       "{'memory': None,\n",
       " 'steps': [('scale', StandardScaler()),\n",
       "  ('model', KNeighborsRegressor(n_neighbors=1))],\n",
       " 'verbose': False,\n",
       " 'scale': StandardScaler(),\n",
       " 'model': KNeighborsRegressor(n_neighbors=1),\n",
       " 'scale__copy': True,\n",
       " 'scale__with_mean': True,\n",
       " 'scale__with_std': True,\n",
       " 'model__algorithm': 'auto',\n",
       " 'model__leaf_size': 30,\n",
       " 'model__metric': 'minkowski',\n",
       " 'model__metric_params': None,\n",
       " 'model__n_jobs': None,\n",
       " 'model__n_neighbors': 1,\n",
       " 'model__p': 2,\n",
       " 'model__weights': 'uniform'}"
      ]
     },
     "execution_count": 49,
     "metadata": {},
     "output_type": "execute_result"
    }
   ],
   "source": [
    "pipe4.get_params() #all the parameters in the model"
   ]
  },
  {
   "cell_type": "code",
   "execution_count": 68,
   "id": "6fd2ca62",
   "metadata": {},
   "outputs": [],
   "source": [
    "mod5=GridSearchCV(estimator=pipe4,param_grid={'model__n_neighbors':[1,2,3,4,5,6,7,8,9,10]},cv=3)\n",
    "# par_grid are all parameters we want to go through/tweek\n",
    "# i want to change the parameter number of neighbors and check the model for all 10 options of numbers of neighbors\n",
    "# i also want to cross validate and set the cv parameter to 3"
   ]
  },
  {
   "cell_type": "code",
   "execution_count": 69,
   "id": "b9e867c0",
   "metadata": {},
   "outputs": [
    {
     "data": {
      "text/plain": [
       "dict_keys(['memory', 'steps', 'verbose', 'scale', 'model', 'scale__copy', 'scale__with_mean', 'scale__with_std', 'model__algorithm', 'model__leaf_size', 'model__metric', 'model__metric_params', 'model__n_jobs', 'model__n_neighbors', 'model__p', 'model__weights'])"
      ]
     },
     "execution_count": 69,
     "metadata": {},
     "output_type": "execute_result"
    }
   ],
   "source": [
    "pipe4.get_params().keys()"
   ]
  },
  {
   "cell_type": "code",
   "execution_count": 71,
   "id": "7bbe1170",
   "metadata": {},
   "outputs": [
    {
     "data": {
      "text/html": [
       "<div>\n",
       "<style scoped>\n",
       "    .dataframe tbody tr th:only-of-type {\n",
       "        vertical-align: middle;\n",
       "    }\n",
       "\n",
       "    .dataframe tbody tr th {\n",
       "        vertical-align: top;\n",
       "    }\n",
       "\n",
       "    .dataframe thead th {\n",
       "        text-align: right;\n",
       "    }\n",
       "</style>\n",
       "<table border=\"1\" class=\"dataframe\">\n",
       "  <thead>\n",
       "    <tr style=\"text-align: right;\">\n",
       "      <th></th>\n",
       "      <th>mean_fit_time</th>\n",
       "      <th>std_fit_time</th>\n",
       "      <th>mean_score_time</th>\n",
       "      <th>std_score_time</th>\n",
       "      <th>param_model__n_neighbors</th>\n",
       "      <th>params</th>\n",
       "      <th>split0_test_score</th>\n",
       "      <th>split1_test_score</th>\n",
       "      <th>split2_test_score</th>\n",
       "      <th>mean_test_score</th>\n",
       "      <th>std_test_score</th>\n",
       "      <th>rank_test_score</th>\n",
       "    </tr>\n",
       "  </thead>\n",
       "  <tbody>\n",
       "    <tr>\n",
       "      <th>0</th>\n",
       "      <td>0.000998</td>\n",
       "      <td>1.573482e-06</td>\n",
       "      <td>0.002001</td>\n",
       "      <td>2.281300e-06</td>\n",
       "      <td>1</td>\n",
       "      <td>{'model__n_neighbors': 1}</td>\n",
       "      <td>0.226933</td>\n",
       "      <td>0.432998</td>\n",
       "      <td>0.127635</td>\n",
       "      <td>0.262522</td>\n",
       "      <td>0.127179</td>\n",
       "      <td>10</td>\n",
       "    </tr>\n",
       "    <tr>\n",
       "      <th>1</th>\n",
       "      <td>0.001001</td>\n",
       "      <td>8.485379e-07</td>\n",
       "      <td>0.001000</td>\n",
       "      <td>7.370010e-07</td>\n",
       "      <td>2</td>\n",
       "      <td>{'model__n_neighbors': 2}</td>\n",
       "      <td>0.358216</td>\n",
       "      <td>0.409229</td>\n",
       "      <td>0.172294</td>\n",
       "      <td>0.313246</td>\n",
       "      <td>0.101821</td>\n",
       "      <td>9</td>\n",
       "    </tr>\n",
       "    <tr>\n",
       "      <th>2</th>\n",
       "      <td>0.001030</td>\n",
       "      <td>8.526964e-04</td>\n",
       "      <td>0.001664</td>\n",
       "      <td>4.825113e-04</td>\n",
       "      <td>3</td>\n",
       "      <td>{'model__n_neighbors': 3}</td>\n",
       "      <td>0.413515</td>\n",
       "      <td>0.476651</td>\n",
       "      <td>0.318534</td>\n",
       "      <td>0.402900</td>\n",
       "      <td>0.064986</td>\n",
       "      <td>1</td>\n",
       "    </tr>\n",
       "    <tr>\n",
       "      <th>3</th>\n",
       "      <td>0.000980</td>\n",
       "      <td>3.705975e-05</td>\n",
       "      <td>0.000993</td>\n",
       "      <td>1.118339e-05</td>\n",
       "      <td>4</td>\n",
       "      <td>{'model__n_neighbors': 4}</td>\n",
       "      <td>0.475349</td>\n",
       "      <td>0.402495</td>\n",
       "      <td>0.273014</td>\n",
       "      <td>0.383619</td>\n",
       "      <td>0.083675</td>\n",
       "      <td>7</td>\n",
       "    </tr>\n",
       "    <tr>\n",
       "      <th>4</th>\n",
       "      <td>0.001348</td>\n",
       "      <td>4.976810e-04</td>\n",
       "      <td>0.001002</td>\n",
       "      <td>6.954670e-06</td>\n",
       "      <td>5</td>\n",
       "      <td>{'model__n_neighbors': 5}</td>\n",
       "      <td>0.512318</td>\n",
       "      <td>0.347951</td>\n",
       "      <td>0.262590</td>\n",
       "      <td>0.374286</td>\n",
       "      <td>0.103638</td>\n",
       "      <td>8</td>\n",
       "    </tr>\n",
       "    <tr>\n",
       "      <th>5</th>\n",
       "      <td>0.001003</td>\n",
       "      <td>6.562168e-06</td>\n",
       "      <td>0.001310</td>\n",
       "      <td>4.355794e-04</td>\n",
       "      <td>6</td>\n",
       "      <td>{'model__n_neighbors': 6}</td>\n",
       "      <td>0.533611</td>\n",
       "      <td>0.389504</td>\n",
       "      <td>0.248482</td>\n",
       "      <td>0.390532</td>\n",
       "      <td>0.116406</td>\n",
       "      <td>6</td>\n",
       "    </tr>\n",
       "    <tr>\n",
       "      <th>6</th>\n",
       "      <td>0.001034</td>\n",
       "      <td>2.316985e-05</td>\n",
       "      <td>0.000987</td>\n",
       "      <td>1.550678e-05</td>\n",
       "      <td>7</td>\n",
       "      <td>{'model__n_neighbors': 7}</td>\n",
       "      <td>0.544782</td>\n",
       "      <td>0.385199</td>\n",
       "      <td>0.243668</td>\n",
       "      <td>0.391216</td>\n",
       "      <td>0.123003</td>\n",
       "      <td>5</td>\n",
       "    </tr>\n",
       "    <tr>\n",
       "      <th>7</th>\n",
       "      <td>0.001010</td>\n",
       "      <td>7.107380e-06</td>\n",
       "      <td>0.000995</td>\n",
       "      <td>1.861803e-05</td>\n",
       "      <td>8</td>\n",
       "      <td>{'model__n_neighbors': 8}</td>\n",
       "      <td>0.589644</td>\n",
       "      <td>0.394650</td>\n",
       "      <td>0.209714</td>\n",
       "      <td>0.398003</td>\n",
       "      <td>0.155124</td>\n",
       "      <td>2</td>\n",
       "    </tr>\n",
       "    <tr>\n",
       "      <th>8</th>\n",
       "      <td>0.001012</td>\n",
       "      <td>6.883469e-06</td>\n",
       "      <td>0.000958</td>\n",
       "      <td>4.991136e-05</td>\n",
       "      <td>9</td>\n",
       "      <td>{'model__n_neighbors': 9}</td>\n",
       "      <td>0.590352</td>\n",
       "      <td>0.407556</td>\n",
       "      <td>0.185253</td>\n",
       "      <td>0.394387</td>\n",
       "      <td>0.165643</td>\n",
       "      <td>3</td>\n",
       "    </tr>\n",
       "    <tr>\n",
       "      <th>9</th>\n",
       "      <td>0.000998</td>\n",
       "      <td>8.485379e-07</td>\n",
       "      <td>0.001007</td>\n",
       "      <td>9.501578e-06</td>\n",
       "      <td>10</td>\n",
       "      <td>{'model__n_neighbors': 10}</td>\n",
       "      <td>0.616510</td>\n",
       "      <td>0.395077</td>\n",
       "      <td>0.164023</td>\n",
       "      <td>0.391870</td>\n",
       "      <td>0.184741</td>\n",
       "      <td>4</td>\n",
       "    </tr>\n",
       "  </tbody>\n",
       "</table>\n",
       "</div>"
      ],
      "text/plain": [
       "   mean_fit_time  std_fit_time  mean_score_time  std_score_time  \\\n",
       "0       0.000998  1.573482e-06         0.002001    2.281300e-06   \n",
       "1       0.001001  8.485379e-07         0.001000    7.370010e-07   \n",
       "2       0.001030  8.526964e-04         0.001664    4.825113e-04   \n",
       "3       0.000980  3.705975e-05         0.000993    1.118339e-05   \n",
       "4       0.001348  4.976810e-04         0.001002    6.954670e-06   \n",
       "5       0.001003  6.562168e-06         0.001310    4.355794e-04   \n",
       "6       0.001034  2.316985e-05         0.000987    1.550678e-05   \n",
       "7       0.001010  7.107380e-06         0.000995    1.861803e-05   \n",
       "8       0.001012  6.883469e-06         0.000958    4.991136e-05   \n",
       "9       0.000998  8.485379e-07         0.001007    9.501578e-06   \n",
       "\n",
       "  param_model__n_neighbors                      params  split0_test_score  \\\n",
       "0                        1   {'model__n_neighbors': 1}           0.226933   \n",
       "1                        2   {'model__n_neighbors': 2}           0.358216   \n",
       "2                        3   {'model__n_neighbors': 3}           0.413515   \n",
       "3                        4   {'model__n_neighbors': 4}           0.475349   \n",
       "4                        5   {'model__n_neighbors': 5}           0.512318   \n",
       "5                        6   {'model__n_neighbors': 6}           0.533611   \n",
       "6                        7   {'model__n_neighbors': 7}           0.544782   \n",
       "7                        8   {'model__n_neighbors': 8}           0.589644   \n",
       "8                        9   {'model__n_neighbors': 9}           0.590352   \n",
       "9                       10  {'model__n_neighbors': 10}           0.616510   \n",
       "\n",
       "   split1_test_score  split2_test_score  mean_test_score  std_test_score  \\\n",
       "0           0.432998           0.127635         0.262522        0.127179   \n",
       "1           0.409229           0.172294         0.313246        0.101821   \n",
       "2           0.476651           0.318534         0.402900        0.064986   \n",
       "3           0.402495           0.273014         0.383619        0.083675   \n",
       "4           0.347951           0.262590         0.374286        0.103638   \n",
       "5           0.389504           0.248482         0.390532        0.116406   \n",
       "6           0.385199           0.243668         0.391216        0.123003   \n",
       "7           0.394650           0.209714         0.398003        0.155124   \n",
       "8           0.407556           0.185253         0.394387        0.165643   \n",
       "9           0.395077           0.164023         0.391870        0.184741   \n",
       "\n",
       "   rank_test_score  \n",
       "0               10  \n",
       "1                9  \n",
       "2                1  \n",
       "3                7  \n",
       "4                8  \n",
       "5                6  \n",
       "6                5  \n",
       "7                2  \n",
       "8                3  \n",
       "9                4  "
      ]
     },
     "execution_count": 71,
     "metadata": {},
     "output_type": "execute_result"
    }
   ],
   "source": [
    "mod5.fit(X,y);\n",
    "pd.DataFrame(mod5.cv_results_) #put this in tha pandas dataframe for a nice overview"
   ]
  },
  {
   "cell_type": "markdown",
   "id": "e5979ca2",
   "metadata": {},
   "source": [
    "Now we can see all the different statistics and decide which model is the best!"
   ]
  },
  {
   "cell_type": "code",
   "execution_count": null,
   "id": "49fe60fc",
   "metadata": {},
   "outputs": [],
   "source": []
  }
 ],
 "metadata": {
  "kernelspec": {
   "display_name": "Python 3",
   "language": "python",
   "name": "python3"
  },
  "language_info": {
   "codemirror_mode": {
    "name": "ipython",
    "version": 3
   },
   "file_extension": ".py",
   "mimetype": "text/x-python",
   "name": "python",
   "nbconvert_exporter": "python",
   "pygments_lexer": "ipython3",
   "version": "3.8.8"
  }
 },
 "nbformat": 4,
 "nbformat_minor": 5
}
