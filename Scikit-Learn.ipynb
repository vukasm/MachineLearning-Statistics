{
 "cells": [
  {
   "cell_type": "markdown",
   "id": "0a3f574a",
   "metadata": {},
   "source": [
    "# My favorite Scikit-Learn algorithms\n",
    "\n",
    "This notebook contains a demonstrations and visualisations of my three favorite algorithms available through scikit-learn Python library [1]. "
   ]
  },
  {
   "cell_type": "markdown",
   "id": "0c92ee84",
   "metadata": {},
   "source": [
    "***"
   ]
  },
  {
   "cell_type": "markdown",
   "id": "71d17a24",
   "metadata": {},
   "source": [
    "## 1. Choosing Scikit-Learn: The Benefits"
   ]
  },
  {
   "cell_type": "markdown",
   "id": "d8d387e7",
   "metadata": {},
   "source": [
    "`Scikit-learn` is one of the most useful open-source libraries available for Python, widely used for Machine Learning purposes. It contains large collection of very efficient statistical and machile learning tools, e.g. regression, classification, dimensionary reduction and clustering.\n",
    "It has been developed by David Cournapeau initially and it developed in the communicity-driven project where anyone can contribute towards its development. It is built upon `NumPy` [4], `SciPy` [5] and `Matplotlib` [6].\n"
   ]
  },
  {
   "cell_type": "markdown",
   "id": "74973161",
   "metadata": {},
   "source": [
    "As mentioned, scikit-learn comes with plenty of interesting features. Some of which are:\n",
    "* **Supervised learning argorithms**, e.g. Linear regression, Decision Trees, Bayesian methods\n",
    "* **Unsupervised learning algorithms** e.g. custer analysis, factoring, unsupervised neural networks\n",
    "* **Feature extraction**, meaning you can extract features from pictures or text\n",
    "* **Cross validation**, meaning that validity of supervised models on unseen data can be validated and checked for accuracy\n",
    "* **Dimensionality reduction**, meaning a number of attributes in data can be reduced for subsequent visualization, summarization or feature selection\n",
    "* **Clustering** i.e. grouping of unlabeled data\n",
    "* **Ensemble methods**, meaning predictions of several supervised models combines"
   ]
  },
  {
   "cell_type": "markdown",
   "id": "783bdd3a",
   "metadata": {},
   "source": [
    "Scikit-learn is a great choice of library for machine learning and there are many benefits to it:\n",
    "* It is free with minimum licencing restrictions\n",
    "* It is user friendly and easy to use\n",
    "* It is versatile and useful for different real-life situations\n",
    "* Provides clear and useful documentations for both end users or users who want to implement the algorithms to their own platforms"
   ]
  },
  {
   "cell_type": "markdown",
   "id": "8cca26ff",
   "metadata": {},
   "source": [
    "***"
   ]
  },
  {
   "cell_type": "markdown",
   "id": "ea559d8d",
   "metadata": {},
   "source": [
    "## 2. Installing Scikit-Learn"
   ]
  },
  {
   "cell_type": "markdown",
   "id": "f488dd61",
   "metadata": {},
   "source": [
    "There are some prerequisites, so make sure you have the following installed:\n",
    "* Python (>=3.5)\n",
    "* NumPy (>=1.11.0)\n",
    "* SciPy (>=0.17.0)\n",
    "* Joblib (>=0.11)\n",
    "* Matplotlib (>=1.5.1)\n",
    "* Pandas (>=0.18.0)"
   ]
  },
  {
   "cell_type": "markdown",
   "id": "e5a062a9",
   "metadata": {},
   "source": [
    "All instructions with regards to installation can be found in the main documentation of `scikit-learn` library [2]. For more information refer to [this link](http://scikit-learn.org/stable/install.html). Anaconda [3] comes with `scikit-learn` by default, but, if needed it can be installed manually by typing `conda install scikit-learn` in a terminal."
   ]
  },
  {
   "cell_type": "markdown",
   "id": "08b7b42d",
   "metadata": {},
   "source": [
    "***"
   ]
  },
  {
   "cell_type": "markdown",
   "id": "2934fef6",
   "metadata": {},
   "source": [
    "## 3. Playing with Algorithms"
   ]
  },
  {
   "cell_type": "markdown",
   "id": "e24fcad8",
   "metadata": {},
   "source": [
    "### Predictions\n",
    "\n",
    "One of my favorite algorithams available in `scikit-learn` is **prediction**. If the prediction task is to classify the observations in a set of finite labels, in other words to “name” the objects observed, the task is said to be a classification task. On the other hand, if the goal is to predict a continuous target variable, it is said to be a regression task."
   ]
  },
  {
   "cell_type": "code",
   "execution_count": 1,
   "id": "9a4bbf2b",
   "metadata": {},
   "outputs": [],
   "source": [
    "#Importing relevant modules.\n",
    "import numpy as np\n",
    "import pandas as pd\n",
    "import matplotlib.pylab as ply\n",
    "import matplotlib.pyplot as plt\n",
    "\n",
    "plt.style.use('ggplot')"
   ]
  },
  {
   "cell_type": "markdown",
   "id": "ace60925",
   "metadata": {},
   "source": [
    "I want to use red wine quality dataset, which lists a bunch of different wine traits, e.g. density, pH, sulphates, alcohol and its quality, ranging from 3 to 8. I want to see whether I can predict the wine quality (y) with those traits (x).<br>\n",
    "First, I have to check my data. Then, I will create a model using a part of the data and in the end make a prediction on the rest of the data and see how the model performed. <br>\n",
    "Let's check the data first."
   ]
  },
  {
   "cell_type": "code",
   "execution_count": 90,
   "id": "9671b9f8",
   "metadata": {},
   "outputs": [],
   "source": [
    "# Load dataset from csv.\n",
    "df=pd.read_csv(r'C:\\Users\\mvukas\\repo\\winequality-red.csv',delimiter=';')"
   ]
  },
  {
   "cell_type": "code",
   "execution_count": 91,
   "id": "161107fe",
   "metadata": {},
   "outputs": [
    {
     "data": {
      "text/html": [
       "<div>\n",
       "<style scoped>\n",
       "    .dataframe tbody tr th:only-of-type {\n",
       "        vertical-align: middle;\n",
       "    }\n",
       "\n",
       "    .dataframe tbody tr th {\n",
       "        vertical-align: top;\n",
       "    }\n",
       "\n",
       "    .dataframe thead th {\n",
       "        text-align: right;\n",
       "    }\n",
       "</style>\n",
       "<table border=\"1\" class=\"dataframe\">\n",
       "  <thead>\n",
       "    <tr style=\"text-align: right;\">\n",
       "      <th></th>\n",
       "      <th>fixed acidity</th>\n",
       "      <th>volatile acidity</th>\n",
       "      <th>citric acid</th>\n",
       "      <th>residual sugar</th>\n",
       "      <th>chlorides</th>\n",
       "      <th>free sulfur dioxide</th>\n",
       "      <th>total sulfur dioxide</th>\n",
       "      <th>density</th>\n",
       "      <th>pH</th>\n",
       "      <th>sulphates</th>\n",
       "      <th>alcohol</th>\n",
       "      <th>quality</th>\n",
       "    </tr>\n",
       "  </thead>\n",
       "  <tbody>\n",
       "    <tr>\n",
       "      <th>0</th>\n",
       "      <td>7.4</td>\n",
       "      <td>0.70</td>\n",
       "      <td>0.00</td>\n",
       "      <td>1.9</td>\n",
       "      <td>0.076</td>\n",
       "      <td>11.0</td>\n",
       "      <td>34.0</td>\n",
       "      <td>0.9978</td>\n",
       "      <td>3.51</td>\n",
       "      <td>0.56</td>\n",
       "      <td>9.4</td>\n",
       "      <td>5</td>\n",
       "    </tr>\n",
       "    <tr>\n",
       "      <th>1</th>\n",
       "      <td>7.8</td>\n",
       "      <td>0.88</td>\n",
       "      <td>0.00</td>\n",
       "      <td>2.6</td>\n",
       "      <td>0.098</td>\n",
       "      <td>25.0</td>\n",
       "      <td>67.0</td>\n",
       "      <td>0.9968</td>\n",
       "      <td>3.20</td>\n",
       "      <td>0.68</td>\n",
       "      <td>9.8</td>\n",
       "      <td>5</td>\n",
       "    </tr>\n",
       "    <tr>\n",
       "      <th>2</th>\n",
       "      <td>7.8</td>\n",
       "      <td>0.76</td>\n",
       "      <td>0.04</td>\n",
       "      <td>2.3</td>\n",
       "      <td>0.092</td>\n",
       "      <td>15.0</td>\n",
       "      <td>54.0</td>\n",
       "      <td>0.9970</td>\n",
       "      <td>3.26</td>\n",
       "      <td>0.65</td>\n",
       "      <td>9.8</td>\n",
       "      <td>5</td>\n",
       "    </tr>\n",
       "    <tr>\n",
       "      <th>3</th>\n",
       "      <td>11.2</td>\n",
       "      <td>0.28</td>\n",
       "      <td>0.56</td>\n",
       "      <td>1.9</td>\n",
       "      <td>0.075</td>\n",
       "      <td>17.0</td>\n",
       "      <td>60.0</td>\n",
       "      <td>0.9980</td>\n",
       "      <td>3.16</td>\n",
       "      <td>0.58</td>\n",
       "      <td>9.8</td>\n",
       "      <td>6</td>\n",
       "    </tr>\n",
       "    <tr>\n",
       "      <th>4</th>\n",
       "      <td>7.4</td>\n",
       "      <td>0.70</td>\n",
       "      <td>0.00</td>\n",
       "      <td>1.9</td>\n",
       "      <td>0.076</td>\n",
       "      <td>11.0</td>\n",
       "      <td>34.0</td>\n",
       "      <td>0.9978</td>\n",
       "      <td>3.51</td>\n",
       "      <td>0.56</td>\n",
       "      <td>9.4</td>\n",
       "      <td>5</td>\n",
       "    </tr>\n",
       "  </tbody>\n",
       "</table>\n",
       "</div>"
      ],
      "text/plain": [
       "   fixed acidity  volatile acidity  citric acid  residual sugar  chlorides  \\\n",
       "0            7.4              0.70         0.00             1.9      0.076   \n",
       "1            7.8              0.88         0.00             2.6      0.098   \n",
       "2            7.8              0.76         0.04             2.3      0.092   \n",
       "3           11.2              0.28         0.56             1.9      0.075   \n",
       "4            7.4              0.70         0.00             1.9      0.076   \n",
       "\n",
       "   free sulfur dioxide  total sulfur dioxide  density    pH  sulphates  \\\n",
       "0                 11.0                  34.0   0.9978  3.51       0.56   \n",
       "1                 25.0                  67.0   0.9968  3.20       0.68   \n",
       "2                 15.0                  54.0   0.9970  3.26       0.65   \n",
       "3                 17.0                  60.0   0.9980  3.16       0.58   \n",
       "4                 11.0                  34.0   0.9978  3.51       0.56   \n",
       "\n",
       "   alcohol  quality  \n",
       "0      9.4        5  \n",
       "1      9.8        5  \n",
       "2      9.8        5  \n",
       "3      9.8        6  \n",
       "4      9.4        5  "
      ]
     },
     "execution_count": 91,
     "metadata": {},
     "output_type": "execute_result"
    }
   ],
   "source": [
    "# First five rows.\n",
    "df.head(5)"
   ]
  },
  {
   "cell_type": "code",
   "execution_count": 92,
   "id": "8fceb34b",
   "metadata": {},
   "outputs": [
    {
     "data": {
      "text/html": [
       "<div>\n",
       "<style scoped>\n",
       "    .dataframe tbody tr th:only-of-type {\n",
       "        vertical-align: middle;\n",
       "    }\n",
       "\n",
       "    .dataframe tbody tr th {\n",
       "        vertical-align: top;\n",
       "    }\n",
       "\n",
       "    .dataframe thead th {\n",
       "        text-align: right;\n",
       "    }\n",
       "</style>\n",
       "<table border=\"1\" class=\"dataframe\">\n",
       "  <thead>\n",
       "    <tr style=\"text-align: right;\">\n",
       "      <th></th>\n",
       "      <th>fixed acidity</th>\n",
       "      <th>volatile acidity</th>\n",
       "      <th>citric acid</th>\n",
       "      <th>residual sugar</th>\n",
       "      <th>chlorides</th>\n",
       "      <th>free sulfur dioxide</th>\n",
       "      <th>total sulfur dioxide</th>\n",
       "      <th>density</th>\n",
       "      <th>pH</th>\n",
       "      <th>sulphates</th>\n",
       "      <th>alcohol</th>\n",
       "      <th>quality</th>\n",
       "    </tr>\n",
       "  </thead>\n",
       "  <tbody>\n",
       "    <tr>\n",
       "      <th>count</th>\n",
       "      <td>1599.000000</td>\n",
       "      <td>1599.000000</td>\n",
       "      <td>1599.000000</td>\n",
       "      <td>1599.000000</td>\n",
       "      <td>1599.000000</td>\n",
       "      <td>1599.000000</td>\n",
       "      <td>1599.000000</td>\n",
       "      <td>1599.000000</td>\n",
       "      <td>1599.000000</td>\n",
       "      <td>1599.000000</td>\n",
       "      <td>1599.000000</td>\n",
       "      <td>1599.000000</td>\n",
       "    </tr>\n",
       "    <tr>\n",
       "      <th>mean</th>\n",
       "      <td>8.319637</td>\n",
       "      <td>0.527821</td>\n",
       "      <td>0.270976</td>\n",
       "      <td>2.538806</td>\n",
       "      <td>0.087467</td>\n",
       "      <td>15.874922</td>\n",
       "      <td>46.467792</td>\n",
       "      <td>0.996747</td>\n",
       "      <td>3.311113</td>\n",
       "      <td>0.658149</td>\n",
       "      <td>10.422983</td>\n",
       "      <td>5.636023</td>\n",
       "    </tr>\n",
       "    <tr>\n",
       "      <th>std</th>\n",
       "      <td>1.741096</td>\n",
       "      <td>0.179060</td>\n",
       "      <td>0.194801</td>\n",
       "      <td>1.409928</td>\n",
       "      <td>0.047065</td>\n",
       "      <td>10.460157</td>\n",
       "      <td>32.895324</td>\n",
       "      <td>0.001887</td>\n",
       "      <td>0.154386</td>\n",
       "      <td>0.169507</td>\n",
       "      <td>1.065668</td>\n",
       "      <td>0.807569</td>\n",
       "    </tr>\n",
       "    <tr>\n",
       "      <th>min</th>\n",
       "      <td>4.600000</td>\n",
       "      <td>0.120000</td>\n",
       "      <td>0.000000</td>\n",
       "      <td>0.900000</td>\n",
       "      <td>0.012000</td>\n",
       "      <td>1.000000</td>\n",
       "      <td>6.000000</td>\n",
       "      <td>0.990070</td>\n",
       "      <td>2.740000</td>\n",
       "      <td>0.330000</td>\n",
       "      <td>8.400000</td>\n",
       "      <td>3.000000</td>\n",
       "    </tr>\n",
       "    <tr>\n",
       "      <th>25%</th>\n",
       "      <td>7.100000</td>\n",
       "      <td>0.390000</td>\n",
       "      <td>0.090000</td>\n",
       "      <td>1.900000</td>\n",
       "      <td>0.070000</td>\n",
       "      <td>7.000000</td>\n",
       "      <td>22.000000</td>\n",
       "      <td>0.995600</td>\n",
       "      <td>3.210000</td>\n",
       "      <td>0.550000</td>\n",
       "      <td>9.500000</td>\n",
       "      <td>5.000000</td>\n",
       "    </tr>\n",
       "    <tr>\n",
       "      <th>50%</th>\n",
       "      <td>7.900000</td>\n",
       "      <td>0.520000</td>\n",
       "      <td>0.260000</td>\n",
       "      <td>2.200000</td>\n",
       "      <td>0.079000</td>\n",
       "      <td>14.000000</td>\n",
       "      <td>38.000000</td>\n",
       "      <td>0.996750</td>\n",
       "      <td>3.310000</td>\n",
       "      <td>0.620000</td>\n",
       "      <td>10.200000</td>\n",
       "      <td>6.000000</td>\n",
       "    </tr>\n",
       "    <tr>\n",
       "      <th>75%</th>\n",
       "      <td>9.200000</td>\n",
       "      <td>0.640000</td>\n",
       "      <td>0.420000</td>\n",
       "      <td>2.600000</td>\n",
       "      <td>0.090000</td>\n",
       "      <td>21.000000</td>\n",
       "      <td>62.000000</td>\n",
       "      <td>0.997835</td>\n",
       "      <td>3.400000</td>\n",
       "      <td>0.730000</td>\n",
       "      <td>11.100000</td>\n",
       "      <td>6.000000</td>\n",
       "    </tr>\n",
       "    <tr>\n",
       "      <th>max</th>\n",
       "      <td>15.900000</td>\n",
       "      <td>1.580000</td>\n",
       "      <td>1.000000</td>\n",
       "      <td>15.500000</td>\n",
       "      <td>0.611000</td>\n",
       "      <td>72.000000</td>\n",
       "      <td>289.000000</td>\n",
       "      <td>1.003690</td>\n",
       "      <td>4.010000</td>\n",
       "      <td>2.000000</td>\n",
       "      <td>14.900000</td>\n",
       "      <td>8.000000</td>\n",
       "    </tr>\n",
       "  </tbody>\n",
       "</table>\n",
       "</div>"
      ],
      "text/plain": [
       "       fixed acidity  volatile acidity  citric acid  residual sugar  \\\n",
       "count    1599.000000       1599.000000  1599.000000     1599.000000   \n",
       "mean        8.319637          0.527821     0.270976        2.538806   \n",
       "std         1.741096          0.179060     0.194801        1.409928   \n",
       "min         4.600000          0.120000     0.000000        0.900000   \n",
       "25%         7.100000          0.390000     0.090000        1.900000   \n",
       "50%         7.900000          0.520000     0.260000        2.200000   \n",
       "75%         9.200000          0.640000     0.420000        2.600000   \n",
       "max        15.900000          1.580000     1.000000       15.500000   \n",
       "\n",
       "         chlorides  free sulfur dioxide  total sulfur dioxide      density  \\\n",
       "count  1599.000000          1599.000000           1599.000000  1599.000000   \n",
       "mean      0.087467            15.874922             46.467792     0.996747   \n",
       "std       0.047065            10.460157             32.895324     0.001887   \n",
       "min       0.012000             1.000000              6.000000     0.990070   \n",
       "25%       0.070000             7.000000             22.000000     0.995600   \n",
       "50%       0.079000            14.000000             38.000000     0.996750   \n",
       "75%       0.090000            21.000000             62.000000     0.997835   \n",
       "max       0.611000            72.000000            289.000000     1.003690   \n",
       "\n",
       "                pH    sulphates      alcohol      quality  \n",
       "count  1599.000000  1599.000000  1599.000000  1599.000000  \n",
       "mean      3.311113     0.658149    10.422983     5.636023  \n",
       "std       0.154386     0.169507     1.065668     0.807569  \n",
       "min       2.740000     0.330000     8.400000     3.000000  \n",
       "25%       3.210000     0.550000     9.500000     5.000000  \n",
       "50%       3.310000     0.620000    10.200000     6.000000  \n",
       "75%       3.400000     0.730000    11.100000     6.000000  \n",
       "max       4.010000     2.000000    14.900000     8.000000  "
      ]
     },
     "execution_count": 92,
     "metadata": {},
     "output_type": "execute_result"
    }
   ],
   "source": [
    "#Descriptive statistics.\n",
    "df.describe()"
   ]
  },
  {
   "cell_type": "code",
   "execution_count": 93,
   "id": "7136b358",
   "metadata": {},
   "outputs": [],
   "source": [
    "# I will delete the columns I will not use. For the clarity I will use four variables to predict the quality of wine.\n",
    "df.drop(df.iloc[:, 0:7], inplace = True, axis = 1)"
   ]
  },
  {
   "cell_type": "code",
   "execution_count": 94,
   "id": "6bcd6350",
   "metadata": {},
   "outputs": [
    {
     "data": {
      "text/html": [
       "<div>\n",
       "<style scoped>\n",
       "    .dataframe tbody tr th:only-of-type {\n",
       "        vertical-align: middle;\n",
       "    }\n",
       "\n",
       "    .dataframe tbody tr th {\n",
       "        vertical-align: top;\n",
       "    }\n",
       "\n",
       "    .dataframe thead th {\n",
       "        text-align: right;\n",
       "    }\n",
       "</style>\n",
       "<table border=\"1\" class=\"dataframe\">\n",
       "  <thead>\n",
       "    <tr style=\"text-align: right;\">\n",
       "      <th></th>\n",
       "      <th>density</th>\n",
       "      <th>pH</th>\n",
       "      <th>sulphates</th>\n",
       "      <th>alcohol</th>\n",
       "      <th>quality</th>\n",
       "    </tr>\n",
       "  </thead>\n",
       "  <tbody>\n",
       "    <tr>\n",
       "      <th>count</th>\n",
       "      <td>1599.000000</td>\n",
       "      <td>1599.000000</td>\n",
       "      <td>1599.000000</td>\n",
       "      <td>1599.000000</td>\n",
       "      <td>1599.000000</td>\n",
       "    </tr>\n",
       "    <tr>\n",
       "      <th>mean</th>\n",
       "      <td>0.996747</td>\n",
       "      <td>3.311113</td>\n",
       "      <td>0.658149</td>\n",
       "      <td>10.422983</td>\n",
       "      <td>5.636023</td>\n",
       "    </tr>\n",
       "    <tr>\n",
       "      <th>std</th>\n",
       "      <td>0.001887</td>\n",
       "      <td>0.154386</td>\n",
       "      <td>0.169507</td>\n",
       "      <td>1.065668</td>\n",
       "      <td>0.807569</td>\n",
       "    </tr>\n",
       "    <tr>\n",
       "      <th>min</th>\n",
       "      <td>0.990070</td>\n",
       "      <td>2.740000</td>\n",
       "      <td>0.330000</td>\n",
       "      <td>8.400000</td>\n",
       "      <td>3.000000</td>\n",
       "    </tr>\n",
       "    <tr>\n",
       "      <th>25%</th>\n",
       "      <td>0.995600</td>\n",
       "      <td>3.210000</td>\n",
       "      <td>0.550000</td>\n",
       "      <td>9.500000</td>\n",
       "      <td>5.000000</td>\n",
       "    </tr>\n",
       "    <tr>\n",
       "      <th>50%</th>\n",
       "      <td>0.996750</td>\n",
       "      <td>3.310000</td>\n",
       "      <td>0.620000</td>\n",
       "      <td>10.200000</td>\n",
       "      <td>6.000000</td>\n",
       "    </tr>\n",
       "    <tr>\n",
       "      <th>75%</th>\n",
       "      <td>0.997835</td>\n",
       "      <td>3.400000</td>\n",
       "      <td>0.730000</td>\n",
       "      <td>11.100000</td>\n",
       "      <td>6.000000</td>\n",
       "    </tr>\n",
       "    <tr>\n",
       "      <th>max</th>\n",
       "      <td>1.003690</td>\n",
       "      <td>4.010000</td>\n",
       "      <td>2.000000</td>\n",
       "      <td>14.900000</td>\n",
       "      <td>8.000000</td>\n",
       "    </tr>\n",
       "  </tbody>\n",
       "</table>\n",
       "</div>"
      ],
      "text/plain": [
       "           density           pH    sulphates      alcohol      quality\n",
       "count  1599.000000  1599.000000  1599.000000  1599.000000  1599.000000\n",
       "mean      0.996747     3.311113     0.658149    10.422983     5.636023\n",
       "std       0.001887     0.154386     0.169507     1.065668     0.807569\n",
       "min       0.990070     2.740000     0.330000     8.400000     3.000000\n",
       "25%       0.995600     3.210000     0.550000     9.500000     5.000000\n",
       "50%       0.996750     3.310000     0.620000    10.200000     6.000000\n",
       "75%       0.997835     3.400000     0.730000    11.100000     6.000000\n",
       "max       1.003690     4.010000     2.000000    14.900000     8.000000"
      ]
     },
     "execution_count": 94,
     "metadata": {},
     "output_type": "execute_result"
    }
   ],
   "source": [
    "df.describe()"
   ]
  },
  {
   "cell_type": "code",
   "execution_count": 95,
   "id": "9ef042d4",
   "metadata": {},
   "outputs": [],
   "source": [
    "# k nearest neighbors model.\n",
    "mod=KNeighborsRegressor()\n",
    "mod2=LinearRegression() #different model,same process"
   ]
  },
  {
   "cell_type": "markdown",
   "id": "c190c04c",
   "metadata": {},
   "source": [
    "The next step is to split our dataset into its attributes and labels. X is going to be all the wine traits and y the wine quality."
   ]
  },
  {
   "cell_type": "code",
   "execution_count": 96,
   "id": "084a7f6c",
   "metadata": {},
   "outputs": [],
   "source": [
    "X = df.iloc[:, 0:4].values\n",
    "y = df.iloc[:, 4].values"
   ]
  },
  {
   "cell_type": "markdown",
   "id": "497e2f13",
   "metadata": {},
   "source": [
    "Now model can learn from data, with `.fit` option. We cannot predict before fitting the model."
   ]
  },
  {
   "cell_type": "code",
   "execution_count": 99,
   "id": "797bc619",
   "metadata": {},
   "outputs": [
    {
     "data": {
      "text/plain": [
       "LinearRegression()"
      ]
     },
     "execution_count": 99,
     "metadata": {},
     "output_type": "execute_result"
    }
   ],
   "source": [
    "#Fit the data to model.\n",
    "mod.fit(X,y)\n",
    "mod2.fit(X,y)"
   ]
  },
  {
   "cell_type": "code",
   "execution_count": 100,
   "id": "594a4c33",
   "metadata": {
    "scrolled": true
   },
   "outputs": [],
   "source": [
    "# Predict.\n",
    "pred=mod.predict(X)\n",
    "pred2=mod2.predict(X)"
   ]
  },
  {
   "cell_type": "code",
   "execution_count": 101,
   "id": "4ef2b152",
   "metadata": {},
   "outputs": [
    {
     "name": "stdout",
     "output_type": "stream",
     "text": [
      "[5.2 5.4 5.2 ... 5.4 5.6 5.8]\n",
      "[5.04732565 5.49869041 5.43367943 ... 5.85908569 5.43657279 5.80039133]\n"
     ]
    }
   ],
   "source": [
    "print(pred)\n",
    "print(pred2)"
   ]
  },
  {
   "cell_type": "code",
   "execution_count": 102,
   "id": "93fe0261",
   "metadata": {},
   "outputs": [
    {
     "data": {
      "text/plain": [
       "<matplotlib.collections.PathCollection at 0x21218937a90>"
      ]
     },
     "execution_count": 102,
     "metadata": {},
     "output_type": "execute_result"
    },
    {
     "data": {
      "image/png": "[encoded data removed]",
      "text/plain": [
       "<Figure size 432x288 with 1 Axes>"
      ]
     },
     "metadata": {},
     "output_type": "display_data"
    }
   ],
   "source": [
    "# Viusalize KNN predictions.\n",
    "plt.scatter(pred,y)"
   ]
  },
  {
   "cell_type": "code",
   "execution_count": 103,
   "id": "364150d3",
   "metadata": {},
   "outputs": [
    {
     "data": {
      "text/plain": [
       "<matplotlib.collections.PathCollection at 0x21218f9f280>"
      ]
     },
     "execution_count": 103,
     "metadata": {},
     "output_type": "execute_result"
    },
    {
     "data": {
      "image/png": "[encoded data removed]",
      "text/plain": [
       "<Figure size 432x288 with 1 Axes>"
      ]
     },
     "metadata": {},
     "output_type": "display_data"
    }
   ],
   "source": [
    "# Viusalize Linear model predictions.\n",
    "plt.scatter(pred2,y)"
   ]
  },
  {
   "cell_type": "markdown",
   "id": "db96d169",
   "metadata": {},
   "source": [
    "Two outcomes look quite different.<br>\n",
    "We have to think about whether the model is the one we want to use, or we need to to some pre-processing.<br>\n",
    "I think we have to pre-process X in order for the models to make sense and result in the more accurrate predictions.<br><br>\n",
    "\n",
    "This brings me to another of the great algorithms of the `sklearn` module: **Pre-processing**. Before model fitting I want to scale my data. `sklearn` allows me to include scaling as a part of the model and proceed with `.fit` as we did already.\n"
   ]
  },
  {
   "cell_type": "code",
   "execution_count": 104,
   "id": "ea837a14",
   "metadata": {},
   "outputs": [],
   "source": [
    "#Import pre-processing modules\n",
    "from sklearn.preprocessing import StandardScaler\n",
    "#Pipeline functionality makes it easier to repeat commonly occuring steps in your modeling process.\n",
    "from sklearn.pipeline import Pipeline"
   ]
  },
  {
   "cell_type": "code",
   "execution_count": 105,
   "id": "fe11fe25",
   "metadata": {},
   "outputs": [],
   "source": [
    "# Model 3 will be KNN using scaled data\n",
    "mod3=KNeighborsRegressor().fit(X,y)\n",
    "#Create a pipeline.\n",
    "pipe3=Pipeline([\n",
    "    (\"scale\",StandardScaler()),      #Standard scaler.\n",
    "    (\"model\",KNeighborsRegressor())  # Model 3\n",
    "])"
   ]
  },
  {
   "cell_type": "code",
   "execution_count": 106,
   "id": "12cd6b04",
   "metadata": {},
   "outputs": [
    {
     "data": {
      "text/plain": [
       "Pipeline(steps=[('scale', StandardScaler()), ('model', KNeighborsRegressor())])"
      ]
     },
     "execution_count": 106,
     "metadata": {},
     "output_type": "execute_result"
    }
   ],
   "source": [
    "# Fit.\n",
    "pipe3.fit(X,y)"
   ]
  },
  {
   "cell_type": "code",
   "execution_count": 107,
   "id": "8e7d379b",
   "metadata": {},
   "outputs": [],
   "source": [
    "#Predict.\n",
    "pred3=pipe3.predict(X) "
   ]
  },
  {
   "cell_type": "code",
   "execution_count": 108,
   "id": "6c0110e6",
   "metadata": {},
   "outputs": [
    {
     "data": {
      "text/plain": [
       "<matplotlib.collections.PathCollection at 0x21219016550>"
      ]
     },
     "execution_count": 108,
     "metadata": {},
     "output_type": "execute_result"
    },
    {
     "data": {
      "image/png": "[encoded data removed]",
      "text/plain": [
       "<Figure size 432x288 with 1 Axes>"
      ]
     },
     "metadata": {},
     "output_type": "display_data"
    }
   ],
   "source": [
    "plt.scatter(pred3,y)"
   ]
  },
  {
   "cell_type": "markdown",
   "id": "43724bba",
   "metadata": {},
   "source": [
    "I will take the original data to evaluate this prediction. Lets take only 1 nearest neighbor."
   ]
  },
  {
   "cell_type": "code",
   "execution_count": 109,
   "id": "992b925c",
   "metadata": {},
   "outputs": [],
   "source": [
    "# Model 4\n",
    "mod4=KNeighborsRegressor().fit(X,y)\n",
    "pipe4=Pipeline([\n",
    "    (\"scale\",StandardScaler()),\n",
    "    (\"model\",KNeighborsRegressor(n_neighbors=1)) #changed number of neighbors \n",
    "]) "
   ]
  },
  {
   "cell_type": "code",
   "execution_count": 110,
   "id": "4719b630",
   "metadata": {},
   "outputs": [
    {
     "data": {
      "text/plain": [
       "Pipeline(steps=[('scale', StandardScaler()),\n",
       "                ('model', KNeighborsRegressor(n_neighbors=1))])"
      ]
     },
     "execution_count": 110,
     "metadata": {},
     "output_type": "execute_result"
    }
   ],
   "source": [
    "#Fit.\n",
    "pipe4.fit(X,y)"
   ]
  },
  {
   "cell_type": "code",
   "execution_count": 111,
   "id": "dc40e6f6",
   "metadata": {},
   "outputs": [],
   "source": [
    "#Predict.\n",
    "pred4=pipe4.predict(X)"
   ]
  },
  {
   "cell_type": "code",
   "execution_count": 112,
   "id": "e9ae9e74",
   "metadata": {},
   "outputs": [
    {
     "data": {
      "text/plain": [
       "<matplotlib.collections.PathCollection at 0x212190763d0>"
      ]
     },
     "execution_count": 112,
     "metadata": {},
     "output_type": "execute_result"
    },
    {
     "data": {
      "image/png": "[encoded data removed]",
      "text/plain": [
       "<Figure size 432x288 with 1 Axes>"
      ]
     },
     "metadata": {},
     "output_type": "display_data"
    }
   ],
   "source": [
    "#Visualize.\n",
    "plt.scatter(pred4,y)"
   ]
  },
  {
   "cell_type": "markdown",
   "id": "23a0e6c3",
   "metadata": {},
   "source": [
    "It seems like the model is making a almost perfect prediction. But that is only because we are predicting on the same dataset we used to fit the data!! This raises a question - how many neighbors should we choose in order for our forecast to be the best?"
   ]
  },
  {
   "cell_type": "markdown",
   "id": "433ecba9",
   "metadata": {},
   "source": [
    "Lets split the dataset into 3 and **train the model on two**, wile **test on the third part**. I can do this three times."
   ]
  },
  {
   "cell_type": "markdown",
   "id": "7c28a101",
   "metadata": {},
   "source": [
    "Here I can introduce the `GridSearchCV`. It helps to loop through predefined hyperparameters and fit our model on the training set. This way I can check for all 10 options of KNN and cross-validate three times, and decide which model will be the best one to use.[8]"
   ]
  },
  {
   "cell_type": "code",
   "execution_count": 113,
   "id": "dc2fb792",
   "metadata": {},
   "outputs": [],
   "source": [
    "# Import GridSearchCV\n",
    "from sklearn.model_selection import GridSearchCV"
   ]
  },
  {
   "cell_type": "code",
   "execution_count": 114,
   "id": "151929a2",
   "metadata": {},
   "outputs": [
    {
     "data": {
      "text/plain": [
       "{'memory': None,\n",
       " 'steps': [('scale', StandardScaler()),\n",
       "  ('model', KNeighborsRegressor(n_neighbors=1))],\n",
       " 'verbose': False,\n",
       " 'scale': StandardScaler(),\n",
       " 'model': KNeighborsRegressor(n_neighbors=1),\n",
       " 'scale__copy': True,\n",
       " 'scale__with_mean': True,\n",
       " 'scale__with_std': True,\n",
       " 'model__algorithm': 'auto',\n",
       " 'model__leaf_size': 30,\n",
       " 'model__metric': 'minkowski',\n",
       " 'model__metric_params': None,\n",
       " 'model__n_jobs': None,\n",
       " 'model__n_neighbors': 1,\n",
       " 'model__p': 2,\n",
       " 'model__weights': 'uniform'}"
      ]
     },
     "execution_count": 114,
     "metadata": {},
     "output_type": "execute_result"
    }
   ],
   "source": [
    "#Get all the parameters in the model.\n",
    "pipe4.get_params() "
   ]
  },
  {
   "cell_type": "code",
   "execution_count": 115,
   "id": "31eaf036",
   "metadata": {},
   "outputs": [],
   "source": [
    "# Model 5\n",
    "# par_grid are all parameters we want to go through.\n",
    "# I want to change the parameter number of neighbors and check the model for all 10 options of numbers of neighbors.\n",
    "# I also want to cross validate and set the CV parameter to 3.\n",
    "mod5=GridSearchCV(estimator=pipe4,param_grid={'model__n_neighbors':[1,2,3,4,5,6,7,8,9,10]},cv=3)\n"
   ]
  },
  {
   "cell_type": "code",
   "execution_count": 116,
   "id": "ad8b2bcd",
   "metadata": {},
   "outputs": [
    {
     "data": {
      "text/plain": [
       "dict_keys(['memory', 'steps', 'verbose', 'scale', 'model', 'scale__copy', 'scale__with_mean', 'scale__with_std', 'model__algorithm', 'model__leaf_size', 'model__metric', 'model__metric_params', 'model__n_jobs', 'model__n_neighbors', 'model__p', 'model__weights'])"
      ]
     },
     "execution_count": 116,
     "metadata": {},
     "output_type": "execute_result"
    }
   ],
   "source": [
    "pipe4.get_params().keys()"
   ]
  },
  {
   "cell_type": "code",
   "execution_count": 117,
   "id": "fd0ae4b9",
   "metadata": {},
   "outputs": [
    {
     "data": {
      "text/html": [
       "<div>\n",
       "<style scoped>\n",
       "    .dataframe tbody tr th:only-of-type {\n",
       "        vertical-align: middle;\n",
       "    }\n",
       "\n",
       "    .dataframe tbody tr th {\n",
       "        vertical-align: top;\n",
       "    }\n",
       "\n",
       "    .dataframe thead th {\n",
       "        text-align: right;\n",
       "    }\n",
       "</style>\n",
       "<table border=\"1\" class=\"dataframe\">\n",
       "  <thead>\n",
       "    <tr style=\"text-align: right;\">\n",
       "      <th></th>\n",
       "      <th>mean_fit_time</th>\n",
       "      <th>std_fit_time</th>\n",
       "      <th>mean_score_time</th>\n",
       "      <th>std_score_time</th>\n",
       "      <th>param_model__n_neighbors</th>\n",
       "      <th>params</th>\n",
       "      <th>split0_test_score</th>\n",
       "      <th>split1_test_score</th>\n",
       "      <th>split2_test_score</th>\n",
       "      <th>mean_test_score</th>\n",
       "      <th>std_test_score</th>\n",
       "      <th>rank_test_score</th>\n",
       "    </tr>\n",
       "  </thead>\n",
       "  <tbody>\n",
       "    <tr>\n",
       "      <th>0</th>\n",
       "      <td>0.001668</td>\n",
       "      <td>0.000472</td>\n",
       "      <td>0.002335</td>\n",
       "      <td>0.000476</td>\n",
       "      <td>1</td>\n",
       "      <td>{'model__n_neighbors': 1}</td>\n",
       "      <td>-0.314105</td>\n",
       "      <td>-0.270993</td>\n",
       "      <td>-0.630692</td>\n",
       "      <td>-0.405263</td>\n",
       "      <td>0.160371</td>\n",
       "      <td>10</td>\n",
       "    </tr>\n",
       "    <tr>\n",
       "      <th>1</th>\n",
       "      <td>0.001325</td>\n",
       "      <td>0.000464</td>\n",
       "      <td>0.001339</td>\n",
       "      <td>0.000468</td>\n",
       "      <td>2</td>\n",
       "      <td>{'model__n_neighbors': 2}</td>\n",
       "      <td>-0.165573</td>\n",
       "      <td>-0.029845</td>\n",
       "      <td>-0.217977</td>\n",
       "      <td>-0.137798</td>\n",
       "      <td>0.079276</td>\n",
       "      <td>9</td>\n",
       "    </tr>\n",
       "    <tr>\n",
       "      <th>2</th>\n",
       "      <td>0.001995</td>\n",
       "      <td>0.000060</td>\n",
       "      <td>0.001669</td>\n",
       "      <td>0.000472</td>\n",
       "      <td>3</td>\n",
       "      <td>{'model__n_neighbors': 3}</td>\n",
       "      <td>-0.008749</td>\n",
       "      <td>0.048331</td>\n",
       "      <td>-0.047753</td>\n",
       "      <td>-0.002724</td>\n",
       "      <td>0.039457</td>\n",
       "      <td>8</td>\n",
       "    </tr>\n",
       "    <tr>\n",
       "      <th>3</th>\n",
       "      <td>0.001628</td>\n",
       "      <td>0.000476</td>\n",
       "      <td>0.001724</td>\n",
       "      <td>0.000443</td>\n",
       "      <td>4</td>\n",
       "      <td>{'model__n_neighbors': 4}</td>\n",
       "      <td>0.093077</td>\n",
       "      <td>0.140377</td>\n",
       "      <td>0.060227</td>\n",
       "      <td>0.097894</td>\n",
       "      <td>0.032898</td>\n",
       "      <td>7</td>\n",
       "    </tr>\n",
       "    <tr>\n",
       "      <th>4</th>\n",
       "      <td>0.001001</td>\n",
       "      <td>0.000020</td>\n",
       "      <td>0.001962</td>\n",
       "      <td>0.000033</td>\n",
       "      <td>5</td>\n",
       "      <td>{'model__n_neighbors': 5}</td>\n",
       "      <td>0.121510</td>\n",
       "      <td>0.158875</td>\n",
       "      <td>0.127609</td>\n",
       "      <td>0.135998</td>\n",
       "      <td>0.016367</td>\n",
       "      <td>6</td>\n",
       "    </tr>\n",
       "    <tr>\n",
       "      <th>5</th>\n",
       "      <td>0.000997</td>\n",
       "      <td>0.000010</td>\n",
       "      <td>0.002338</td>\n",
       "      <td>0.000423</td>\n",
       "      <td>6</td>\n",
       "      <td>{'model__n_neighbors': 6}</td>\n",
       "      <td>0.171408</td>\n",
       "      <td>0.188450</td>\n",
       "      <td>0.159365</td>\n",
       "      <td>0.173074</td>\n",
       "      <td>0.011932</td>\n",
       "      <td>5</td>\n",
       "    </tr>\n",
       "    <tr>\n",
       "      <th>6</th>\n",
       "      <td>0.000962</td>\n",
       "      <td>0.000037</td>\n",
       "      <td>0.002031</td>\n",
       "      <td>0.000036</td>\n",
       "      <td>7</td>\n",
       "      <td>{'model__n_neighbors': 7}</td>\n",
       "      <td>0.180095</td>\n",
       "      <td>0.212346</td>\n",
       "      <td>0.159841</td>\n",
       "      <td>0.184094</td>\n",
       "      <td>0.021620</td>\n",
       "      <td>4</td>\n",
       "    </tr>\n",
       "    <tr>\n",
       "      <th>7</th>\n",
       "      <td>0.001974</td>\n",
       "      <td>0.000043</td>\n",
       "      <td>0.002027</td>\n",
       "      <td>0.000041</td>\n",
       "      <td>8</td>\n",
       "      <td>{'model__n_neighbors': 8}</td>\n",
       "      <td>0.195741</td>\n",
       "      <td>0.232227</td>\n",
       "      <td>0.176191</td>\n",
       "      <td>0.201386</td>\n",
       "      <td>0.023222</td>\n",
       "      <td>3</td>\n",
       "    </tr>\n",
       "    <tr>\n",
       "      <th>8</th>\n",
       "      <td>0.001330</td>\n",
       "      <td>0.000480</td>\n",
       "      <td>0.001995</td>\n",
       "      <td>0.000010</td>\n",
       "      <td>9</td>\n",
       "      <td>{'model__n_neighbors': 9}</td>\n",
       "      <td>0.212418</td>\n",
       "      <td>0.243351</td>\n",
       "      <td>0.209695</td>\n",
       "      <td>0.221821</td>\n",
       "      <td>0.015265</td>\n",
       "      <td>2</td>\n",
       "    </tr>\n",
       "    <tr>\n",
       "      <th>9</th>\n",
       "      <td>0.001326</td>\n",
       "      <td>0.000461</td>\n",
       "      <td>0.002339</td>\n",
       "      <td>0.000482</td>\n",
       "      <td>10</td>\n",
       "      <td>{'model__n_neighbors': 10}</td>\n",
       "      <td>0.222014</td>\n",
       "      <td>0.259703</td>\n",
       "      <td>0.219688</td>\n",
       "      <td>0.233802</td>\n",
       "      <td>0.018340</td>\n",
       "      <td>1</td>\n",
       "    </tr>\n",
       "  </tbody>\n",
       "</table>\n",
       "</div>"
      ],
      "text/plain": [
       "   mean_fit_time  std_fit_time  mean_score_time  std_score_time  \\\n",
       "0       0.001668      0.000472         0.002335        0.000476   \n",
       "1       0.001325      0.000464         0.001339        0.000468   \n",
       "2       0.001995      0.000060         0.001669        0.000472   \n",
       "3       0.001628      0.000476         0.001724        0.000443   \n",
       "4       0.001001      0.000020         0.001962        0.000033   \n",
       "5       0.000997      0.000010         0.002338        0.000423   \n",
       "6       0.000962      0.000037         0.002031        0.000036   \n",
       "7       0.001974      0.000043         0.002027        0.000041   \n",
       "8       0.001330      0.000480         0.001995        0.000010   \n",
       "9       0.001326      0.000461         0.002339        0.000482   \n",
       "\n",
       "  param_model__n_neighbors                      params  split0_test_score  \\\n",
       "0                        1   {'model__n_neighbors': 1}          -0.314105   \n",
       "1                        2   {'model__n_neighbors': 2}          -0.165573   \n",
       "2                        3   {'model__n_neighbors': 3}          -0.008749   \n",
       "3                        4   {'model__n_neighbors': 4}           0.093077   \n",
       "4                        5   {'model__n_neighbors': 5}           0.121510   \n",
       "5                        6   {'model__n_neighbors': 6}           0.171408   \n",
       "6                        7   {'model__n_neighbors': 7}           0.180095   \n",
       "7                        8   {'model__n_neighbors': 8}           0.195741   \n",
       "8                        9   {'model__n_neighbors': 9}           0.212418   \n",
       "9                       10  {'model__n_neighbors': 10}           0.222014   \n",
       "\n",
       "   split1_test_score  split2_test_score  mean_test_score  std_test_score  \\\n",
       "0          -0.270993          -0.630692        -0.405263        0.160371   \n",
       "1          -0.029845          -0.217977        -0.137798        0.079276   \n",
       "2           0.048331          -0.047753        -0.002724        0.039457   \n",
       "3           0.140377           0.060227         0.097894        0.032898   \n",
       "4           0.158875           0.127609         0.135998        0.016367   \n",
       "5           0.188450           0.159365         0.173074        0.011932   \n",
       "6           0.212346           0.159841         0.184094        0.021620   \n",
       "7           0.232227           0.176191         0.201386        0.023222   \n",
       "8           0.243351           0.209695         0.221821        0.015265   \n",
       "9           0.259703           0.219688         0.233802        0.018340   \n",
       "\n",
       "   rank_test_score  \n",
       "0               10  \n",
       "1                9  \n",
       "2                8  \n",
       "3                7  \n",
       "4                6  \n",
       "5                5  \n",
       "6                4  \n",
       "7                3  \n",
       "8                2  \n",
       "9                1  "
      ]
     },
     "execution_count": 117,
     "metadata": {},
     "output_type": "execute_result"
    }
   ],
   "source": [
    "#Fit.\n",
    "mod5.fit(X,y);\n",
    "\n",
    "#Put this in the pandas dataframe for a nice overview.\n",
    "pd.DataFrame(mod5.cv_results_) "
   ]
  },
  {
   "cell_type": "markdown",
   "id": "ad2d8aa1",
   "metadata": {},
   "source": [
    "Now we can see all the different statistics and decide which model is the best!"
   ]
  },
  {
   "cell_type": "markdown",
   "id": "49ffbe6e",
   "metadata": {},
   "source": [
    "### Pre-processing\n",
    "I want to dive a bit more into pre-processing. The purpose of pre-processing is to improve the performance of the model. For example, different scaling in X and y or outliers might be an issue. So, I want to re-scale the data. For that I can use `StandardScaler` from `scikit-learn`. I will use some random numbers to demonstrate an example."
   ]
  },
  {
   "cell_type": "code",
   "execution_count": 135,
   "id": "413447c6",
   "metadata": {},
   "outputs": [
    {
     "data": {
      "image/png": "[encoded data removed]",
      "text/plain": [
       "<Figure size 432x288 with 1 Axes>"
      ]
     },
     "metadata": {},
     "output_type": "display_data"
    }
   ],
   "source": [
    "#Exponential functions with some noise.\n",
    "x=np.random.exponential(10,(1000))+np.random.normal(0,1,(1000))\n",
    "y=np.random.exponential(10,(1000))+np.random.normal(0,5,(1000))\n",
    "#simulation of what StandardScaler does\n",
    "plt.hist((x-np.mean(x))/np.std(x),30); "
   ]
  },
  {
   "cell_type": "markdown",
   "id": "d9110f0b",
   "metadata": {},
   "source": [
    "However, the outliers still do exist. What if instead of using standard deviation I use quantiles? There might be less outliers. One cool option is to use `QuantileTransformer`"
   ]
  },
  {
   "cell_type": "markdown",
   "id": "b44247b9",
   "metadata": {},
   "source": [
    "Conclusion=QT is more stabile"
   ]
  },
  {
   "cell_type": "markdown",
   "id": "45021dae",
   "metadata": {},
   "source": [
    "## References"
   ]
  },
  {
   "cell_type": "markdown",
   "id": "dce48390",
   "metadata": {},
   "source": [
    "[1] scikit-learn. Available at http://scikit-learn.org.<br>\n",
    "[2] scikit-learn. Install. Available at http://scikit-learn.org/stable/install.html. <br>\n",
    "[3] Anaconda. Available at https://www.anaconda.com/. <br>\n",
    "[4] NumPy documentation. Available at https://numpy.org/doc/stable/index.html. <br>\n",
    "[5] SciPy documentation. Available at https://scipy.github.io/devdocs/index.html. <br>\n",
    "[6] Matplotlib user guide. Available at https://matplotlib.org/stable/users/index. <br>\n",
    "[7] Stack abuse. Available at: https://stackabuse.com/k-nearest-neighbors-algorithm-in-python-and-scikit-learn/ <br>\n",
    "[8] Towards Data Science. Cross Validation Explained. Available at: https://towardsdatascience.com/cross-validation-explained-evaluating-estimator-performance-e51e5430ff85\n"
   ]
  },
  {
   "cell_type": "code",
   "execution_count": null,
   "id": "af31b686",
   "metadata": {},
   "outputs": [],
   "source": []
  }
 ],
 "metadata": {
  "kernelspec": {
   "display_name": "Python 3",
   "language": "python",
   "name": "python3"
  },
  "language_info": {
   "codemirror_mode": {
    "name": "ipython",
    "version": 3
   },
   "file_extension": ".py",
   "mimetype": "text/x-python",
   "name": "python",
   "nbconvert_exporter": "python",
   "pygments_lexer": "ipython3",
   "version": "3.8.8"
  }
 },
 "nbformat": 4,
 "nbformat_minor": 5
}
