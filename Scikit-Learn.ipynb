{
 "cells": [
  {
   "cell_type": "markdown",
   "id": "0a3f574a",
   "metadata": {},
   "source": [
    "# My favorite Scikit-Learn algorithms\n",
    "\n",
    "This notebook contains a demonstrations and visualisations of my three favorite algorithms available through scikit-learn Python library. "
   ]
  },
  {
   "cell_type": "markdown",
   "id": "71d17a24",
   "metadata": {},
   "source": [
    "## 1. Choosing Scikit-Learn: The Benefits"
   ]
  },
  {
   "cell_type": "markdown",
   "id": "ea559d8d",
   "metadata": {},
   "source": [
    "## 2. Installing Scikit-Learn"
   ]
  },
  {
   "cell_type": "markdown",
   "id": "4e6d852d",
   "metadata": {},
   "source": [
    "## 3. Algorithm 1"
   ]
  },
  {
   "cell_type": "markdown",
   "id": "3577b6a9",
   "metadata": {},
   "source": [
    "## 4. Algorithm 2"
   ]
  },
  {
   "cell_type": "markdown",
   "id": "4432e072",
   "metadata": {},
   "source": [
    "## 5. Algorithm 3"
   ]
  },
  {
   "cell_type": "markdown",
   "id": "4f691686",
   "metadata": {},
   "source": [
    "## 6. Conclusion"
   ]
  },
  {
   "cell_type": "markdown",
   "id": "7364698e",
   "metadata": {},
   "source": [
    "## References\n",
    "\n",
    "\"scikit-learn: machine learning in python - scikit-learn 0.24.2 documentation\", 2021. [Online]. Available: https://scikit-learn.org/stable/index.html"
   ]
  },
  {
   "cell_type": "markdown",
   "id": "61ffe771",
   "metadata": {},
   "source": []
  },
  {
   "cell_type": "code",
   "execution_count": null,
   "id": "1b04f719",
   "metadata": {},
   "outputs": [],
   "source": []
  }
 ],
 "metadata": {
  "kernelspec": {
   "display_name": "Python 3",
   "language": "python",
   "name": "python3"
  },
  "language_info": {
   "codemirror_mode": {
    "name": "ipython",
    "version": 3
   },
   "file_extension": ".py",
   "mimetype": "text/x-python",
   "name": "python",
   "nbconvert_exporter": "python",
   "pygments_lexer": "ipython3",
   "version": "3.8.8"
  }
 },
 "nbformat": 4,
 "nbformat_minor": 5
}
