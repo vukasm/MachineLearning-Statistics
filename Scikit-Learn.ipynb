{
 "cells": [
  {
   "cell_type": "markdown",
   "id": "0a3f574a",
   "metadata": {},
   "source": [
    "# My favorite Scikit-Learn algorithms\n",
    "\n",
    "This notebook contains a demonstrations and visualisations of my three favorite algorithms available through scikit-learn Python library [1]. "
   ]
  },
  {
   "cell_type": "markdown",
   "id": "71d17a24",
   "metadata": {},
   "source": [
    "## 1. Choosing Scikit-Learn: The Benefits"
   ]
  },
  {
   "cell_type": "markdown",
   "id": "d8d387e7",
   "metadata": {},
   "source": [
    "Scikit-learn is one of the most useful open-source libraries available for Python, widely used for Machine Learning purposes. It contains large collection of very efficient statistical and machile learning tools, e.g. regression, classification, dimensionary reduction and clustering.\n",
    "It has been developed by David Cournapeau initially and it developed in the communicity-driven project where anyone can contribute towards its development. It is built upon NumPy [4], SciPy [5] and Matplotlib [6].\n"
   ]
  },
  {
   "cell_type": "markdown",
   "id": "74973161",
   "metadata": {},
   "source": [
    "As mentioned, scikit-learn comes with plenty of interesting features. Some of which are:\n",
    "* **Supervised learning argorithms**, e.g. Linear regression, Decision Trees, Bayesian methods\n",
    "* **Unsupervised learning algorithms** e.g. custer analysis, factoring, unsupervised neural networks\n",
    "* **Feature extraction**, meaning you can extract features from pictures or text\n",
    "* **Cross validation**, meaning that validity of supervised models on unseen data can be validated and checked for accuracy\n",
    "* **Dimensionality reduction**, meaning a number of attributes in data can be reduced for subsequent visualization, summarization or feature selection\n",
    "* **Clustering** i.e. grouping of unlabeled data\n",
    "* **Ensemble methods**, meaning predictions of several supervised models combines"
   ]
  },
  {
   "cell_type": "markdown",
   "id": "783bdd3a",
   "metadata": {},
   "source": [
    "Scikit-learn is a great choice of library for machine learning and there are many benefits to it:\n",
    "* It is free with minimum licencing restrictions\n",
    "* It is user friendly and easy to use\n",
    "* It is versatile and useful for different real-life situations\n",
    "* Provides clear and useful documentations for both end users or users who want to implement the algorithms to their own platforms"
   ]
  },
  {
   "cell_type": "markdown",
   "id": "ea559d8d",
   "metadata": {},
   "source": [
    "## 2. Installing Scikit-Learn"
   ]
  },
  {
   "cell_type": "markdown",
   "id": "f488dd61",
   "metadata": {},
   "source": [
    "There are some prerequisites, so make sure you have the following installed:\n",
    "* Python (>=3.5)\n",
    "* NumPy (>=1.11.0)\n",
    "* SciPy (>=0.17.0)\n",
    "* Joblib (>=0.11)\n",
    "* Matplotlib (>=1.5.1)\n",
    "* Pandas (>=0.18.0)"
   ]
  },
  {
   "cell_type": "markdown",
   "id": "e5a062a9",
   "metadata": {},
   "source": [
    "All instructions with regards to installation can be found in the main documentation of scikit-learn library [2]. For more information refer to [this link](http://scikit-learn.org/stable/install.html). Anaconda [3] comes with scikit-learn by default, but, if needed it can be installed manually by typing `conda install scikit-learn` in a terminal."
   ]
  },
  {
   "cell_type": "markdown",
   "id": "4e6d852d",
   "metadata": {},
   "source": [
    "## 3. Algorithm 1"
   ]
  },
  {
   "cell_type": "markdown",
   "id": "3577b6a9",
   "metadata": {},
   "source": [
    "## 4. Algorithm 2"
   ]
  },
  {
   "cell_type": "markdown",
   "id": "4432e072",
   "metadata": {},
   "source": [
    "## 5. Algorithm 3"
   ]
  },
  {
   "cell_type": "markdown",
   "id": "4f691686",
   "metadata": {},
   "source": [
    "## 6. Conclusion"
   ]
  },
  {
   "cell_type": "markdown",
   "id": "b369add8",
   "metadata": {},
   "source": [
    "# Practice"
   ]
  },
  {
   "cell_type": "code",
   "execution_count": 1,
   "id": "9a4bbf2b",
   "metadata": {},
   "outputs": [],
   "source": [
    "import numpy as np\n",
    "import pandas as pd\n",
    "import matplotlib.pylab as ply"
   ]
  },
  {
   "cell_type": "markdown",
   "id": "ace60925",
   "metadata": {},
   "source": [
    "Data->model->prediction\n",
    "\n",
    "Data\n",
    "-x e.g. info about the house\n",
    "-y e.g. house prices\n",
    "\n",
    "\n",
    "Now we pass this to model such that we can predict y using x."
   ]
  },
  {
   "cell_type": "code",
   "execution_count": 2,
   "id": "9671b9f8",
   "metadata": {},
   "outputs": [],
   "source": [
    "from sklearn.datasets import load_boston #house prices in the 70s in Boston"
   ]
  },
  {
   "cell_type": "code",
   "execution_count": 3,
   "id": "c98b13f1",
   "metadata": {},
   "outputs": [],
   "source": [
    "X,y=load_boston(return_X_y=True) #set the variables from the dataset"
   ]
  },
  {
   "cell_type": "markdown",
   "id": "9e0f2137",
   "metadata": {},
   "source": [
    "Now model learns from data.\n",
    "Phase 1. create the model -> python object\n",
    "Phase 2. model learns from the data -> .fit(x,y) "
   ]
  },
  {
   "cell_type": "code",
   "execution_count": 4,
   "id": "91598da4",
   "metadata": {},
   "outputs": [],
   "source": [
    "from sklearn.neighbors import KNeighborsRegressor\n",
    "from sklearn.linear_model import LinearRegression"
   ]
  },
  {
   "cell_type": "code",
   "execution_count": 5,
   "id": "9ef042d4",
   "metadata": {},
   "outputs": [],
   "source": [
    "mod=KNeighborsRegressor()"
   ]
  },
  {
   "cell_type": "code",
   "execution_count": 6,
   "id": "797bc619",
   "metadata": {},
   "outputs": [
    {
     "data": {
      "text/plain": [
       "KNeighborsRegressor()"
      ]
     },
     "execution_count": 6,
     "metadata": {},
     "output_type": "execute_result"
    }
   ],
   "source": [
    "mod.fit(X,y) #before fitting we cannot predict"
   ]
  },
  {
   "cell_type": "code",
   "execution_count": 7,
   "id": "594a4c33",
   "metadata": {
    "scrolled": true
   },
   "outputs": [],
   "source": [
    "pred=mod.predict(X)"
   ]
  },
  {
   "cell_type": "code",
   "execution_count": 8,
   "id": "1179de4b",
   "metadata": {},
   "outputs": [],
   "source": [
    "mod2=LinearRegression() #different model,same process"
   ]
  },
  {
   "cell_type": "code",
   "execution_count": 9,
   "id": "52da860e",
   "metadata": {},
   "outputs": [
    {
     "data": {
      "text/plain": [
       "LinearRegression()"
      ]
     },
     "execution_count": 9,
     "metadata": {},
     "output_type": "execute_result"
    }
   ],
   "source": [
    "mod2.fit(X,y)"
   ]
  },
  {
   "cell_type": "code",
   "execution_count": 10,
   "id": "f0714f53",
   "metadata": {
    "scrolled": true
   },
   "outputs": [
    {
     "data": {
      "text/plain": [
       "array([30.00384338, 25.02556238, 30.56759672, 28.60703649, 27.94352423,\n",
       "       25.25628446, 23.00180827, 19.53598843, 11.52363685, 18.92026211,\n",
       "       18.99949651, 21.58679568, 20.90652153, 19.55290281, 19.28348205,\n",
       "       19.29748321, 20.52750979, 16.91140135, 16.17801106, 18.40613603,\n",
       "       12.52385753, 17.67103669, 15.83288129, 13.80628535, 15.67833832,\n",
       "       13.38668561, 15.46397655, 14.70847428, 19.54737285, 20.8764282 ,\n",
       "       11.45511759, 18.05923295,  8.81105736, 14.28275814, 13.70675891,\n",
       "       23.81463526, 22.34193708, 23.10891142, 22.91502612, 31.35762569,\n",
       "       34.21510225, 28.02056414, 25.20386628, 24.60979273, 22.94149176,\n",
       "       22.09669817, 20.42320032, 18.03655088,  9.10655377, 17.20607751,\n",
       "       21.28152535, 23.97222285, 27.6558508 , 24.04901809, 15.3618477 ,\n",
       "       31.15264947, 24.85686978, 33.10919806, 21.77537987, 21.08493555,\n",
       "       17.8725804 , 18.51110208, 23.98742856, 22.55408869, 23.37308644,\n",
       "       30.36148358, 25.53056512, 21.11338564, 17.42153786, 20.78483633,\n",
       "       25.20148859, 21.7426577 , 24.55744957, 24.04295712, 25.50499716,\n",
       "       23.9669302 , 22.94545403, 23.35699818, 21.26198266, 22.42817373,\n",
       "       28.40576968, 26.99486086, 26.03576297, 25.05873482, 24.78456674,\n",
       "       27.79049195, 22.16853423, 25.89276415, 30.67461827, 30.83110623,\n",
       "       27.1190194 , 27.41266734, 28.94122762, 29.08105546, 27.03977365,\n",
       "       28.62459949, 24.72744978, 35.78159518, 35.11454587, 32.25102801,\n",
       "       24.58022019, 25.59413475, 19.79013684, 20.31167129, 21.43482591,\n",
       "       18.53994008, 17.18755992, 20.75049026, 22.64829115, 19.7720367 ,\n",
       "       20.64965864, 26.52586744, 20.77323638, 20.71548315, 25.17208881,\n",
       "       20.43025591, 23.37724626, 23.69043261, 20.33578364, 20.79180873,\n",
       "       21.91632071, 22.47107777, 20.55738556, 16.36661977, 20.56099819,\n",
       "       22.48178446, 14.61706633, 15.17876684, 18.93868592, 14.05573285,\n",
       "       20.03527399, 19.41013402, 20.06191566, 15.75807673, 13.25645238,\n",
       "       17.26277735, 15.87841883, 19.36163954, 13.81483897, 16.44881475,\n",
       "       13.57141932,  3.98885508, 14.59495478, 12.1488148 ,  8.72822362,\n",
       "       12.03585343, 15.82082058,  8.5149902 ,  9.71844139, 14.80451374,\n",
       "       20.83858153, 18.30101169, 20.12282558, 17.28601894, 22.36600228,\n",
       "       20.10375923, 13.62125891, 33.25982697, 29.03017268, 25.56752769,\n",
       "       32.70827666, 36.77467015, 40.55765844, 41.84728168, 24.78867379,\n",
       "       25.37889238, 37.20347455, 23.08748747, 26.40273955, 26.65382114,\n",
       "       22.5551466 , 24.29082812, 22.97657219, 29.07194308, 26.5219434 ,\n",
       "       30.72209056, 25.61669307, 29.13740979, 31.43571968, 32.92231568,\n",
       "       34.72440464, 27.76552111, 33.88787321, 30.99238036, 22.71820008,\n",
       "       24.7664781 , 35.88497226, 33.42476722, 32.41199147, 34.51509949,\n",
       "       30.76109485, 30.28934141, 32.91918714, 32.11260771, 31.55871004,\n",
       "       40.84555721, 36.12770079, 32.6692081 , 34.70469116, 30.09345162,\n",
       "       30.64393906, 29.28719501, 37.07148392, 42.03193124, 43.18949844,\n",
       "       22.69034796, 23.68284712, 17.85447214, 23.49428992, 17.00587718,\n",
       "       22.39251096, 17.06042754, 22.73892921, 25.21942554, 11.11916737,\n",
       "       24.51049148, 26.60334775, 28.35518713, 24.91525464, 29.68652768,\n",
       "       33.18419746, 23.77456656, 32.14051958, 29.7458199 , 38.37102453,\n",
       "       39.81461867, 37.58605755, 32.3995325 , 35.45665242, 31.23411512,\n",
       "       24.48449227, 33.28837292, 38.0481048 , 37.16328631, 31.71383523,\n",
       "       25.26705571, 30.10010745, 32.71987156, 28.42717057, 28.42940678,\n",
       "       27.29375938, 23.74262478, 24.12007891, 27.40208414, 16.3285756 ,\n",
       "       13.39891261, 20.01638775, 19.86184428, 21.2883131 , 24.0798915 ,\n",
       "       24.20633547, 25.04215821, 24.91964007, 29.94563374, 23.97228316,\n",
       "       21.69580887, 37.51109239, 43.30239043, 36.48361421, 34.98988594,\n",
       "       34.81211508, 37.16631331, 40.98928501, 34.44634089, 35.83397547,\n",
       "       28.245743  , 31.22673593, 40.8395575 , 39.31792393, 25.70817905,\n",
       "       22.30295533, 27.20340972, 28.51169472, 35.47676598, 36.10639164,\n",
       "       33.79668274, 35.61085858, 34.83993382, 30.35192656, 35.30980701,\n",
       "       38.79756966, 34.33123186, 40.33963075, 44.67308339, 31.59689086,\n",
       "       27.3565923 , 20.10174154, 27.04206674, 27.2136458 , 26.91395839,\n",
       "       33.43563311, 34.40349633, 31.8333982 , 25.81783237, 24.42982348,\n",
       "       28.45764337, 27.36266999, 19.53928758, 29.11309844, 31.91054611,\n",
       "       30.77159449, 28.94275871, 28.88191022, 32.79887232, 33.20905456,\n",
       "       30.76831792, 35.56226857, 32.70905124, 28.64244237, 23.58965827,\n",
       "       18.54266897, 26.87889843, 23.28133979, 25.54580246, 25.48120057,\n",
       "       20.53909901, 17.61572573, 18.37581686, 24.29070277, 21.32529039,\n",
       "       24.88682244, 24.86937282, 22.86952447, 19.45123791, 25.11783401,\n",
       "       24.66786913, 23.68076177, 19.34089616, 21.17418105, 24.25249073,\n",
       "       21.59260894, 19.98446605, 23.33888   , 22.14060692, 21.55509929,\n",
       "       20.61872907, 20.16097176, 19.28490387, 22.1667232 , 21.24965774,\n",
       "       21.42939305, 30.32788796, 22.04734975, 27.70647912, 28.54794117,\n",
       "       16.54501121, 14.78359641, 25.27380082, 27.54205117, 22.14837562,\n",
       "       20.45944095, 20.54605423, 16.88063827, 25.40253506, 14.32486632,\n",
       "       16.59488462, 19.63704691, 22.71806607, 22.20218887, 19.20548057,\n",
       "       22.66616105, 18.93192618, 18.22846804, 20.23150811, 37.4944739 ,\n",
       "       14.28190734, 15.54286248, 10.83162324, 23.80072902, 32.6440736 ,\n",
       "       34.60684042, 24.94331333, 25.9998091 ,  6.126325  ,  0.77779806,\n",
       "       25.30713064, 17.74061065, 20.23274414, 15.83331301, 16.83512587,\n",
       "       14.36994825, 18.47682833, 13.4276828 , 13.06177512,  3.27918116,\n",
       "        8.06022171,  6.12842196,  5.6186481 ,  6.4519857 , 14.20764735,\n",
       "       17.21225183, 17.29887265,  9.89116643, 20.22124193, 17.94181175,\n",
       "       20.30445783, 19.29559075, 16.33632779,  6.55162319, 10.89016778,\n",
       "       11.88145871, 17.81174507, 18.26126587, 12.97948781,  7.37816361,\n",
       "        8.21115861,  8.06626193, 19.98294786, 13.70756369, 19.85268454,\n",
       "       15.22308298, 16.96071981,  1.71851807, 11.80578387, -4.28131071,\n",
       "        9.58376737, 13.36660811,  6.89562363,  6.14779852, 14.60661794,\n",
       "       19.6000267 , 18.12427476, 18.52177132, 13.1752861 , 14.62617624,\n",
       "        9.92374976, 16.34590647, 14.07519426, 14.25756243, 13.04234787,\n",
       "       18.15955693, 18.69554354, 21.527283  , 17.03141861, 15.96090435,\n",
       "       13.36141611, 14.52079384,  8.81976005,  4.86751102, 13.06591313,\n",
       "       12.70609699, 17.29558059, 18.740485  , 18.05901029, 11.51474683,\n",
       "       11.97400359, 17.68344618, 18.12695239, 17.5183465 , 17.22742507,\n",
       "       16.52271631, 19.41291095, 18.58215236, 22.48944791, 15.28000133,\n",
       "       15.82089335, 12.68725581, 12.8763379 , 17.18668531, 18.51247609,\n",
       "       19.04860533, 20.17208927, 19.7740732 , 22.42940768, 20.31911854,\n",
       "       17.88616253, 14.37478523, 16.94776851, 16.98405762, 18.58838397,\n",
       "       20.16719441, 22.97718032, 22.45580726, 25.57824627, 16.39147632,\n",
       "       16.1114628 , 20.534816  , 11.54272738, 19.20496304, 21.86276391,\n",
       "       23.46878866, 27.09887315, 28.56994302, 21.08398783, 19.45516196,\n",
       "       22.22225914, 19.65591961, 21.32536104, 11.85583717,  8.22386687,\n",
       "        3.66399672, 13.75908538, 15.93118545, 20.62662054, 20.61249414,\n",
       "       16.88541964, 14.01320787, 19.10854144, 21.29805174, 18.45498841,\n",
       "       20.46870847, 23.53334055, 22.37571892, 27.6274261 , 26.12796681,\n",
       "       22.34421229])"
      ]
     },
     "execution_count": 10,
     "metadata": {},
     "output_type": "execute_result"
    }
   ],
   "source": [
    "mod2.predict(X) #output is different as the model is different"
   ]
  },
  {
   "cell_type": "code",
   "execution_count": 11,
   "id": "4ef2b152",
   "metadata": {},
   "outputs": [],
   "source": [
    "#visualize the data from kneighbors\n",
    "import matplotlib.pyplot as plt"
   ]
  },
  {
   "cell_type": "code",
   "execution_count": 12,
   "id": "93fe0261",
   "metadata": {},
   "outputs": [
    {
     "data": {
      "text/plain": [
       "<matplotlib.collections.PathCollection at 0x1f50d9ae5e0>"
      ]
     },
     "execution_count": 12,
     "metadata": {},
     "output_type": "execute_result"
    },
    {
     "data": {
      "image/png": "[encoded data removed]",
      "text/plain": [
       "<Figure size 432x288 with 1 Axes>"
      ]
     },
     "metadata": {
      "needs_background": "light"
     },
     "output_type": "display_data"
    }
   ],
   "source": [
    "plt.scatter(pred,y)"
   ]
  },
  {
   "cell_type": "markdown",
   "id": "db96d169",
   "metadata": {},
   "source": [
    "K nearest neighbors looks for the nearest neighbor i.e. nearest datapoint in order to predict the varaible.\n",
    "We have to think well if the model is the one we want to use, or we need to to some pre-processing."
   ]
  },
  {
   "cell_type": "markdown",
   "id": "feeba15f",
   "metadata": {},
   "source": [
    "We have to pre process the x in order for the model to make sense and the model to predict in the correct way.\n",
    "\n",
    "Data -x -scale -knn-predict <br>\n",
    "     -y <br>\n",
    "\n",
    "We can include scaling as a part of the model, and use .fit to it."
   ]
  },
  {
   "cell_type": "code",
   "execution_count": 13,
   "id": "ea837a14",
   "metadata": {},
   "outputs": [],
   "source": [
    "from sklearn.preprocessing import StandardScaler\n",
    "from sklearn.pipeline import Pipeline"
   ]
  },
  {
   "cell_type": "code",
   "execution_count": 14,
   "id": "fe11fe25",
   "metadata": {},
   "outputs": [],
   "source": [
    "mod3=KNeighborsRegressor().fit(X,y)\n",
    "pipe3=Pipeline([\n",
    "    (\"scale\",StandardScaler()),\n",
    "    (\"model\",KNeighborsRegressor())\n",
    "])"
   ]
  },
  {
   "cell_type": "code",
   "execution_count": 15,
   "id": "12cd6b04",
   "metadata": {},
   "outputs": [
    {
     "data": {
      "text/plain": [
       "Pipeline(steps=[('scale', StandardScaler()), ('model', KNeighborsRegressor())])"
      ]
     },
     "execution_count": 15,
     "metadata": {},
     "output_type": "execute_result"
    }
   ],
   "source": [
    "pipe3.fit(X,y)"
   ]
  },
  {
   "cell_type": "code",
   "execution_count": 16,
   "id": "8e7d379b",
   "metadata": {},
   "outputs": [],
   "source": [
    "pred3=pipe3.predict(X) #predict using dataset X, we predict using the same data as we fit"
   ]
  },
  {
   "cell_type": "code",
   "execution_count": 17,
   "id": "6c0110e6",
   "metadata": {},
   "outputs": [
    {
     "data": {
      "text/plain": [
       "<matplotlib.collections.PathCollection at 0x1f50dab96a0>"
      ]
     },
     "execution_count": 17,
     "metadata": {},
     "output_type": "execute_result"
    },
    {
     "data": {
      "image/png": "[encoded data removed]",
      "text/plain": [
       "<Figure size 432x288 with 1 Axes>"
      ]
     },
     "metadata": {
      "needs_background": "light"
     },
     "output_type": "display_data"
    }
   ],
   "source": [
    "plt.scatter(pred3,y)"
   ]
  },
  {
   "cell_type": "markdown",
   "id": "43724bba",
   "metadata": {},
   "source": [
    "We are taking the original data to evaluate our prediction. Lets take only 1 nearest neighbor."
   ]
  },
  {
   "cell_type": "code",
   "execution_count": 18,
   "id": "992b925c",
   "metadata": {},
   "outputs": [],
   "source": [
    "mod4=KNeighborsRegressor().fit(X,y)\n",
    "pipe4=Pipeline([\n",
    "    (\"scale\",StandardScaler()),\n",
    "    (\"model\",KNeighborsRegressor(n_neighbors=1))\n",
    "]) #changed number of neighbors "
   ]
  },
  {
   "cell_type": "code",
   "execution_count": 19,
   "id": "4719b630",
   "metadata": {},
   "outputs": [
    {
     "data": {
      "text/plain": [
       "Pipeline(steps=[('scale', StandardScaler()),\n",
       "                ('model', KNeighborsRegressor(n_neighbors=1))])"
      ]
     },
     "execution_count": 19,
     "metadata": {},
     "output_type": "execute_result"
    }
   ],
   "source": [
    "pipe4.fit(X,y)"
   ]
  },
  {
   "cell_type": "code",
   "execution_count": 20,
   "id": "dc40e6f6",
   "metadata": {},
   "outputs": [],
   "source": [
    "pred4=pipe4.predict(X)"
   ]
  },
  {
   "cell_type": "code",
   "execution_count": 21,
   "id": "e9ae9e74",
   "metadata": {},
   "outputs": [
    {
     "data": {
      "text/plain": [
       "<matplotlib.collections.PathCollection at 0x1f50db19f70>"
      ]
     },
     "execution_count": 21,
     "metadata": {},
     "output_type": "execute_result"
    },
    {
     "data": {
      "image/png": "[encoded data removed]",
      "text/plain": [
       "<Figure size 432x288 with 1 Axes>"
      ]
     },
     "metadata": {
      "needs_background": "light"
     },
     "output_type": "display_data"
    }
   ],
   "source": [
    "plt.scatter(pred4,y)"
   ]
  },
  {
   "cell_type": "markdown",
   "id": "23a0e6c3",
   "metadata": {},
   "source": [
    "It seems like we are maing a perfect prediction. But that is only because we are predicting on the same dataset we used to fit the data. This raises a question - how many neighbors should we choose in order for our forecast to be the best?"
   ]
  },
  {
   "cell_type": "markdown",
   "id": "433ecba9",
   "metadata": {},
   "source": [
    "Lets split the dataset into 3 and train on two, wile test on the third part. We can do this three times."
   ]
  },
  {
   "cell_type": "markdown",
   "id": "7c28a101",
   "metadata": {},
   "source": [
    "I will introduce the GridSearchCV. "
   ]
  },
  {
   "cell_type": "code",
   "execution_count": 22,
   "id": "dc2fb792",
   "metadata": {},
   "outputs": [],
   "source": [
    "from sklearn.model_selection import GridSearchCV"
   ]
  },
  {
   "cell_type": "code",
   "execution_count": 23,
   "id": "151929a2",
   "metadata": {},
   "outputs": [
    {
     "data": {
      "text/plain": [
       "{'memory': None,\n",
       " 'steps': [('scale', StandardScaler()),\n",
       "  ('model', KNeighborsRegressor(n_neighbors=1))],\n",
       " 'verbose': False,\n",
       " 'scale': StandardScaler(),\n",
       " 'model': KNeighborsRegressor(n_neighbors=1),\n",
       " 'scale__copy': True,\n",
       " 'scale__with_mean': True,\n",
       " 'scale__with_std': True,\n",
       " 'model__algorithm': 'auto',\n",
       " 'model__leaf_size': 30,\n",
       " 'model__metric': 'minkowski',\n",
       " 'model__metric_params': None,\n",
       " 'model__n_jobs': None,\n",
       " 'model__n_neighbors': 1,\n",
       " 'model__p': 2,\n",
       " 'model__weights': 'uniform'}"
      ]
     },
     "execution_count": 23,
     "metadata": {},
     "output_type": "execute_result"
    }
   ],
   "source": [
    "pipe4.get_params() #all the parameters in the model"
   ]
  },
  {
   "cell_type": "code",
   "execution_count": 24,
   "id": "31eaf036",
   "metadata": {},
   "outputs": [],
   "source": [
    "mod5=GridSearchCV(estimator=pipe4,param_grid={'model__n_neighbors':[1,2,3,4,5,6,7,8,9,10]},cv=3)\n",
    "# par_grid are all parameters we want to go through/tweek\n",
    "# i want to change the parameter number of neighbors and check the model for all 10 options of numbers of neighbors\n",
    "# i also want to cross validate and set the cv parameter to 3"
   ]
  },
  {
   "cell_type": "code",
   "execution_count": 25,
   "id": "ad8b2bcd",
   "metadata": {},
   "outputs": [
    {
     "data": {
      "text/plain": [
       "dict_keys(['memory', 'steps', 'verbose', 'scale', 'model', 'scale__copy', 'scale__with_mean', 'scale__with_std', 'model__algorithm', 'model__leaf_size', 'model__metric', 'model__metric_params', 'model__n_jobs', 'model__n_neighbors', 'model__p', 'model__weights'])"
      ]
     },
     "execution_count": 25,
     "metadata": {},
     "output_type": "execute_result"
    }
   ],
   "source": [
    "pipe4.get_params().keys()"
   ]
  },
  {
   "cell_type": "code",
   "execution_count": 26,
   "id": "fd0ae4b9",
   "metadata": {},
   "outputs": [
    {
     "data": {
      "text/html": [
       "<div>\n",
       "<style scoped>\n",
       "    .dataframe tbody tr th:only-of-type {\n",
       "        vertical-align: middle;\n",
       "    }\n",
       "\n",
       "    .dataframe tbody tr th {\n",
       "        vertical-align: top;\n",
       "    }\n",
       "\n",
       "    .dataframe thead th {\n",
       "        text-align: right;\n",
       "    }\n",
       "</style>\n",
       "<table border=\"1\" class=\"dataframe\">\n",
       "  <thead>\n",
       "    <tr style=\"text-align: right;\">\n",
       "      <th></th>\n",
       "      <th>mean_fit_time</th>\n",
       "      <th>std_fit_time</th>\n",
       "      <th>mean_score_time</th>\n",
       "      <th>std_score_time</th>\n",
       "      <th>param_model__n_neighbors</th>\n",
       "      <th>params</th>\n",
       "      <th>split0_test_score</th>\n",
       "      <th>split1_test_score</th>\n",
       "      <th>split2_test_score</th>\n",
       "      <th>mean_test_score</th>\n",
       "      <th>std_test_score</th>\n",
       "      <th>rank_test_score</th>\n",
       "    </tr>\n",
       "  </thead>\n",
       "  <tbody>\n",
       "    <tr>\n",
       "      <th>0</th>\n",
       "      <td>0.000671</td>\n",
       "      <td>4.744657e-04</td>\n",
       "      <td>0.003572</td>\n",
       "      <td>3.648185e-03</td>\n",
       "      <td>1</td>\n",
       "      <td>{'model__n_neighbors': 1}</td>\n",
       "      <td>0.226933</td>\n",
       "      <td>0.432998</td>\n",
       "      <td>0.127635</td>\n",
       "      <td>0.262522</td>\n",
       "      <td>0.127179</td>\n",
       "      <td>10</td>\n",
       "    </tr>\n",
       "    <tr>\n",
       "      <th>1</th>\n",
       "      <td>0.001001</td>\n",
       "      <td>9.199649e-07</td>\n",
       "      <td>0.000999</td>\n",
       "      <td>1.072147e-06</td>\n",
       "      <td>2</td>\n",
       "      <td>{'model__n_neighbors': 2}</td>\n",
       "      <td>0.358216</td>\n",
       "      <td>0.409229</td>\n",
       "      <td>0.172294</td>\n",
       "      <td>0.313246</td>\n",
       "      <td>0.101821</td>\n",
       "      <td>9</td>\n",
       "    </tr>\n",
       "    <tr>\n",
       "      <th>2</th>\n",
       "      <td>0.000667</td>\n",
       "      <td>4.716516e-04</td>\n",
       "      <td>0.001333</td>\n",
       "      <td>4.714274e-04</td>\n",
       "      <td>3</td>\n",
       "      <td>{'model__n_neighbors': 3}</td>\n",
       "      <td>0.413515</td>\n",
       "      <td>0.476651</td>\n",
       "      <td>0.318534</td>\n",
       "      <td>0.402900</td>\n",
       "      <td>0.064986</td>\n",
       "      <td>1</td>\n",
       "    </tr>\n",
       "    <tr>\n",
       "      <th>3</th>\n",
       "      <td>0.000667</td>\n",
       "      <td>4.715390e-04</td>\n",
       "      <td>0.001000</td>\n",
       "      <td>4.899036e-07</td>\n",
       "      <td>4</td>\n",
       "      <td>{'model__n_neighbors': 4}</td>\n",
       "      <td>0.475349</td>\n",
       "      <td>0.402495</td>\n",
       "      <td>0.273014</td>\n",
       "      <td>0.383619</td>\n",
       "      <td>0.083675</td>\n",
       "      <td>7</td>\n",
       "    </tr>\n",
       "    <tr>\n",
       "      <th>4</th>\n",
       "      <td>0.001001</td>\n",
       "      <td>2.360224e-06</td>\n",
       "      <td>0.001025</td>\n",
       "      <td>3.574106e-05</td>\n",
       "      <td>5</td>\n",
       "      <td>{'model__n_neighbors': 5}</td>\n",
       "      <td>0.512318</td>\n",
       "      <td>0.347951</td>\n",
       "      <td>0.262590</td>\n",
       "      <td>0.374286</td>\n",
       "      <td>0.103638</td>\n",
       "      <td>8</td>\n",
       "    </tr>\n",
       "    <tr>\n",
       "      <th>5</th>\n",
       "      <td>0.001000</td>\n",
       "      <td>2.247832e-07</td>\n",
       "      <td>0.001000</td>\n",
       "      <td>1.123916e-07</td>\n",
       "      <td>6</td>\n",
       "      <td>{'model__n_neighbors': 6}</td>\n",
       "      <td>0.533611</td>\n",
       "      <td>0.389504</td>\n",
       "      <td>0.248482</td>\n",
       "      <td>0.390532</td>\n",
       "      <td>0.116406</td>\n",
       "      <td>6</td>\n",
       "    </tr>\n",
       "    <tr>\n",
       "      <th>6</th>\n",
       "      <td>0.001057</td>\n",
       "      <td>7.929281e-05</td>\n",
       "      <td>0.001667</td>\n",
       "      <td>4.669871e-04</td>\n",
       "      <td>7</td>\n",
       "      <td>{'model__n_neighbors': 7}</td>\n",
       "      <td>0.544782</td>\n",
       "      <td>0.385199</td>\n",
       "      <td>0.243668</td>\n",
       "      <td>0.391216</td>\n",
       "      <td>0.123003</td>\n",
       "      <td>5</td>\n",
       "    </tr>\n",
       "    <tr>\n",
       "      <th>7</th>\n",
       "      <td>0.001001</td>\n",
       "      <td>7.867412e-07</td>\n",
       "      <td>0.001000</td>\n",
       "      <td>1.123916e-07</td>\n",
       "      <td>8</td>\n",
       "      <td>{'model__n_neighbors': 8}</td>\n",
       "      <td>0.589644</td>\n",
       "      <td>0.394650</td>\n",
       "      <td>0.209714</td>\n",
       "      <td>0.398003</td>\n",
       "      <td>0.155124</td>\n",
       "      <td>2</td>\n",
       "    </tr>\n",
       "    <tr>\n",
       "      <th>8</th>\n",
       "      <td>0.001024</td>\n",
       "      <td>3.749688e-05</td>\n",
       "      <td>0.001345</td>\n",
       "      <td>4.512523e-04</td>\n",
       "      <td>9</td>\n",
       "      <td>{'model__n_neighbors': 9}</td>\n",
       "      <td>0.590352</td>\n",
       "      <td>0.407556</td>\n",
       "      <td>0.185253</td>\n",
       "      <td>0.394387</td>\n",
       "      <td>0.165643</td>\n",
       "      <td>3</td>\n",
       "    </tr>\n",
       "    <tr>\n",
       "      <th>9</th>\n",
       "      <td>0.000969</td>\n",
       "      <td>4.791851e-05</td>\n",
       "      <td>0.001318</td>\n",
       "      <td>4.823062e-04</td>\n",
       "      <td>10</td>\n",
       "      <td>{'model__n_neighbors': 10}</td>\n",
       "      <td>0.616510</td>\n",
       "      <td>0.395077</td>\n",
       "      <td>0.164023</td>\n",
       "      <td>0.391870</td>\n",
       "      <td>0.184741</td>\n",
       "      <td>4</td>\n",
       "    </tr>\n",
       "  </tbody>\n",
       "</table>\n",
       "</div>"
      ],
      "text/plain": [
       "   mean_fit_time  std_fit_time  mean_score_time  std_score_time  \\\n",
       "0       0.000671  4.744657e-04         0.003572    3.648185e-03   \n",
       "1       0.001001  9.199649e-07         0.000999    1.072147e-06   \n",
       "2       0.000667  4.716516e-04         0.001333    4.714274e-04   \n",
       "3       0.000667  4.715390e-04         0.001000    4.899036e-07   \n",
       "4       0.001001  2.360224e-06         0.001025    3.574106e-05   \n",
       "5       0.001000  2.247832e-07         0.001000    1.123916e-07   \n",
       "6       0.001057  7.929281e-05         0.001667    4.669871e-04   \n",
       "7       0.001001  7.867412e-07         0.001000    1.123916e-07   \n",
       "8       0.001024  3.749688e-05         0.001345    4.512523e-04   \n",
       "9       0.000969  4.791851e-05         0.001318    4.823062e-04   \n",
       "\n",
       "  param_model__n_neighbors                      params  split0_test_score  \\\n",
       "0                        1   {'model__n_neighbors': 1}           0.226933   \n",
       "1                        2   {'model__n_neighbors': 2}           0.358216   \n",
       "2                        3   {'model__n_neighbors': 3}           0.413515   \n",
       "3                        4   {'model__n_neighbors': 4}           0.475349   \n",
       "4                        5   {'model__n_neighbors': 5}           0.512318   \n",
       "5                        6   {'model__n_neighbors': 6}           0.533611   \n",
       "6                        7   {'model__n_neighbors': 7}           0.544782   \n",
       "7                        8   {'model__n_neighbors': 8}           0.589644   \n",
       "8                        9   {'model__n_neighbors': 9}           0.590352   \n",
       "9                       10  {'model__n_neighbors': 10}           0.616510   \n",
       "\n",
       "   split1_test_score  split2_test_score  mean_test_score  std_test_score  \\\n",
       "0           0.432998           0.127635         0.262522        0.127179   \n",
       "1           0.409229           0.172294         0.313246        0.101821   \n",
       "2           0.476651           0.318534         0.402900        0.064986   \n",
       "3           0.402495           0.273014         0.383619        0.083675   \n",
       "4           0.347951           0.262590         0.374286        0.103638   \n",
       "5           0.389504           0.248482         0.390532        0.116406   \n",
       "6           0.385199           0.243668         0.391216        0.123003   \n",
       "7           0.394650           0.209714         0.398003        0.155124   \n",
       "8           0.407556           0.185253         0.394387        0.165643   \n",
       "9           0.395077           0.164023         0.391870        0.184741   \n",
       "\n",
       "   rank_test_score  \n",
       "0               10  \n",
       "1                9  \n",
       "2                1  \n",
       "3                7  \n",
       "4                8  \n",
       "5                6  \n",
       "6                5  \n",
       "7                2  \n",
       "8                3  \n",
       "9                4  "
      ]
     },
     "execution_count": 26,
     "metadata": {},
     "output_type": "execute_result"
    }
   ],
   "source": [
    "mod5.fit(X,y);\n",
    "pd.DataFrame(mod5.cv_results_) #put this in tha pandas dataframe for a nice overview"
   ]
  },
  {
   "cell_type": "markdown",
   "id": "ad2d8aa1",
   "metadata": {},
   "source": [
    "Now we can see all the different statistics and decide which model is the best!"
   ]
  },
  {
   "cell_type": "markdown",
   "id": "7de09601",
   "metadata": {},
   "source": [
    "However, I havent yet looked inside the dataset! "
   ]
  },
  {
   "cell_type": "code",
   "execution_count": 27,
   "id": "59bec259",
   "metadata": {},
   "outputs": [
    {
     "name": "stdout",
     "output_type": "stream",
     "text": [
      ".. _boston_dataset:\n",
      "\n",
      "Boston house prices dataset\n",
      "---------------------------\n",
      "\n",
      "**Data Set Characteristics:**  \n",
      "\n",
      "    :Number of Instances: 506 \n",
      "\n",
      "    :Number of Attributes: 13 numeric/categorical predictive. Median Value (attribute 14) is usually the target.\n",
      "\n",
      "    :Attribute Information (in order):\n",
      "        - CRIM     per capita crime rate by town\n",
      "        - ZN       proportion of residential land zoned for lots over 25,000 sq.ft.\n",
      "        - INDUS    proportion of non-retail business acres per town\n",
      "        - CHAS     Charles River dummy variable (= 1 if tract bounds river; 0 otherwise)\n",
      "        - NOX      nitric oxides concentration (parts per 10 million)\n",
      "        - RM       average number of rooms per dwelling\n",
      "        - AGE      proportion of owner-occupied units built prior to 1940\n",
      "        - DIS      weighted distances to five Boston employment centres\n",
      "        - RAD      index of accessibility to radial highways\n",
      "        - TAX      full-value property-tax rate per $10,000\n",
      "        - PTRATIO  pupil-teacher ratio by town\n",
      "        - B        1000(Bk - 0.63)^2 where Bk is the proportion of blacks by town\n",
      "        - LSTAT    % lower status of the population\n",
      "        - MEDV     Median value of owner-occupied homes in $1000's\n",
      "\n",
      "    :Missing Attribute Values: None\n",
      "\n",
      "    :Creator: Harrison, D. and Rubinfeld, D.L.\n",
      "\n",
      "This is a copy of UCI ML housing dataset.\n",
      "https://archive.ics.uci.edu/ml/machine-learning-databases/housing/\n",
      "\n",
      "\n",
      "This dataset was taken from the StatLib library which is maintained at Carnegie Mellon University.\n",
      "\n",
      "The Boston house-price data of Harrison, D. and Rubinfeld, D.L. 'Hedonic\n",
      "prices and the demand for clean air', J. Environ. Economics & Management,\n",
      "vol.5, 81-102, 1978.   Used in Belsley, Kuh & Welsch, 'Regression diagnostics\n",
      "...', Wiley, 1980.   N.B. Various transformations are used in the table on\n",
      "pages 244-261 of the latter.\n",
      "\n",
      "The Boston house-price data has been used in many machine learning papers that address regression\n",
      "problems.   \n",
      "     \n",
      ".. topic:: References\n",
      "\n",
      "   - Belsley, Kuh & Welsch, 'Regression diagnostics: Identifying Influential Data and Sources of Collinearity', Wiley, 1980. 244-261.\n",
      "   - Quinlan,R. (1993). Combining Instance-Based and Model-Based Learning. In Proceedings on the Tenth International Conference of Machine Learning, 236-243, University of Massachusetts, Amherst. Morgan Kaufmann.\n",
      "\n"
     ]
    }
   ],
   "source": [
    "print(load_boston()['DESCR'])"
   ]
  },
  {
   "cell_type": "markdown",
   "id": "3bc4a4bf",
   "metadata": {},
   "source": [
    "Is 506 houses enough for our conclusion? When is this dataset from, is it outdated? B? Is the dataset racist? I definitely can do better! (Ps. This dataset will be deleted from scikit library soon)"
   ]
  },
  {
   "cell_type": "markdown",
   "id": "99f4a8d4",
   "metadata": {},
   "source": [
    "It is important to stay sceptical!"
   ]
  },
  {
   "cell_type": "markdown",
   "id": "bd6bb6a1",
   "metadata": {},
   "source": [
    "In the plot above, we have very high expectations. Is this realistic? Also, grid-search should be re-thought.\n",
    "It is easy to use scikit learn, but it is diggicult to understand the data and story behind it."
   ]
  },
  {
   "cell_type": "markdown",
   "id": "49ffbe6e",
   "metadata": {},
   "source": [
    "### Pre-processing"
   ]
  },
  {
   "cell_type": "markdown",
   "id": "781176d5",
   "metadata": {},
   "source": [
    "The purpose is to improve the performance of the model."
   ]
  },
  {
   "cell_type": "markdown",
   "id": "39cc242a",
   "metadata": {},
   "source": [
    "E.g. different scales in x and y, outliers. \n",
    "So, we want to rescale the data. I can use StandardScaler from scikit learn."
   ]
  },
  {
   "cell_type": "markdown",
   "id": "de8355bb",
   "metadata": {},
   "source": [
    "Example"
   ]
  },
  {
   "cell_type": "code",
   "execution_count": 28,
   "id": "a43a30ae",
   "metadata": {},
   "outputs": [],
   "source": [
    "from sklearn.preprocessing import StandardScaler"
   ]
  },
  {
   "cell_type": "code",
   "execution_count": 29,
   "id": "413447c6",
   "metadata": {},
   "outputs": [
    {
     "data": {
      "image/png": "[encoded data removed]",
      "text/plain": [
       "<Figure size 432x288 with 1 Axes>"
      ]
     },
     "metadata": {
      "needs_background": "light"
     },
     "output_type": "display_data"
    }
   ],
   "source": [
    "x=np.random.exponential(10,(1000))+np.random.normal(0,1,(1000))\n",
    "plt.hist((x-np.mean(x))/np.std(x),30); #simulation of what StandardScaler does"
   ]
  },
  {
   "cell_type": "markdown",
   "id": "d9110f0b",
   "metadata": {},
   "source": [
    "Weakness: The outliers still exist."
   ]
  },
  {
   "cell_type": "markdown",
   "id": "90cdff28",
   "metadata": {},
   "source": [
    "Idea: if we use quantiles instead of standard dev there might be less outliers."
   ]
  },
  {
   "cell_type": "code",
   "execution_count": 30,
   "id": "e2b57fcb",
   "metadata": {},
   "outputs": [],
   "source": [
    "from sklearn.preprocessing import QuantileTransformer"
   ]
  },
  {
   "cell_type": "code",
   "execution_count": 31,
   "id": "95907dbf",
   "metadata": {},
   "outputs": [],
   "source": [
    "#x_new=QuantileTransformer(n_quantiles=100).fit_transform(x)\n",
    "#plt.scatter(x_new[:,0],x_new[:,1],c=y)"
   ]
  },
  {
   "cell_type": "code",
   "execution_count": 32,
   "id": "589e7982",
   "metadata": {},
   "outputs": [],
   "source": [
    "#plot_output(scaler=StandardScaler())"
   ]
  },
  {
   "cell_type": "code",
   "execution_count": 33,
   "id": "6ed053d9",
   "metadata": {},
   "outputs": [],
   "source": [
    "#plot_output(scaler=QuantileTransformer(n_quantiles=100))"
   ]
  },
  {
   "cell_type": "markdown",
   "id": "b44247b9",
   "metadata": {},
   "source": [
    "Conclusion=QT is more stabile"
   ]
  },
  {
   "cell_type": "markdown",
   "id": "7638ea5a",
   "metadata": {},
   "source": [
    "Preprocessing on classes - transform text data f=to numeric data. I will use OneHotEncoder."
   ]
  },
  {
   "cell_type": "code",
   "execution_count": 34,
   "id": "70c23a63",
   "metadata": {},
   "outputs": [],
   "source": [
    "from sklearn.preprocessing import OneHotEncoder"
   ]
  },
  {
   "cell_type": "code",
   "execution_count": 35,
   "id": "95f2a4d2",
   "metadata": {},
   "outputs": [
    {
     "data": {
      "text/plain": [
       "array([['low'],\n",
       "       ['low'],\n",
       "       ['high'],\n",
       "       ['medium']], dtype='<U6')"
      ]
     },
     "execution_count": 35,
     "metadata": {},
     "output_type": "execute_result"
    }
   ],
   "source": [
    "arr=np.array([\"low\",\"low\",\"high\",\"medium\"]).reshape(-1,1)\n",
    "arr"
   ]
  },
  {
   "cell_type": "code",
   "execution_count": 36,
   "id": "229b7a66",
   "metadata": {},
   "outputs": [
    {
     "data": {
      "text/plain": [
       "array([[0., 1., 0.],\n",
       "       [0., 1., 0.],\n",
       "       [1., 0., 0.],\n",
       "       [0., 0., 1.]])"
      ]
     },
     "execution_count": 36,
     "metadata": {},
     "output_type": "execute_result"
    }
   ],
   "source": [
    "enc=OneHotEncoder(sparse=False,handle_unknown='ignore') #sparse=false means we will see what is in the sparse array\n",
    "enc.fit_transform(arr)"
   ]
  },
  {
   "cell_type": "code",
   "execution_count": 37,
   "id": "cf04eda0",
   "metadata": {},
   "outputs": [
    {
     "data": {
      "text/plain": [
       "array([[0., 0., 0.]])"
      ]
     },
     "execution_count": 37,
     "metadata": {},
     "output_type": "execute_result"
    }
   ],
   "source": [
    "enc.transform([[\"zero\"]]) #asking enc to transform something he never saw before"
   ]
  },
  {
   "cell_type": "markdown",
   "id": "c336cf39",
   "metadata": {},
   "source": [
    "### Metrics"
   ]
  },
  {
   "cell_type": "markdown",
   "id": "87afe83e",
   "metadata": {},
   "source": [
    "We compare out predicted y with the originial y using a metric."
   ]
  },
  {
   "cell_type": "code",
   "execution_count": 38,
   "id": "c1355164",
   "metadata": {},
   "outputs": [],
   "source": [
    "df = pd.read_csv('https://query.data.world/s/c6qoasfxtuksytje2zh3icfnniroxy')[:80_000]"
   ]
  },
  {
   "cell_type": "markdown",
   "id": "566f6f64",
   "metadata": {},
   "source": [
    "We want to predict the class. All features present the characteristic of a transactions (V1-V28). Those are xs. And y is the class."
   ]
  },
  {
   "cell_type": "code",
   "execution_count": 39,
   "id": "cd28e0f2",
   "metadata": {},
   "outputs": [
    {
     "data": {
      "text/plain": [
       "'Shapes of X=(80000, 29)y=(80000,), #Fraud Cases=196'"
      ]
     },
     "execution_count": 39,
     "metadata": {},
     "output_type": "execute_result"
    }
   ],
   "source": [
    "X=df.drop(columns=['Time','Amount','Class']).values\n",
    "y=df['Class'].values\n",
    "f\"Shapes of X={X.shape}y={y.shape}, #Fraud Cases={y.sum()}\" #lets see whats kind of dataset it is"
   ]
  },
  {
   "cell_type": "markdown",
   "id": "d382521e",
   "metadata": {},
   "source": [
    "We can see this dataset is unbalanced, as there should be more fraud cases than no-fraud cases. And here we only have 196 cases out of 80k."
   ]
  },
  {
   "cell_type": "code",
   "execution_count": 40,
   "id": "cbb94992",
   "metadata": {},
   "outputs": [
    {
     "data": {
      "text/plain": [
       "array([0, 0, 0, ..., 0, 0, 0], dtype=int64)"
      ]
     },
     "execution_count": 40,
     "metadata": {},
     "output_type": "execute_result"
    }
   ],
   "source": [
    "#logistic regression\n",
    "from sklearn.linear_model import LogisticRegression\n",
    "\n",
    "mod=LogisticRegression (max_iter=1000) #as this dataset is so imbalanced I have to adjust number of iterations (increase it)\n",
    "mod.fit(X,y).predict(X) #Fit and predict"
   ]
  },
  {
   "cell_type": "code",
   "execution_count": 41,
   "id": "060c590d",
   "metadata": {},
   "outputs": [
    {
     "data": {
      "text/plain": [
       "147"
      ]
     },
     "execution_count": 41,
     "metadata": {},
     "output_type": "execute_result"
    }
   ],
   "source": [
    "mod.fit(X,y).predict(X).sum()"
   ]
  },
  {
   "cell_type": "markdown",
   "id": "a905c187",
   "metadata": {},
   "source": [
    "Model predicts less cases then there actually is."
   ]
  },
  {
   "cell_type": "code",
   "execution_count": 42,
   "id": "b733fcc5",
   "metadata": {},
   "outputs": [
    {
     "data": {
      "text/plain": [
       "167"
      ]
     },
     "execution_count": 42,
     "metadata": {},
     "output_type": "execute_result"
    }
   ],
   "source": [
    "mod=LogisticRegression (class_weight={0:1,1:2},max_iter=1000) #class weight allows me to give weight to each class; for class 0 I assign weight 1 (non fraud), for class 1 (fraud), i give weight 2 so there is more weight on that class\n",
    "mod.fit(X,y).predict(X).sum() #Fit and predict"
   ]
  },
  {
   "cell_type": "markdown",
   "id": "ef87593c",
   "metadata": {},
   "source": [
    "I got more cases!"
   ]
  },
  {
   "cell_type": "code",
   "execution_count": 43,
   "id": "fcbe9b33",
   "metadata": {},
   "outputs": [
    {
     "data": {
      "text/plain": [
       "GridSearchCV(cv=4, estimator=LogisticRegression(max_iter=1000), n_jobs=-1,\n",
       "             param_grid={'class_weight': [{0: 1, 1: 2}, {0: 1, 1: 2},\n",
       "                                          {0: 1, 1: 2}]})"
      ]
     },
     "execution_count": 43,
     "metadata": {},
     "output_type": "execute_result"
    }
   ],
   "source": [
    "from sklearn.model_selection import GridSearchCV\n",
    "\n",
    "grid=GridSearchCV(\n",
    "    estimator=LogisticRegression(max_iter=1000),\n",
    "    param_grid={'class_weight':[{0:1,1:2} for v in range(1,4)]},\n",
    "    cv=4, #4 cross validations\n",
    "    n_jobs=-1) \n",
    "grid.fit(X,y)"
   ]
  },
  {
   "cell_type": "code",
   "execution_count": 44,
   "id": "110f3db8",
   "metadata": {},
   "outputs": [
    {
     "data": {
      "text/html": [
       "<div>\n",
       "<style scoped>\n",
       "    .dataframe tbody tr th:only-of-type {\n",
       "        vertical-align: middle;\n",
       "    }\n",
       "\n",
       "    .dataframe tbody tr th {\n",
       "        vertical-align: top;\n",
       "    }\n",
       "\n",
       "    .dataframe thead th {\n",
       "        text-align: right;\n",
       "    }\n",
       "</style>\n",
       "<table border=\"1\" class=\"dataframe\">\n",
       "  <thead>\n",
       "    <tr style=\"text-align: right;\">\n",
       "      <th></th>\n",
       "      <th>mean_fit_time</th>\n",
       "      <th>std_fit_time</th>\n",
       "      <th>mean_score_time</th>\n",
       "      <th>std_score_time</th>\n",
       "      <th>param_class_weight</th>\n",
       "      <th>params</th>\n",
       "      <th>split0_test_score</th>\n",
       "      <th>split1_test_score</th>\n",
       "      <th>split2_test_score</th>\n",
       "      <th>split3_test_score</th>\n",
       "      <th>mean_test_score</th>\n",
       "      <th>std_test_score</th>\n",
       "      <th>rank_test_score</th>\n",
       "    </tr>\n",
       "  </thead>\n",
       "  <tbody>\n",
       "    <tr>\n",
       "      <th>0</th>\n",
       "      <td>5.107790</td>\n",
       "      <td>3.862109</td>\n",
       "      <td>0.002500</td>\n",
       "      <td>0.002598</td>\n",
       "      <td>{0: 1, 1: 2}</td>\n",
       "      <td>{'class_weight': {0: 1, 1: 2}}</td>\n",
       "      <td>0.9425</td>\n",
       "      <td>0.9984</td>\n",
       "      <td>0.9996</td>\n",
       "      <td>0.9978</td>\n",
       "      <td>0.984575</td>\n",
       "      <td>0.024301</td>\n",
       "      <td>1</td>\n",
       "    </tr>\n",
       "    <tr>\n",
       "      <th>1</th>\n",
       "      <td>5.213669</td>\n",
       "      <td>3.717023</td>\n",
       "      <td>0.006594</td>\n",
       "      <td>0.002759</td>\n",
       "      <td>{0: 1, 1: 2}</td>\n",
       "      <td>{'class_weight': {0: 1, 1: 2}}</td>\n",
       "      <td>0.9425</td>\n",
       "      <td>0.9984</td>\n",
       "      <td>0.9996</td>\n",
       "      <td>0.9978</td>\n",
       "      <td>0.984575</td>\n",
       "      <td>0.024301</td>\n",
       "      <td>1</td>\n",
       "    </tr>\n",
       "    <tr>\n",
       "      <th>2</th>\n",
       "      <td>4.547659</td>\n",
       "      <td>3.130522</td>\n",
       "      <td>0.004002</td>\n",
       "      <td>0.002918</td>\n",
       "      <td>{0: 1, 1: 2}</td>\n",
       "      <td>{'class_weight': {0: 1, 1: 2}}</td>\n",
       "      <td>0.9425</td>\n",
       "      <td>0.9984</td>\n",
       "      <td>0.9996</td>\n",
       "      <td>0.9978</td>\n",
       "      <td>0.984575</td>\n",
       "      <td>0.024301</td>\n",
       "      <td>1</td>\n",
       "    </tr>\n",
       "  </tbody>\n",
       "</table>\n",
       "</div>"
      ],
      "text/plain": [
       "   mean_fit_time  std_fit_time  mean_score_time  std_score_time  \\\n",
       "0       5.107790      3.862109         0.002500        0.002598   \n",
       "1       5.213669      3.717023         0.006594        0.002759   \n",
       "2       4.547659      3.130522         0.004002        0.002918   \n",
       "\n",
       "  param_class_weight                          params  split0_test_score  \\\n",
       "0       {0: 1, 1: 2}  {'class_weight': {0: 1, 1: 2}}             0.9425   \n",
       "1       {0: 1, 1: 2}  {'class_weight': {0: 1, 1: 2}}             0.9425   \n",
       "2       {0: 1, 1: 2}  {'class_weight': {0: 1, 1: 2}}             0.9425   \n",
       "\n",
       "   split1_test_score  split2_test_score  split3_test_score  mean_test_score  \\\n",
       "0             0.9984             0.9996             0.9978         0.984575   \n",
       "1             0.9984             0.9996             0.9978         0.984575   \n",
       "2             0.9984             0.9996             0.9978         0.984575   \n",
       "\n",
       "   std_test_score  rank_test_score  \n",
       "0        0.024301                1  \n",
       "1        0.024301                1  \n",
       "2        0.024301                1  "
      ]
     },
     "execution_count": 44,
     "metadata": {},
     "output_type": "execute_result"
    }
   ],
   "source": [
    "pd.DataFrame(grid.cv_results_)"
   ]
  },
  {
   "cell_type": "markdown",
   "id": "b5316b92",
   "metadata": {},
   "source": [
    "We have score for each model, how did it come to this score if we didn't provide any metrics?\n",
    "The model has a bound method called score which is used (from metrics import accuracu_score) this is default. If we don't specify differently this will be the metrics.\n",
    "No, lets change it."
   ]
  },
  {
   "cell_type": "code",
   "execution_count": 45,
   "id": "51c59264",
   "metadata": {},
   "outputs": [
    {
     "data": {
      "text/plain": [
       "0.7904191616766467"
      ]
     },
     "execution_count": 45,
     "metadata": {},
     "output_type": "execute_result"
    }
   ],
   "source": [
    "from sklearn.metrics import precision_score, recall_score, make_scorer\n",
    "\n",
    "precision_score(y,grid.predict(X)) #we pass it true and predicted values"
   ]
  },
  {
   "cell_type": "code",
   "execution_count": 46,
   "id": "3a7b39d8",
   "metadata": {},
   "outputs": [
    {
     "data": {
      "text/plain": [
       "0.673469387755102"
      ]
     },
     "execution_count": 46,
     "metadata": {},
     "output_type": "execute_result"
    }
   ],
   "source": [
    "recall_score(y,grid.predict(X)) "
   ]
  },
  {
   "cell_type": "markdown",
   "id": "d64eee72",
   "metadata": {},
   "source": [
    "Recall tells me did i get all the fraud cases, precision says how accurate am i?"
   ]
  },
  {
   "cell_type": "markdown",
   "id": "3bab614d",
   "metadata": {},
   "source": [
    "Lets focus on precision."
   ]
  },
  {
   "cell_type": "code",
   "execution_count": 47,
   "id": "ebcd5aa4",
   "metadata": {},
   "outputs": [
    {
     "data": {
      "text/plain": [
       "GridSearchCV(cv=4, estimator=LogisticRegression(max_iter=1000), n_jobs=-1,\n",
       "             param_grid={'class_weight': [{0: 1, 1: 2}, {0: 1, 1: 2},\n",
       "                                          {0: 1, 1: 2}]},\n",
       "             refit='precision', return_train_score=True,\n",
       "             scoring={'precision': make_scorer(precision_score),\n",
       "                      'recall_score': make_scorer(recall_score)})"
      ]
     },
     "execution_count": 47,
     "metadata": {},
     "output_type": "execute_result"
    }
   ],
   "source": [
    "grid=GridSearchCV(\n",
    "    estimator=LogisticRegression(max_iter=1000),\n",
    "    param_grid={'class_weight':[{0:1,1:2} for v in range(1,4)]},\n",
    "    scoring={'precision':make_scorer(precision_score), 'recall_score':make_scorer(recall_score)},\n",
    "    refit='precision',#we have to mention this in order to tell the model that we want scikit to optimas over this exact scorer\n",
    "    return_train_score=True,\n",
    "    cv=4, #4 cross validations\n",
    "    n_jobs=-1) \n",
    "grid.fit(X,y)"
   ]
  },
  {
   "cell_type": "code",
   "execution_count": 48,
   "id": "028502cd",
   "metadata": {},
   "outputs": [
    {
     "data": {
      "text/html": [
       "<div>\n",
       "<style scoped>\n",
       "    .dataframe tbody tr th:only-of-type {\n",
       "        vertical-align: middle;\n",
       "    }\n",
       "\n",
       "    .dataframe tbody tr th {\n",
       "        vertical-align: top;\n",
       "    }\n",
       "\n",
       "    .dataframe thead th {\n",
       "        text-align: right;\n",
       "    }\n",
       "</style>\n",
       "<table border=\"1\" class=\"dataframe\">\n",
       "  <thead>\n",
       "    <tr style=\"text-align: right;\">\n",
       "      <th></th>\n",
       "      <th>mean_fit_time</th>\n",
       "      <th>std_fit_time</th>\n",
       "      <th>mean_score_time</th>\n",
       "      <th>std_score_time</th>\n",
       "      <th>param_class_weight</th>\n",
       "      <th>params</th>\n",
       "      <th>split0_test_precision</th>\n",
       "      <th>split1_test_precision</th>\n",
       "      <th>split2_test_precision</th>\n",
       "      <th>split3_test_precision</th>\n",
       "      <th>...</th>\n",
       "      <th>split3_test_recall_score</th>\n",
       "      <th>mean_test_recall_score</th>\n",
       "      <th>std_test_recall_score</th>\n",
       "      <th>rank_test_recall_score</th>\n",
       "      <th>split0_train_recall_score</th>\n",
       "      <th>split1_train_recall_score</th>\n",
       "      <th>split2_train_recall_score</th>\n",
       "      <th>split3_train_recall_score</th>\n",
       "      <th>mean_train_recall_score</th>\n",
       "      <th>std_train_recall_score</th>\n",
       "    </tr>\n",
       "  </thead>\n",
       "  <tbody>\n",
       "    <tr>\n",
       "      <th>0</th>\n",
       "      <td>5.284830</td>\n",
       "      <td>3.819094</td>\n",
       "      <td>0.021852</td>\n",
       "      <td>0.009487</td>\n",
       "      <td>{0: 1, 1: 2}</td>\n",
       "      <td>{'class_weight': {0: 1, 1: 2}}</td>\n",
       "      <td>0.038558</td>\n",
       "      <td>1.0</td>\n",
       "      <td>0.955556</td>\n",
       "      <td>0.857143</td>\n",
       "      <td>...</td>\n",
       "      <td>0.122449</td>\n",
       "      <td>0.571429</td>\n",
       "      <td>0.346639</td>\n",
       "      <td>1</td>\n",
       "      <td>0.843537</td>\n",
       "      <td>0.646259</td>\n",
       "      <td>0.585034</td>\n",
       "      <td>0.795918</td>\n",
       "      <td>0.717687</td>\n",
       "      <td>0.105661</td>\n",
       "    </tr>\n",
       "    <tr>\n",
       "      <th>1</th>\n",
       "      <td>5.308430</td>\n",
       "      <td>3.687167</td>\n",
       "      <td>0.018795</td>\n",
       "      <td>0.003973</td>\n",
       "      <td>{0: 1, 1: 2}</td>\n",
       "      <td>{'class_weight': {0: 1, 1: 2}}</td>\n",
       "      <td>0.038558</td>\n",
       "      <td>1.0</td>\n",
       "      <td>0.955556</td>\n",
       "      <td>0.857143</td>\n",
       "      <td>...</td>\n",
       "      <td>0.122449</td>\n",
       "      <td>0.571429</td>\n",
       "      <td>0.346639</td>\n",
       "      <td>1</td>\n",
       "      <td>0.843537</td>\n",
       "      <td>0.646259</td>\n",
       "      <td>0.585034</td>\n",
       "      <td>0.795918</td>\n",
       "      <td>0.717687</td>\n",
       "      <td>0.105661</td>\n",
       "    </tr>\n",
       "    <tr>\n",
       "      <th>2</th>\n",
       "      <td>4.574078</td>\n",
       "      <td>2.937535</td>\n",
       "      <td>0.013359</td>\n",
       "      <td>0.011201</td>\n",
       "      <td>{0: 1, 1: 2}</td>\n",
       "      <td>{'class_weight': {0: 1, 1: 2}}</td>\n",
       "      <td>0.038558</td>\n",
       "      <td>1.0</td>\n",
       "      <td>0.955556</td>\n",
       "      <td>0.857143</td>\n",
       "      <td>...</td>\n",
       "      <td>0.122449</td>\n",
       "      <td>0.571429</td>\n",
       "      <td>0.346639</td>\n",
       "      <td>1</td>\n",
       "      <td>0.843537</td>\n",
       "      <td>0.646259</td>\n",
       "      <td>0.585034</td>\n",
       "      <td>0.795918</td>\n",
       "      <td>0.717687</td>\n",
       "      <td>0.105661</td>\n",
       "    </tr>\n",
       "  </tbody>\n",
       "</table>\n",
       "<p>3 rows × 32 columns</p>\n",
       "</div>"
      ],
      "text/plain": [
       "   mean_fit_time  std_fit_time  mean_score_time  std_score_time  \\\n",
       "0       5.284830      3.819094         0.021852        0.009487   \n",
       "1       5.308430      3.687167         0.018795        0.003973   \n",
       "2       4.574078      2.937535         0.013359        0.011201   \n",
       "\n",
       "  param_class_weight                          params  split0_test_precision  \\\n",
       "0       {0: 1, 1: 2}  {'class_weight': {0: 1, 1: 2}}               0.038558   \n",
       "1       {0: 1, 1: 2}  {'class_weight': {0: 1, 1: 2}}               0.038558   \n",
       "2       {0: 1, 1: 2}  {'class_weight': {0: 1, 1: 2}}               0.038558   \n",
       "\n",
       "   split1_test_precision  split2_test_precision  split3_test_precision  ...  \\\n",
       "0                    1.0               0.955556               0.857143  ...   \n",
       "1                    1.0               0.955556               0.857143  ...   \n",
       "2                    1.0               0.955556               0.857143  ...   \n",
       "\n",
       "   split3_test_recall_score  mean_test_recall_score  std_test_recall_score  \\\n",
       "0                  0.122449                0.571429               0.346639   \n",
       "1                  0.122449                0.571429               0.346639   \n",
       "2                  0.122449                0.571429               0.346639   \n",
       "\n",
       "   rank_test_recall_score  split0_train_recall_score  \\\n",
       "0                       1                   0.843537   \n",
       "1                       1                   0.843537   \n",
       "2                       1                   0.843537   \n",
       "\n",
       "   split1_train_recall_score  split2_train_recall_score  \\\n",
       "0                   0.646259                   0.585034   \n",
       "1                   0.646259                   0.585034   \n",
       "2                   0.646259                   0.585034   \n",
       "\n",
       "   split3_train_recall_score  mean_train_recall_score  std_train_recall_score  \n",
       "0                   0.795918                 0.717687                0.105661  \n",
       "1                   0.795918                 0.717687                0.105661  \n",
       "2                   0.795918                 0.717687                0.105661  \n",
       "\n",
       "[3 rows x 32 columns]"
      ]
     },
     "execution_count": 48,
     "metadata": {},
     "output_type": "execute_result"
    }
   ],
   "source": [
    "pd.DataFrame(grid.cv_results_)"
   ]
  },
  {
   "cell_type": "markdown",
   "id": "9da67d44",
   "metadata": {},
   "source": [
    "Now I have well set up the grid search. Let's do a proper run."
   ]
  },
  {
   "cell_type": "code",
   "execution_count": 49,
   "id": "ee710bc3",
   "metadata": {},
   "outputs": [
    {
     "data": {
      "text/plain": [
       "GridSearchCV(cv=10, estimator=LogisticRegression(max_iter=1000), n_jobs=-1,\n",
       "             param_grid={'class_weight': [{0: 1, 1: 2}, {0: 1, 1: 2},\n",
       "                                          {0: 1, 1: 2}, {0: 1, 1: 2},\n",
       "                                          {0: 1, 1: 2}, {0: 1, 1: 2},\n",
       "                                          {0: 1, 1: 2}, {0: 1, 1: 2},\n",
       "                                          {0: 1, 1: 2}, {0: 1, 1: 2},\n",
       "                                          {0: 1, 1: 2}, {0: 1, 1: 2},\n",
       "                                          {0: 1, 1: 2}, {0: 1, 1: 2},\n",
       "                                          {0: 1, 1: 2}, {0: 1, 1: 2},\n",
       "                                          {0: 1, 1: 2}, {0: 1, 1: 2},\n",
       "                                          {0: 1, 1: 2}, {0: 1, 1: 2},\n",
       "                                          {0: 1, 1: 2}, {0: 1, 1: 2},\n",
       "                                          {0: 1, 1: 2}, {0: 1, 1: 2},\n",
       "                                          {0: 1, 1: 2}, {0: 1, 1: 2},\n",
       "                                          {0: 1, 1: 2}, {0: 1, 1: 2},\n",
       "                                          {0: 1, 1: 2}, {0: 1, 1: 2}]},\n",
       "             refit='precision', return_train_score=True,\n",
       "             scoring={'precision': make_scorer(precision_score),\n",
       "                      'recall_score': make_scorer(recall_score)})"
      ]
     },
     "execution_count": 49,
     "metadata": {},
     "output_type": "execute_result"
    }
   ],
   "source": [
    "grid=GridSearchCV(\n",
    "    estimator=LogisticRegression(max_iter=1000),\n",
    "    param_grid={'class_weight':[{0:1,1:2} for v in np.linspace(1,20,30)]}, #gives higher resolution than range\n",
    "    scoring={'precision':make_scorer(precision_score), 'recall_score':make_scorer(recall_score)},\n",
    "    refit='precision',#we have to mention this in order to tell the model that we want scikit to optimas over this exact scorer\n",
    "    return_train_score=True,\n",
    "    cv=10, #10 cross validations; more cv gives more accurate metrics\n",
    "    n_jobs=-1) \n",
    "grid.fit(X,y)"
   ]
  },
  {
   "cell_type": "code",
   "execution_count": 50,
   "id": "8a4967c0",
   "metadata": {},
   "outputs": [],
   "source": [
    "#plot the test and train scores\n",
    "\n",
    "#x is weight, y is scores; the middle is where I wanna be\n",
    "\n",
    "#I can also make mu own scorer by taking a function of e.g. (min (recall,precision))"
   ]
  },
  {
   "cell_type": "markdown",
   "id": "37cc5f52",
   "metadata": {},
   "source": [
    "Make scorer\n",
    "\n",
    "f(y_true,y_pred) -> s(est,X,y,w)\n",
    "\n",
    "It takes true and predicted values from a metrics function, and turns them into a object where i can pass estimator, x, y and sample maker.\n",
    "\n",
    "The idea is that sometimes you want to use that function in its original way, but sometimes you want to use it differently and you don't need to go back and forth.\n",
    "\n",
    "Also adding weights helps making a better metrics."
   ]
  },
  {
   "cell_type": "markdown",
   "id": "af6bf4cc",
   "metadata": {},
   "source": [
    "Outlier detector"
   ]
  },
  {
   "cell_type": "code",
   "execution_count": 51,
   "id": "70174b66",
   "metadata": {},
   "outputs": [
    {
     "data": {
      "text/plain": [
       "Counter({1: 77152, -1: 2848})"
      ]
     },
     "execution_count": 51,
     "metadata": {},
     "output_type": "execute_result"
    }
   ],
   "source": [
    "from collections import Counter\n",
    "from sklearn.ensemble import IsolationForest\n",
    "mod=IsolationForest().fit(X)\n",
    "Counter(mod.predict(X))\n"
   ]
  },
  {
   "cell_type": "code",
   "execution_count": 52,
   "id": "ac29076b",
   "metadata": {},
   "outputs": [
    {
     "data": {
      "text/plain": [
       "array([0, 0, 0, ..., 0, 0, 0])"
      ]
     },
     "execution_count": 52,
     "metadata": {},
     "output_type": "execute_result"
    }
   ],
   "source": [
    "np.where(mod.predict(X) ==-1,1,0)"
   ]
  },
  {
   "cell_type": "code",
   "execution_count": 53,
   "id": "98090c8b",
   "metadata": {},
   "outputs": [],
   "source": [
    "#1.19\n"
   ]
  },
  {
   "cell_type": "code",
   "execution_count": null,
   "id": "d73af0b8",
   "metadata": {},
   "outputs": [],
   "source": []
  },
  {
   "cell_type": "markdown",
   "id": "45021dae",
   "metadata": {},
   "source": [
    "## References"
   ]
  },
  {
   "cell_type": "markdown",
   "id": "dce48390",
   "metadata": {},
   "source": [
    "[1] scikit-learn. Available at http://scikit-learn.org.<br>\n",
    "[2] scikit-learn. Install. Available at http://scikit-learn.org/stable/install.html. <br>\n",
    "[3] Anaconda. Available at https://www.anaconda.com/. <br>\n",
    "[4] NumPy documentation. Available at https://numpy.org/doc/stable/index.html. <br>\n",
    "[5] SciPy documentation. Available at https://scipy.github.io/devdocs/index.html. <br>\n",
    "[6] Matplotlib user guide. Available at https://matplotlib.org/stable/users/index. <br>"
   ]
  },
  {
   "cell_type": "code",
   "execution_count": null,
   "id": "af31b686",
   "metadata": {},
   "outputs": [],
   "source": []
  }
 ],
 "metadata": {
  "kernelspec": {
   "display_name": "Python 3",
   "language": "python",
   "name": "python3"
  },
  "language_info": {
   "codemirror_mode": {
    "name": "ipython",
    "version": 3
   },
   "file_extension": ".py",
   "mimetype": "text/x-python",
   "name": "python",
   "nbconvert_exporter": "python",
   "pygments_lexer": "ipython3",
   "version": "3.8.8"
  }
 },
 "nbformat": 4,
 "nbformat_minor": 5
}
